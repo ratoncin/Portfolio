{
 "cells": [
  {
   "cell_type": "markdown",
   "id": "24cfcc32",
   "metadata": {},
   "source": [
    "#  <font color='orangered'> Текущий уровень потребительской лояльности, среди клиентов из России. </font> "
   ]
  },
  {
   "cell_type": "markdown",
   "id": "909df344",
   "metadata": {},
   "source": [
    "**Цель:**\n",
    "Заказчик этого исследования — большая телекоммуникационная компания, которая оказывает услуги на территории всего СНГ. Перед компанией стоит задача определить текущий уровень потребительской лояльности, или NPS (от англ. Net Promoter Score), среди клиентов из России. "
   ]
  },
  {
   "cell_type": "markdown",
   "id": "7689bde1",
   "metadata": {},
   "source": [
    "# <font color='orangered'> Оглавление </font> \n",
    "\n",
    "1. [Загрузка библиотек](#start1)\n",
    "2. [Подключение к базе](#start2)\n",
    "3. [Загрузка данных средствами SQL](#start3)\n",
    "4. [Предобработка данных](#start4)\n",
    "\n",
    "5. [Ссылка на дашборд](#superend\")\n"
   ]
  },
  {
   "cell_type": "markdown",
   "id": "0eb89bf4",
   "metadata": {},
   "source": [
    "## 1. Загрузка библиотек <a id=\"start\"></a> "
   ]
  },
  {
   "cell_type": "code",
   "execution_count": 9,
   "id": "fc7efa54",
   "metadata": {},
   "outputs": [],
   "source": [
    "import os\n",
    "import pandas as pd\n",
    "import numpy as np\n",
    "from sqlalchemy import create_engine"
   ]
  },
  {
   "cell_type": "markdown",
   "id": "1599c47f",
   "metadata": {},
   "source": [
    "## 2. Подключение к базе <a id=\"start2\"></a> "
   ]
  },
  {
   "cell_type": "code",
   "execution_count": 10,
   "id": "0017f8e7",
   "metadata": {},
   "outputs": [],
   "source": [
    "path_to_db_local = 'telecomm_csi.db'\n",
    "path_to_db_platform = r'C:\\Users\\NA321\\Desktop\\яндекс_проекты\\telecomm_csi.db' \n",
    "path_to_db = None\n",
    "\n",
    "if os.path.exists(path_to_db_local):\n",
    "    path_to_db = path_to_db_local\n",
    "elif os.path.exists(path_to_db_platform):\n",
    "    path_to_db = path_to_db_platform\n",
    "else:\n",
    "    raise Exception('Файл с базой данных SQLite не найден!')\n",
    "\n",
    "if path_to_db:\n",
    "    engine = create_engine(f'sqlite:///{path_to_db}', echo=False)"
   ]
  },
  {
   "cell_type": "markdown",
   "id": "949e10db",
   "metadata": {},
   "source": [
    "## 3. Загрузка данных средствами SQL <a id=\"start3\"></a> "
   ]
  },
  {
   "cell_type": "code",
   "execution_count": 11,
   "id": "84ebad43",
   "metadata": {},
   "outputs": [],
   "source": [
    "\n",
    "query = \"\"\"\n",
    "WITH \n",
    "u AS (SELECT *\n",
    "       FROM user),\n",
    "\n",
    "z AS (SELECT *\n",
    "      FROM location),\n",
    "\n",
    "s  AS (SELECT * \n",
    "     FROM age_segment),\n",
    "     \n",
    "n AS (SELECT * \n",
    "      FROM traffic_segment),\n",
    "\n",
    "l AS (SELECT *\n",
    "      FROM lifetime_segment)\n",
    "\n",
    "\n",
    "\n",
    "SELECT  u.user_id,\n",
    "        u.lt_day,\n",
    "        (CASE \n",
    "            WHEN u.lt_day <= 365 THEN 'new' \n",
    "            ELSE 'old' \n",
    "            END )AS is_new,\n",
    "        u.age,\n",
    "        (CASE \n",
    "            WHEN u.gender_segment = 1 THEN 'women' \n",
    "            WHEN u.gender_segment = 0 THEN 'men'\n",
    "            ELSE 'other' \n",
    "            END )AS gender_segment,\n",
    "        u.os_name,\n",
    "          \n",
    "        u.cpe_type_name,\n",
    "        z.country,\n",
    "        z.city,\n",
    "        SUBSTR (s.title, 3) AS age_segment,\n",
    "        SUBSTR (n.title, 3) As traffic_segment,\n",
    "        SUBSTR (l.title, 3) AS lifetime_segment,\n",
    "        u.nps_score,\n",
    "        (CASE\n",
    "           WHEN u.nps_score < 7 THEN 'detractors'\n",
    "           WHEN u.nps_score >= 7 AND u.nps_score < 9 THEN 'passives'\n",
    "           WHEN u.nps_score >= 9 THEN 'promoters'\n",
    "        END) AS nps_group\n",
    "        \n",
    "FROM  u\n",
    "LEFT JOIN z ON z.location_id=u.location_id\n",
    "LEFT JOIN s ON s.age_gr_id=u.age_gr_id\n",
    "LEFT JOIN n ON n.tr_gr_id=u.tr_gr_id\n",
    "LEFT JOIN l ON l.lt_gr_id=u.lt_gr_id;\n",
    "\"\"\"\n",
    "\n"
   ]
  },
  {
   "cell_type": "markdown",
   "id": "8994251b",
   "metadata": {},
   "source": [
    "## 4. Предобработка данных <a id=\"start4\"></a> "
   ]
  },
  {
   "cell_type": "code",
   "execution_count": 12,
   "id": "3965faf2",
   "metadata": {},
   "outputs": [
    {
     "data": {
      "text/html": [
       "<div>\n",
       "<style scoped>\n",
       "    .dataframe tbody tr th:only-of-type {\n",
       "        vertical-align: middle;\n",
       "    }\n",
       "\n",
       "    .dataframe tbody tr th {\n",
       "        vertical-align: top;\n",
       "    }\n",
       "\n",
       "    .dataframe thead th {\n",
       "        text-align: right;\n",
       "    }\n",
       "</style>\n",
       "<table border=\"1\" class=\"dataframe\">\n",
       "  <thead>\n",
       "    <tr style=\"text-align: right;\">\n",
       "      <th></th>\n",
       "      <th>user_id</th>\n",
       "      <th>lt_day</th>\n",
       "      <th>is_new</th>\n",
       "      <th>age</th>\n",
       "      <th>gender_segment</th>\n",
       "      <th>os_name</th>\n",
       "      <th>cpe_type_name</th>\n",
       "      <th>country</th>\n",
       "      <th>city</th>\n",
       "      <th>age_segment</th>\n",
       "      <th>traffic_segment</th>\n",
       "      <th>lifetime_segment</th>\n",
       "      <th>nps_score</th>\n",
       "      <th>nps_group</th>\n",
       "    </tr>\n",
       "  </thead>\n",
       "  <tbody>\n",
       "    <tr>\n",
       "      <th>0</th>\n",
       "      <td>A001A2</td>\n",
       "      <td>2320</td>\n",
       "      <td>old</td>\n",
       "      <td>45.0</td>\n",
       "      <td>women</td>\n",
       "      <td>ANDROID</td>\n",
       "      <td>SMARTPHONE</td>\n",
       "      <td>Россия</td>\n",
       "      <td>Уфа</td>\n",
       "      <td>45-54</td>\n",
       "      <td>1-5</td>\n",
       "      <td>36+</td>\n",
       "      <td>10</td>\n",
       "      <td>promoters</td>\n",
       "    </tr>\n",
       "    <tr>\n",
       "      <th>1</th>\n",
       "      <td>A001WF</td>\n",
       "      <td>2344</td>\n",
       "      <td>old</td>\n",
       "      <td>53.0</td>\n",
       "      <td>men</td>\n",
       "      <td>ANDROID</td>\n",
       "      <td>SMARTPHONE</td>\n",
       "      <td>Россия</td>\n",
       "      <td>Киров</td>\n",
       "      <td>45-54</td>\n",
       "      <td>1-5</td>\n",
       "      <td>36+</td>\n",
       "      <td>10</td>\n",
       "      <td>promoters</td>\n",
       "    </tr>\n",
       "    <tr>\n",
       "      <th>2</th>\n",
       "      <td>A003Q7</td>\n",
       "      <td>467</td>\n",
       "      <td>old</td>\n",
       "      <td>57.0</td>\n",
       "      <td>men</td>\n",
       "      <td>ANDROID</td>\n",
       "      <td>SMARTPHONE</td>\n",
       "      <td>Россия</td>\n",
       "      <td>Москва</td>\n",
       "      <td>55-64</td>\n",
       "      <td>20-25</td>\n",
       "      <td>13-24</td>\n",
       "      <td>10</td>\n",
       "      <td>promoters</td>\n",
       "    </tr>\n",
       "    <tr>\n",
       "      <th>3</th>\n",
       "      <td>A004TB</td>\n",
       "      <td>4190</td>\n",
       "      <td>old</td>\n",
       "      <td>44.0</td>\n",
       "      <td>women</td>\n",
       "      <td>IOS</td>\n",
       "      <td>SMARTPHONE</td>\n",
       "      <td>Россия</td>\n",
       "      <td>РостовнаДону</td>\n",
       "      <td>35-44</td>\n",
       "      <td>0.1-1</td>\n",
       "      <td>36+</td>\n",
       "      <td>10</td>\n",
       "      <td>promoters</td>\n",
       "    </tr>\n",
       "    <tr>\n",
       "      <th>4</th>\n",
       "      <td>A004XT</td>\n",
       "      <td>1163</td>\n",
       "      <td>old</td>\n",
       "      <td>24.0</td>\n",
       "      <td>men</td>\n",
       "      <td>ANDROID</td>\n",
       "      <td>SMARTPHONE</td>\n",
       "      <td>Россия</td>\n",
       "      <td>Рязань</td>\n",
       "      <td>16-24</td>\n",
       "      <td>5-10</td>\n",
       "      <td>36+</td>\n",
       "      <td>10</td>\n",
       "      <td>promoters</td>\n",
       "    </tr>\n",
       "  </tbody>\n",
       "</table>\n",
       "</div>"
      ],
      "text/plain": [
       "  user_id  lt_day is_new   age gender_segment  os_name cpe_type_name country  \\\n",
       "0  A001A2    2320    old  45.0          women  ANDROID    SMARTPHONE  Россия   \n",
       "1  A001WF    2344    old  53.0            men  ANDROID    SMARTPHONE  Россия   \n",
       "2  A003Q7     467    old  57.0            men  ANDROID    SMARTPHONE  Россия   \n",
       "3  A004TB    4190    old  44.0          women      IOS    SMARTPHONE  Россия   \n",
       "4  A004XT    1163    old  24.0            men  ANDROID    SMARTPHONE  Россия   \n",
       "\n",
       "           city age_segment traffic_segment lifetime_segment  nps_score  \\\n",
       "0           Уфа       45-54             1-5              36+         10   \n",
       "1         Киров       45-54             1-5              36+         10   \n",
       "2        Москва       55-64           20-25            13-24         10   \n",
       "3  РостовнаДону       35-44           0.1-1              36+         10   \n",
       "4        Рязань       16-24            5-10              36+         10   \n",
       "\n",
       "   nps_group  \n",
       "0  promoters  \n",
       "1  promoters  \n",
       "2  promoters  \n",
       "3  promoters  \n",
       "4  promoters  "
      ]
     },
     "execution_count": 12,
     "metadata": {},
     "output_type": "execute_result"
    }
   ],
   "source": [
    "df = pd.read_sql(query, engine)\n",
    "df.head(5)"
   ]
  },
  {
   "cell_type": "code",
   "execution_count": 13,
   "id": "9db04858",
   "metadata": {},
   "outputs": [],
   "source": [
    "df.to_csv('telecomm_csi_tableau.csv', index=False)"
   ]
  },
  {
   "cell_type": "markdown",
   "id": "214d1ce0",
   "metadata": {},
   "source": [
    "Получим информацию о данных, а также информацию о пропусках."
   ]
  },
  {
   "cell_type": "code",
   "execution_count": 14,
   "id": "72da8126",
   "metadata": {},
   "outputs": [
    {
     "name": "stdout",
     "output_type": "stream",
     "text": [
      "<class 'pandas.core.frame.DataFrame'>\n",
      "RangeIndex: 502493 entries, 0 to 502492\n",
      "Data columns (total 14 columns):\n",
      " #   Column            Non-Null Count   Dtype  \n",
      "---  ------            --------------   -----  \n",
      " 0   user_id           502493 non-null  object \n",
      " 1   lt_day            502493 non-null  int64  \n",
      " 2   is_new            502493 non-null  object \n",
      " 3   age               501939 non-null  float64\n",
      " 4   gender_segment    502493 non-null  object \n",
      " 5   os_name           502493 non-null  object \n",
      " 6   cpe_type_name     502493 non-null  object \n",
      " 7   country           502493 non-null  object \n",
      " 8   city              502493 non-null  object \n",
      " 9   age_segment       502493 non-null  object \n",
      " 10  traffic_segment   502493 non-null  object \n",
      " 11  lifetime_segment  502493 non-null  object \n",
      " 12  nps_score         502493 non-null  int64  \n",
      " 13  nps_group         502493 non-null  object \n",
      "dtypes: float64(1), int64(2), object(11)\n",
      "memory usage: 53.7+ MB\n"
     ]
    }
   ],
   "source": [
    "df.info()"
   ]
  },
  {
   "cell_type": "code",
   "execution_count": 15,
   "id": "be610eae",
   "metadata": {},
   "outputs": [
    {
     "data": {
      "text/plain": [
       "user_id               0\n",
       "lt_day                0\n",
       "is_new                0\n",
       "age                 554\n",
       "gender_segment        0\n",
       "os_name               0\n",
       "cpe_type_name         0\n",
       "country               0\n",
       "city                  0\n",
       "age_segment           0\n",
       "traffic_segment       0\n",
       "lifetime_segment      0\n",
       "nps_score             0\n",
       "nps_group             0\n",
       "dtype: int64"
      ]
     },
     "execution_count": 15,
     "metadata": {},
     "output_type": "execute_result"
    }
   ],
   "source": [
    "df.isna().sum()"
   ]
  },
  {
   "cell_type": "markdown",
   "id": "3b31a95b",
   "metadata": {},
   "source": [
    "Данные содержат информацию о 502493 пользователей, и 554 пропуска в столбце с информацией о возрасте."
   ]
  },
  {
   "cell_type": "code",
   "execution_count": 16,
   "id": "1d87c969",
   "metadata": {},
   "outputs": [
    {
     "data": {
      "text/html": [
       "<div>\n",
       "<style scoped>\n",
       "    .dataframe tbody tr th:only-of-type {\n",
       "        vertical-align: middle;\n",
       "    }\n",
       "\n",
       "    .dataframe tbody tr th {\n",
       "        vertical-align: top;\n",
       "    }\n",
       "\n",
       "    .dataframe thead th {\n",
       "        text-align: right;\n",
       "    }\n",
       "</style>\n",
       "<table border=\"1\" class=\"dataframe\">\n",
       "  <thead>\n",
       "    <tr style=\"text-align: right;\">\n",
       "      <th></th>\n",
       "      <th>lt_day</th>\n",
       "      <th>age</th>\n",
       "      <th>nps_score</th>\n",
       "    </tr>\n",
       "  </thead>\n",
       "  <tbody>\n",
       "    <tr>\n",
       "      <th>count</th>\n",
       "      <td>502493.000000</td>\n",
       "      <td>501939.000000</td>\n",
       "      <td>502493.000000</td>\n",
       "    </tr>\n",
       "    <tr>\n",
       "      <th>mean</th>\n",
       "      <td>1868.841439</td>\n",
       "      <td>39.621946</td>\n",
       "      <td>7.508562</td>\n",
       "    </tr>\n",
       "    <tr>\n",
       "      <th>std</th>\n",
       "      <td>1683.701762</td>\n",
       "      <td>11.188249</td>\n",
       "      <td>3.020378</td>\n",
       "    </tr>\n",
       "    <tr>\n",
       "      <th>min</th>\n",
       "      <td>-21.000000</td>\n",
       "      <td>10.000000</td>\n",
       "      <td>1.000000</td>\n",
       "    </tr>\n",
       "    <tr>\n",
       "      <th>25%</th>\n",
       "      <td>533.000000</td>\n",
       "      <td>31.000000</td>\n",
       "      <td>5.000000</td>\n",
       "    </tr>\n",
       "    <tr>\n",
       "      <th>50%</th>\n",
       "      <td>1239.000000</td>\n",
       "      <td>38.000000</td>\n",
       "      <td>9.000000</td>\n",
       "    </tr>\n",
       "    <tr>\n",
       "      <th>75%</th>\n",
       "      <td>3064.000000</td>\n",
       "      <td>47.000000</td>\n",
       "      <td>10.000000</td>\n",
       "    </tr>\n",
       "    <tr>\n",
       "      <th>max</th>\n",
       "      <td>9162.000000</td>\n",
       "      <td>89.000000</td>\n",
       "      <td>10.000000</td>\n",
       "    </tr>\n",
       "  </tbody>\n",
       "</table>\n",
       "</div>"
      ],
      "text/plain": [
       "              lt_day            age      nps_score\n",
       "count  502493.000000  501939.000000  502493.000000\n",
       "mean     1868.841439      39.621946       7.508562\n",
       "std      1683.701762      11.188249       3.020378\n",
       "min       -21.000000      10.000000       1.000000\n",
       "25%       533.000000      31.000000       5.000000\n",
       "50%      1239.000000      38.000000       9.000000\n",
       "75%      3064.000000      47.000000      10.000000\n",
       "max      9162.000000      89.000000      10.000000"
      ]
     },
     "execution_count": 16,
     "metadata": {},
     "output_type": "execute_result"
    }
   ],
   "source": [
    "df.describe()"
   ]
  },
  {
   "cell_type": "code",
   "execution_count": 17,
   "id": "54f7e44e",
   "metadata": {},
   "outputs": [
    {
     "data": {
      "text/html": [
       "<div>\n",
       "<style scoped>\n",
       "    .dataframe tbody tr th:only-of-type {\n",
       "        vertical-align: middle;\n",
       "    }\n",
       "\n",
       "    .dataframe tbody tr th {\n",
       "        vertical-align: top;\n",
       "    }\n",
       "\n",
       "    .dataframe thead th {\n",
       "        text-align: right;\n",
       "    }\n",
       "</style>\n",
       "<table border=\"1\" class=\"dataframe\">\n",
       "  <thead>\n",
       "    <tr style=\"text-align: right;\">\n",
       "      <th></th>\n",
       "      <th>user_id</th>\n",
       "      <th>lt_day</th>\n",
       "      <th>is_new</th>\n",
       "      <th>age</th>\n",
       "      <th>gender_segment</th>\n",
       "      <th>os_name</th>\n",
       "      <th>cpe_type_name</th>\n",
       "      <th>country</th>\n",
       "      <th>city</th>\n",
       "      <th>age_segment</th>\n",
       "      <th>traffic_segment</th>\n",
       "      <th>lifetime_segment</th>\n",
       "      <th>nps_score</th>\n",
       "      <th>nps_group</th>\n",
       "    </tr>\n",
       "  </thead>\n",
       "  <tbody>\n",
       "    <tr>\n",
       "      <th>7666</th>\n",
       "      <td>AEAC2R</td>\n",
       "      <td>-8</td>\n",
       "      <td>new</td>\n",
       "      <td>NaN</td>\n",
       "      <td>other</td>\n",
       "      <td>ANDROID</td>\n",
       "      <td>SMARTPHONE</td>\n",
       "      <td>Россия</td>\n",
       "      <td>Томск</td>\n",
       "      <td>n/a</td>\n",
       "      <td>15-20</td>\n",
       "      <td>36+</td>\n",
       "      <td>1</td>\n",
       "      <td>detractors</td>\n",
       "    </tr>\n",
       "    <tr>\n",
       "      <th>53997</th>\n",
       "      <td>CS0HF8</td>\n",
       "      <td>-2</td>\n",
       "      <td>new</td>\n",
       "      <td>NaN</td>\n",
       "      <td>other</td>\n",
       "      <td>ANDROID</td>\n",
       "      <td>SMARTPHONE</td>\n",
       "      <td>Россия</td>\n",
       "      <td>Ижевск</td>\n",
       "      <td>n/a</td>\n",
       "      <td>20-25</td>\n",
       "      <td>36+</td>\n",
       "      <td>10</td>\n",
       "      <td>promoters</td>\n",
       "    </tr>\n",
       "    <tr>\n",
       "      <th>71577</th>\n",
       "      <td>DORPT2</td>\n",
       "      <td>-4</td>\n",
       "      <td>new</td>\n",
       "      <td>NaN</td>\n",
       "      <td>other</td>\n",
       "      <td>ANDROID</td>\n",
       "      <td>SMARTPHONE</td>\n",
       "      <td>Россия</td>\n",
       "      <td>Москва</td>\n",
       "      <td>n/a</td>\n",
       "      <td>20-25</td>\n",
       "      <td>36+</td>\n",
       "      <td>4</td>\n",
       "      <td>detractors</td>\n",
       "    </tr>\n",
       "    <tr>\n",
       "      <th>100152</th>\n",
       "      <td>F5O3CG</td>\n",
       "      <td>-21</td>\n",
       "      <td>new</td>\n",
       "      <td>NaN</td>\n",
       "      <td>other</td>\n",
       "      <td>ANDROID</td>\n",
       "      <td>SMARTPHONE</td>\n",
       "      <td>Россия</td>\n",
       "      <td>Чита</td>\n",
       "      <td>n/a</td>\n",
       "      <td>35-40</td>\n",
       "      <td>36+</td>\n",
       "      <td>7</td>\n",
       "      <td>passives</td>\n",
       "    </tr>\n",
       "    <tr>\n",
       "      <th>228087</th>\n",
       "      <td>LSE939</td>\n",
       "      <td>-13</td>\n",
       "      <td>new</td>\n",
       "      <td>NaN</td>\n",
       "      <td>other</td>\n",
       "      <td>ANDROID</td>\n",
       "      <td>SMARTPHONE</td>\n",
       "      <td>Россия</td>\n",
       "      <td>Краснодар</td>\n",
       "      <td>n/a</td>\n",
       "      <td>15-20</td>\n",
       "      <td>36+</td>\n",
       "      <td>1</td>\n",
       "      <td>detractors</td>\n",
       "    </tr>\n",
       "    <tr>\n",
       "      <th>325212</th>\n",
       "      <td>QTT7IR</td>\n",
       "      <td>-13</td>\n",
       "      <td>new</td>\n",
       "      <td>NaN</td>\n",
       "      <td>other</td>\n",
       "      <td>IOS</td>\n",
       "      <td>SMARTPHONE</td>\n",
       "      <td>Россия</td>\n",
       "      <td>Москва</td>\n",
       "      <td>n/a</td>\n",
       "      <td>10-15</td>\n",
       "      <td>36+</td>\n",
       "      <td>7</td>\n",
       "      <td>passives</td>\n",
       "    </tr>\n",
       "    <tr>\n",
       "      <th>347784</th>\n",
       "      <td>RZUS6H</td>\n",
       "      <td>-6</td>\n",
       "      <td>new</td>\n",
       "      <td>NaN</td>\n",
       "      <td>other</td>\n",
       "      <td>ANDROID</td>\n",
       "      <td>SMARTPHONE</td>\n",
       "      <td>Россия</td>\n",
       "      <td>Красноярск</td>\n",
       "      <td>n/a</td>\n",
       "      <td>30-35</td>\n",
       "      <td>36+</td>\n",
       "      <td>3</td>\n",
       "      <td>detractors</td>\n",
       "    </tr>\n",
       "    <tr>\n",
       "      <th>385897</th>\n",
       "      <td>TYWQW4</td>\n",
       "      <td>-12</td>\n",
       "      <td>new</td>\n",
       "      <td>NaN</td>\n",
       "      <td>other</td>\n",
       "      <td>IOS</td>\n",
       "      <td>SMARTPHONE</td>\n",
       "      <td>Россия</td>\n",
       "      <td>Новосибирск</td>\n",
       "      <td>n/a</td>\n",
       "      <td>1-5</td>\n",
       "      <td>36+</td>\n",
       "      <td>5</td>\n",
       "      <td>detractors</td>\n",
       "    </tr>\n",
       "    <tr>\n",
       "      <th>401226</th>\n",
       "      <td>URKAFI</td>\n",
       "      <td>-11</td>\n",
       "      <td>new</td>\n",
       "      <td>NaN</td>\n",
       "      <td>other</td>\n",
       "      <td>ANDROID</td>\n",
       "      <td>SMARTPHONE</td>\n",
       "      <td>Россия</td>\n",
       "      <td>НижнийНовгород</td>\n",
       "      <td>n/a</td>\n",
       "      <td>10-15</td>\n",
       "      <td>36+</td>\n",
       "      <td>8</td>\n",
       "      <td>passives</td>\n",
       "    </tr>\n",
       "    <tr>\n",
       "      <th>407160</th>\n",
       "      <td>V2GNK2</td>\n",
       "      <td>-13</td>\n",
       "      <td>new</td>\n",
       "      <td>NaN</td>\n",
       "      <td>other</td>\n",
       "      <td>IOS</td>\n",
       "      <td>SMARTPHONE</td>\n",
       "      <td>Россия</td>\n",
       "      <td>РостовнаДону</td>\n",
       "      <td>n/a</td>\n",
       "      <td>15-20</td>\n",
       "      <td>36+</td>\n",
       "      <td>5</td>\n",
       "      <td>detractors</td>\n",
       "    </tr>\n",
       "    <tr>\n",
       "      <th>425927</th>\n",
       "      <td>W17RFH</td>\n",
       "      <td>-1</td>\n",
       "      <td>new</td>\n",
       "      <td>NaN</td>\n",
       "      <td>other</td>\n",
       "      <td>ANDROID</td>\n",
       "      <td>SMARTPHONE</td>\n",
       "      <td>Россия</td>\n",
       "      <td>Москва</td>\n",
       "      <td>n/a</td>\n",
       "      <td>1-5</td>\n",
       "      <td>36+</td>\n",
       "      <td>5</td>\n",
       "      <td>detractors</td>\n",
       "    </tr>\n",
       "    <tr>\n",
       "      <th>455359</th>\n",
       "      <td>XKF9SN</td>\n",
       "      <td>-12</td>\n",
       "      <td>new</td>\n",
       "      <td>NaN</td>\n",
       "      <td>other</td>\n",
       "      <td>ANDROID</td>\n",
       "      <td>SMARTPHONE</td>\n",
       "      <td>Россия</td>\n",
       "      <td>Уфа</td>\n",
       "      <td>n/a</td>\n",
       "      <td>100+</td>\n",
       "      <td>36+</td>\n",
       "      <td>9</td>\n",
       "      <td>promoters</td>\n",
       "    </tr>\n",
       "    <tr>\n",
       "      <th>492382</th>\n",
       "      <td>ZGUUY9</td>\n",
       "      <td>-7</td>\n",
       "      <td>new</td>\n",
       "      <td>NaN</td>\n",
       "      <td>other</td>\n",
       "      <td>ANDROID</td>\n",
       "      <td>SMARTPHONE</td>\n",
       "      <td>Россия</td>\n",
       "      <td>Красноярск</td>\n",
       "      <td>n/a</td>\n",
       "      <td>5-10</td>\n",
       "      <td>36+</td>\n",
       "      <td>8</td>\n",
       "      <td>passives</td>\n",
       "    </tr>\n",
       "  </tbody>\n",
       "</table>\n",
       "</div>"
      ],
      "text/plain": [
       "       user_id  lt_day is_new  age gender_segment  os_name cpe_type_name  \\\n",
       "7666    AEAC2R      -8    new  NaN          other  ANDROID    SMARTPHONE   \n",
       "53997   CS0HF8      -2    new  NaN          other  ANDROID    SMARTPHONE   \n",
       "71577   DORPT2      -4    new  NaN          other  ANDROID    SMARTPHONE   \n",
       "100152  F5O3CG     -21    new  NaN          other  ANDROID    SMARTPHONE   \n",
       "228087  LSE939     -13    new  NaN          other  ANDROID    SMARTPHONE   \n",
       "325212  QTT7IR     -13    new  NaN          other      IOS    SMARTPHONE   \n",
       "347784  RZUS6H      -6    new  NaN          other  ANDROID    SMARTPHONE   \n",
       "385897  TYWQW4     -12    new  NaN          other      IOS    SMARTPHONE   \n",
       "401226  URKAFI     -11    new  NaN          other  ANDROID    SMARTPHONE   \n",
       "407160  V2GNK2     -13    new  NaN          other      IOS    SMARTPHONE   \n",
       "425927  W17RFH      -1    new  NaN          other  ANDROID    SMARTPHONE   \n",
       "455359  XKF9SN     -12    new  NaN          other  ANDROID    SMARTPHONE   \n",
       "492382  ZGUUY9      -7    new  NaN          other  ANDROID    SMARTPHONE   \n",
       "\n",
       "       country            city age_segment traffic_segment lifetime_segment  \\\n",
       "7666    Россия           Томск         n/a           15-20              36+   \n",
       "53997   Россия          Ижевск         n/a           20-25              36+   \n",
       "71577   Россия          Москва         n/a           20-25              36+   \n",
       "100152  Россия            Чита         n/a           35-40              36+   \n",
       "228087  Россия       Краснодар         n/a           15-20              36+   \n",
       "325212  Россия          Москва         n/a           10-15              36+   \n",
       "347784  Россия      Красноярск         n/a           30-35              36+   \n",
       "385897  Россия     Новосибирск         n/a             1-5              36+   \n",
       "401226  Россия  НижнийНовгород         n/a           10-15              36+   \n",
       "407160  Россия    РостовнаДону         n/a           15-20              36+   \n",
       "425927  Россия          Москва         n/a             1-5              36+   \n",
       "455359  Россия             Уфа         n/a            100+              36+   \n",
       "492382  Россия      Красноярск         n/a            5-10              36+   \n",
       "\n",
       "        nps_score   nps_group  \n",
       "7666            1  detractors  \n",
       "53997          10   promoters  \n",
       "71577           4  detractors  \n",
       "100152          7    passives  \n",
       "228087          1  detractors  \n",
       "325212          7    passives  \n",
       "347784          3  detractors  \n",
       "385897          5  detractors  \n",
       "401226          8    passives  \n",
       "407160          5  detractors  \n",
       "425927          5  detractors  \n",
       "455359          9   promoters  \n",
       "492382          8    passives  "
      ]
     },
     "execution_count": 17,
     "metadata": {},
     "output_type": "execute_result"
    }
   ],
   "source": [
    "problem_df1 = df.loc[df['lt_day'] < 0]\n",
    "problem_df1"
   ]
  },
  {
   "cell_type": "code",
   "execution_count": 18,
   "id": "cef299ad",
   "metadata": {},
   "outputs": [
    {
     "name": "stdout",
     "output_type": "stream",
     "text": [
      "Отрицательные значения срока заключения контракта содержатся в 13 строках.\n"
     ]
    }
   ],
   "source": [
    "print('Отрицательные значения срока заключения контракта содержатся в', problem_df1.count()[0], 'строках.')"
   ]
  },
  {
   "cell_type": "code",
   "execution_count": 19,
   "id": "dab28367",
   "metadata": {},
   "outputs": [
    {
     "data": {
      "text/plain": [
       "array(['old', 'new'], dtype=object)"
      ]
     },
     "execution_count": 19,
     "metadata": {},
     "output_type": "execute_result"
    }
   ],
   "source": [
    "df['is_new'].unique()"
   ]
  },
  {
   "cell_type": "code",
   "execution_count": 20,
   "id": "fc127456",
   "metadata": {},
   "outputs": [
    {
     "data": {
      "text/plain": [
       "array(['women', 'men', 'other'], dtype=object)"
      ]
     },
     "execution_count": 20,
     "metadata": {},
     "output_type": "execute_result"
    }
   ],
   "source": [
    "df['gender_segment'].unique()"
   ]
  },
  {
   "cell_type": "code",
   "execution_count": 21,
   "id": "7f249f3b",
   "metadata": {},
   "outputs": [
    {
     "data": {
      "text/plain": [
       "gender_segment\n",
       "women    272442\n",
       "men      228750\n",
       "other      1301\n",
       "Name: count, dtype: int64"
      ]
     },
     "execution_count": 21,
     "metadata": {},
     "output_type": "execute_result"
    }
   ],
   "source": [
    "df['gender_segment'].value_counts()"
   ]
  },
  {
   "cell_type": "code",
   "execution_count": 22,
   "id": "f06c0829",
   "metadata": {},
   "outputs": [
    {
     "data": {
      "text/plain": [
       "gender_segment\n",
       "women    272442\n",
       "men      228750\n",
       "other      1301\n",
       "Name: count, dtype: int64"
      ]
     },
     "execution_count": 22,
     "metadata": {},
     "output_type": "execute_result"
    }
   ],
   "source": [
    "df['gender_segment'].value_counts()"
   ]
  },
  {
   "cell_type": "code",
   "execution_count": 23,
   "id": "1be62654",
   "metadata": {},
   "outputs": [
    {
     "data": {
      "text/html": [
       "<div>\n",
       "<style scoped>\n",
       "    .dataframe tbody tr th:only-of-type {\n",
       "        vertical-align: middle;\n",
       "    }\n",
       "\n",
       "    .dataframe tbody tr th {\n",
       "        vertical-align: top;\n",
       "    }\n",
       "\n",
       "    .dataframe thead th {\n",
       "        text-align: right;\n",
       "    }\n",
       "</style>\n",
       "<table border=\"1\" class=\"dataframe\">\n",
       "  <thead>\n",
       "    <tr style=\"text-align: right;\">\n",
       "      <th></th>\n",
       "      <th>user_id</th>\n",
       "      <th>lt_day</th>\n",
       "      <th>is_new</th>\n",
       "      <th>age</th>\n",
       "      <th>gender_segment</th>\n",
       "      <th>os_name</th>\n",
       "      <th>cpe_type_name</th>\n",
       "      <th>country</th>\n",
       "      <th>city</th>\n",
       "      <th>age_segment</th>\n",
       "      <th>traffic_segment</th>\n",
       "      <th>lifetime_segment</th>\n",
       "      <th>nps_score</th>\n",
       "      <th>nps_group</th>\n",
       "    </tr>\n",
       "  </thead>\n",
       "  <tbody>\n",
       "    <tr>\n",
       "      <th>751</th>\n",
       "      <td>A1E59W</td>\n",
       "      <td>4055</td>\n",
       "      <td>old</td>\n",
       "      <td>NaN</td>\n",
       "      <td>other</td>\n",
       "      <td>ANDROID</td>\n",
       "      <td>SMARTPHONE</td>\n",
       "      <td>Россия</td>\n",
       "      <td>Екатеринбург</td>\n",
       "      <td>n/a</td>\n",
       "      <td>1-5</td>\n",
       "      <td>36+</td>\n",
       "      <td>1</td>\n",
       "      <td>detractors</td>\n",
       "    </tr>\n",
       "    <tr>\n",
       "      <th>950</th>\n",
       "      <td>A1S6VL</td>\n",
       "      <td>335</td>\n",
       "      <td>new</td>\n",
       "      <td>40.0</td>\n",
       "      <td>other</td>\n",
       "      <td>ANDROID</td>\n",
       "      <td>TABLET</td>\n",
       "      <td>Россия</td>\n",
       "      <td>Иваново</td>\n",
       "      <td>35-44</td>\n",
       "      <td>15-20</td>\n",
       "      <td>7-12</td>\n",
       "      <td>8</td>\n",
       "      <td>passives</td>\n",
       "    </tr>\n",
       "    <tr>\n",
       "      <th>1209</th>\n",
       "      <td>A28ZDT</td>\n",
       "      <td>4243</td>\n",
       "      <td>old</td>\n",
       "      <td>NaN</td>\n",
       "      <td>other</td>\n",
       "      <td>ANDROID</td>\n",
       "      <td>SMARTPHONE</td>\n",
       "      <td>Россия</td>\n",
       "      <td>Хабаровск</td>\n",
       "      <td>n/a</td>\n",
       "      <td>1-5</td>\n",
       "      <td>36+</td>\n",
       "      <td>5</td>\n",
       "      <td>detractors</td>\n",
       "    </tr>\n",
       "    <tr>\n",
       "      <th>1321</th>\n",
       "      <td>A2GLPQ</td>\n",
       "      <td>2354</td>\n",
       "      <td>old</td>\n",
       "      <td>NaN</td>\n",
       "      <td>other</td>\n",
       "      <td>ANDROID</td>\n",
       "      <td>SMARTPHONE</td>\n",
       "      <td>Россия</td>\n",
       "      <td>Иркутск</td>\n",
       "      <td>n/a</td>\n",
       "      <td>10-15</td>\n",
       "      <td>36+</td>\n",
       "      <td>1</td>\n",
       "      <td>detractors</td>\n",
       "    </tr>\n",
       "    <tr>\n",
       "      <th>2113</th>\n",
       "      <td>A3XMNW</td>\n",
       "      <td>41</td>\n",
       "      <td>new</td>\n",
       "      <td>32.0</td>\n",
       "      <td>other</td>\n",
       "      <td>ANDROID</td>\n",
       "      <td>SMARTPHONE</td>\n",
       "      <td>Россия</td>\n",
       "      <td>СанктПетербург</td>\n",
       "      <td>25-34</td>\n",
       "      <td>0.1-1</td>\n",
       "      <td>2</td>\n",
       "      <td>1</td>\n",
       "      <td>detractors</td>\n",
       "    </tr>\n",
       "  </tbody>\n",
       "</table>\n",
       "</div>"
      ],
      "text/plain": [
       "     user_id  lt_day is_new   age gender_segment  os_name cpe_type_name  \\\n",
       "751   A1E59W    4055    old   NaN          other  ANDROID    SMARTPHONE   \n",
       "950   A1S6VL     335    new  40.0          other  ANDROID        TABLET   \n",
       "1209  A28ZDT    4243    old   NaN          other  ANDROID    SMARTPHONE   \n",
       "1321  A2GLPQ    2354    old   NaN          other  ANDROID    SMARTPHONE   \n",
       "2113  A3XMNW      41    new  32.0          other  ANDROID    SMARTPHONE   \n",
       "\n",
       "     country            city age_segment traffic_segment lifetime_segment  \\\n",
       "751   Россия    Екатеринбург         n/a             1-5              36+   \n",
       "950   Россия         Иваново       35-44           15-20             7-12   \n",
       "1209  Россия       Хабаровск         n/a             1-5              36+   \n",
       "1321  Россия         Иркутск         n/a           10-15              36+   \n",
       "2113  Россия  СанктПетербург       25-34           0.1-1                2   \n",
       "\n",
       "      nps_score   nps_group  \n",
       "751           1  detractors  \n",
       "950           8    passives  \n",
       "1209          5  detractors  \n",
       "1321          1  detractors  \n",
       "2113          1  detractors  "
      ]
     },
     "execution_count": 23,
     "metadata": {},
     "output_type": "execute_result"
    }
   ],
   "source": [
    "problem_df2=df.loc[df['gender_segment']=='other']\n",
    "a = problem_df2.shape [0]\n",
    "problem_df2.head(5)"
   ]
  },
  {
   "cell_type": "code",
   "execution_count": 24,
   "id": "5fb415e0",
   "metadata": {},
   "outputs": [
    {
     "name": "stdout",
     "output_type": "stream",
     "text": [
      "Данные с проблемами в колонке gender_segment 1301 строк.\n"
     ]
    }
   ],
   "source": [
    "print ('Данные с проблемами в колонке gender_segment', a, 'строк.')"
   ]
  },
  {
   "cell_type": "code",
   "execution_count": 25,
   "id": "8fcc07c2",
   "metadata": {},
   "outputs": [
    {
     "data": {
      "text/plain": [
       "array(['Уфа', 'Киров', 'Москва', 'РостовнаДону', 'Рязань', 'Омск',\n",
       "       'СанктПетербург', 'Волгоград', 'Тольятти', 'Казань', 'Самара',\n",
       "       'Красноярск', 'Екатеринбург', 'Калуга', 'Краснодар', 'Иркутск',\n",
       "       'Пермь', 'Владимир', 'Ижевск', 'Тюмень', 'Оренбург',\n",
       "       'НижнийНовгород', 'Брянск', 'Челябинск', 'Астрахань', 'Сургут',\n",
       "       'Тверь', 'Новосибирск', 'НабережныеЧелны', 'Махачкала', 'Воронеж',\n",
       "       'Курск', 'Владивосток', 'Балашиха', 'Пенза', 'Калининград', 'Тула',\n",
       "       'Саратов', 'Кемерово', 'Белгород', 'Барнаул', 'Чебоксары',\n",
       "       'Архангельск', 'Томск', 'Ярославль', 'Ульяновск', 'Хабаровск',\n",
       "       'Грозный', 'Ставрополь', 'Липецк', 'Новокузнецк', 'Якутск',\n",
       "       'УланУдэ', 'Сочи', 'Иваново', 'НижнийТагил', 'Смоленск',\n",
       "       'Волжский', 'Магнитогорск', 'Чита', 'Череповец', 'Саранск'],\n",
       "      dtype=object)"
      ]
     },
     "execution_count": 25,
     "metadata": {},
     "output_type": "execute_result"
    }
   ],
   "source": [
    "df['city'].unique()"
   ]
  },
  {
   "cell_type": "code",
   "execution_count": 26,
   "id": "54c562e6",
   "metadata": {},
   "outputs": [
    {
     "data": {
      "text/plain": [
       "array([10,  6,  9,  2,  5,  8,  1,  4,  7,  3], dtype=int64)"
      ]
     },
     "execution_count": 26,
     "metadata": {},
     "output_type": "execute_result"
    }
   ],
   "source": [
    "df['nps_score'].unique() "
   ]
  },
  {
   "cell_type": "code",
   "execution_count": 27,
   "id": "2dee622f",
   "metadata": {},
   "outputs": [
    {
     "data": {
      "text/plain": [
       "array([45., 53., 57., 44., 24., 42., 35., 36., 54., 39., 21., 27., 60.,\n",
       "       34., 47., 37., 43., 33., 31., 25., 51., 28., 41., 40., 46., 48.,\n",
       "       32., 30., 52., 59., 26., 50., 62., 29., 55., 22., 38., 56., 23.,\n",
       "       49., 66., 74., 75., 17., 65., 64., 69., 58., 20., 19., 80., 70.,\n",
       "       81., 63., 67., 68., 72., 15., 79., 18., 73., nan, 14., 71., 61.,\n",
       "       16., 77., 13., 76., 10., 78., 12., 82., 11., 83., 89., 84., 85.,\n",
       "       87., 86.])"
      ]
     },
     "execution_count": 27,
     "metadata": {},
     "output_type": "execute_result"
    }
   ],
   "source": [
    "df['age'].unique() "
   ]
  },
  {
   "cell_type": "code",
   "execution_count": 28,
   "id": "92e49e73",
   "metadata": {},
   "outputs": [
    {
     "data": {
      "text/html": [
       "<div>\n",
       "<style scoped>\n",
       "    .dataframe tbody tr th:only-of-type {\n",
       "        vertical-align: middle;\n",
       "    }\n",
       "\n",
       "    .dataframe tbody tr th {\n",
       "        vertical-align: top;\n",
       "    }\n",
       "\n",
       "    .dataframe thead th {\n",
       "        text-align: right;\n",
       "    }\n",
       "</style>\n",
       "<table border=\"1\" class=\"dataframe\">\n",
       "  <thead>\n",
       "    <tr style=\"text-align: right;\">\n",
       "      <th></th>\n",
       "      <th>user_id</th>\n",
       "      <th>lt_day</th>\n",
       "      <th>is_new</th>\n",
       "      <th>age</th>\n",
       "      <th>gender_segment</th>\n",
       "      <th>os_name</th>\n",
       "      <th>cpe_type_name</th>\n",
       "      <th>country</th>\n",
       "      <th>city</th>\n",
       "      <th>age_segment</th>\n",
       "      <th>traffic_segment</th>\n",
       "      <th>lifetime_segment</th>\n",
       "      <th>nps_score</th>\n",
       "      <th>nps_group</th>\n",
       "    </tr>\n",
       "  </thead>\n",
       "  <tbody>\n",
       "    <tr>\n",
       "      <th>751</th>\n",
       "      <td>A1E59W</td>\n",
       "      <td>4055</td>\n",
       "      <td>old</td>\n",
       "      <td>NaN</td>\n",
       "      <td>other</td>\n",
       "      <td>ANDROID</td>\n",
       "      <td>SMARTPHONE</td>\n",
       "      <td>Россия</td>\n",
       "      <td>Екатеринбург</td>\n",
       "      <td>n/a</td>\n",
       "      <td>1-5</td>\n",
       "      <td>36+</td>\n",
       "      <td>1</td>\n",
       "      <td>detractors</td>\n",
       "    </tr>\n",
       "    <tr>\n",
       "      <th>1209</th>\n",
       "      <td>A28ZDT</td>\n",
       "      <td>4243</td>\n",
       "      <td>old</td>\n",
       "      <td>NaN</td>\n",
       "      <td>other</td>\n",
       "      <td>ANDROID</td>\n",
       "      <td>SMARTPHONE</td>\n",
       "      <td>Россия</td>\n",
       "      <td>Хабаровск</td>\n",
       "      <td>n/a</td>\n",
       "      <td>1-5</td>\n",
       "      <td>36+</td>\n",
       "      <td>5</td>\n",
       "      <td>detractors</td>\n",
       "    </tr>\n",
       "    <tr>\n",
       "      <th>1321</th>\n",
       "      <td>A2GLPQ</td>\n",
       "      <td>2354</td>\n",
       "      <td>old</td>\n",
       "      <td>NaN</td>\n",
       "      <td>other</td>\n",
       "      <td>ANDROID</td>\n",
       "      <td>SMARTPHONE</td>\n",
       "      <td>Россия</td>\n",
       "      <td>Иркутск</td>\n",
       "      <td>n/a</td>\n",
       "      <td>10-15</td>\n",
       "      <td>36+</td>\n",
       "      <td>1</td>\n",
       "      <td>detractors</td>\n",
       "    </tr>\n",
       "    <tr>\n",
       "      <th>2163</th>\n",
       "      <td>A41C1K</td>\n",
       "      <td>557</td>\n",
       "      <td>old</td>\n",
       "      <td>NaN</td>\n",
       "      <td>other</td>\n",
       "      <td>ANDROID</td>\n",
       "      <td>SMARTPHONE</td>\n",
       "      <td>Россия</td>\n",
       "      <td>РостовнаДону</td>\n",
       "      <td>n/a</td>\n",
       "      <td>1-5</td>\n",
       "      <td>13-24</td>\n",
       "      <td>3</td>\n",
       "      <td>detractors</td>\n",
       "    </tr>\n",
       "    <tr>\n",
       "      <th>2667</th>\n",
       "      <td>A513VG</td>\n",
       "      <td>4705</td>\n",
       "      <td>old</td>\n",
       "      <td>NaN</td>\n",
       "      <td>other</td>\n",
       "      <td>IOS</td>\n",
       "      <td>SMARTPHONE</td>\n",
       "      <td>Россия</td>\n",
       "      <td>Екатеринбург</td>\n",
       "      <td>n/a</td>\n",
       "      <td>95-100</td>\n",
       "      <td>36+</td>\n",
       "      <td>9</td>\n",
       "      <td>promoters</td>\n",
       "    </tr>\n",
       "    <tr>\n",
       "      <th>...</th>\n",
       "      <td>...</td>\n",
       "      <td>...</td>\n",
       "      <td>...</td>\n",
       "      <td>...</td>\n",
       "      <td>...</td>\n",
       "      <td>...</td>\n",
       "      <td>...</td>\n",
       "      <td>...</td>\n",
       "      <td>...</td>\n",
       "      <td>...</td>\n",
       "      <td>...</td>\n",
       "      <td>...</td>\n",
       "      <td>...</td>\n",
       "      <td>...</td>\n",
       "    </tr>\n",
       "    <tr>\n",
       "      <th>499598</th>\n",
       "      <td>ZUDYU9</td>\n",
       "      <td>520</td>\n",
       "      <td>old</td>\n",
       "      <td>NaN</td>\n",
       "      <td>other</td>\n",
       "      <td>ANDROID</td>\n",
       "      <td>SMARTPHONE</td>\n",
       "      <td>Россия</td>\n",
       "      <td>СанктПетербург</td>\n",
       "      <td>n/a</td>\n",
       "      <td>100+</td>\n",
       "      <td>13-24</td>\n",
       "      <td>9</td>\n",
       "      <td>promoters</td>\n",
       "    </tr>\n",
       "    <tr>\n",
       "      <th>500834</th>\n",
       "      <td>ZWQJRW</td>\n",
       "      <td>220</td>\n",
       "      <td>new</td>\n",
       "      <td>NaN</td>\n",
       "      <td>men</td>\n",
       "      <td>ANDROID</td>\n",
       "      <td>SMARTPHONE</td>\n",
       "      <td>Россия</td>\n",
       "      <td>Самара</td>\n",
       "      <td>n/a</td>\n",
       "      <td>0.1-1</td>\n",
       "      <td>7-12</td>\n",
       "      <td>1</td>\n",
       "      <td>detractors</td>\n",
       "    </tr>\n",
       "    <tr>\n",
       "      <th>501246</th>\n",
       "      <td>ZXK9AK</td>\n",
       "      <td>3550</td>\n",
       "      <td>old</td>\n",
       "      <td>NaN</td>\n",
       "      <td>other</td>\n",
       "      <td>ANDROID</td>\n",
       "      <td>SMARTPHONE</td>\n",
       "      <td>Россия</td>\n",
       "      <td>Томск</td>\n",
       "      <td>n/a</td>\n",
       "      <td>1-5</td>\n",
       "      <td>36+</td>\n",
       "      <td>4</td>\n",
       "      <td>detractors</td>\n",
       "    </tr>\n",
       "    <tr>\n",
       "      <th>502376</th>\n",
       "      <td>ZZRS2G</td>\n",
       "      <td>345</td>\n",
       "      <td>new</td>\n",
       "      <td>NaN</td>\n",
       "      <td>men</td>\n",
       "      <td>ANDROID</td>\n",
       "      <td>SMARTPHONE</td>\n",
       "      <td>Россия</td>\n",
       "      <td>Москва</td>\n",
       "      <td>n/a</td>\n",
       "      <td>1-5</td>\n",
       "      <td>7-12</td>\n",
       "      <td>5</td>\n",
       "      <td>detractors</td>\n",
       "    </tr>\n",
       "    <tr>\n",
       "      <th>502455</th>\n",
       "      <td>ZZXH2T</td>\n",
       "      <td>268</td>\n",
       "      <td>new</td>\n",
       "      <td>NaN</td>\n",
       "      <td>other</td>\n",
       "      <td>ANDROID</td>\n",
       "      <td>SMARTPHONE</td>\n",
       "      <td>Россия</td>\n",
       "      <td>Череповец</td>\n",
       "      <td>n/a</td>\n",
       "      <td>15-20</td>\n",
       "      <td>7-12</td>\n",
       "      <td>1</td>\n",
       "      <td>detractors</td>\n",
       "    </tr>\n",
       "  </tbody>\n",
       "</table>\n",
       "<p>554 rows × 14 columns</p>\n",
       "</div>"
      ],
      "text/plain": [
       "       user_id  lt_day is_new  age gender_segment  os_name cpe_type_name  \\\n",
       "751     A1E59W    4055    old  NaN          other  ANDROID    SMARTPHONE   \n",
       "1209    A28ZDT    4243    old  NaN          other  ANDROID    SMARTPHONE   \n",
       "1321    A2GLPQ    2354    old  NaN          other  ANDROID    SMARTPHONE   \n",
       "2163    A41C1K     557    old  NaN          other  ANDROID    SMARTPHONE   \n",
       "2667    A513VG    4705    old  NaN          other      IOS    SMARTPHONE   \n",
       "...        ...     ...    ...  ...            ...      ...           ...   \n",
       "499598  ZUDYU9     520    old  NaN          other  ANDROID    SMARTPHONE   \n",
       "500834  ZWQJRW     220    new  NaN            men  ANDROID    SMARTPHONE   \n",
       "501246  ZXK9AK    3550    old  NaN          other  ANDROID    SMARTPHONE   \n",
       "502376  ZZRS2G     345    new  NaN            men  ANDROID    SMARTPHONE   \n",
       "502455  ZZXH2T     268    new  NaN          other  ANDROID    SMARTPHONE   \n",
       "\n",
       "       country            city age_segment traffic_segment lifetime_segment  \\\n",
       "751     Россия    Екатеринбург         n/a             1-5              36+   \n",
       "1209    Россия       Хабаровск         n/a             1-5              36+   \n",
       "1321    Россия         Иркутск         n/a           10-15              36+   \n",
       "2163    Россия    РостовнаДону         n/a             1-5            13-24   \n",
       "2667    Россия    Екатеринбург         n/a          95-100              36+   \n",
       "...        ...             ...         ...             ...              ...   \n",
       "499598  Россия  СанктПетербург         n/a            100+            13-24   \n",
       "500834  Россия          Самара         n/a           0.1-1             7-12   \n",
       "501246  Россия           Томск         n/a             1-5              36+   \n",
       "502376  Россия          Москва         n/a             1-5             7-12   \n",
       "502455  Россия       Череповец         n/a           15-20             7-12   \n",
       "\n",
       "        nps_score   nps_group  \n",
       "751             1  detractors  \n",
       "1209            5  detractors  \n",
       "1321            1  detractors  \n",
       "2163            3  detractors  \n",
       "2667            9   promoters  \n",
       "...           ...         ...  \n",
       "499598          9   promoters  \n",
       "500834          1  detractors  \n",
       "501246          4  detractors  \n",
       "502376          5  detractors  \n",
       "502455          1  detractors  \n",
       "\n",
       "[554 rows x 14 columns]"
      ]
     },
     "execution_count": 28,
     "metadata": {},
     "output_type": "execute_result"
    }
   ],
   "source": [
    "problem_df3=df.loc[df['age'].isna()]\n",
    "b=problem_df3.shape [0]\n",
    "problem_df3"
   ]
  },
  {
   "cell_type": "code",
   "execution_count": 29,
   "id": "35f5b637",
   "metadata": {},
   "outputs": [
    {
     "data": {
      "text/html": [
       "<div>\n",
       "<style scoped>\n",
       "    .dataframe tbody tr th:only-of-type {\n",
       "        vertical-align: middle;\n",
       "    }\n",
       "\n",
       "    .dataframe tbody tr th {\n",
       "        vertical-align: top;\n",
       "    }\n",
       "\n",
       "    .dataframe thead th {\n",
       "        text-align: right;\n",
       "    }\n",
       "</style>\n",
       "<table border=\"1\" class=\"dataframe\">\n",
       "  <thead>\n",
       "    <tr style=\"text-align: right;\">\n",
       "      <th></th>\n",
       "      <th>user_id</th>\n",
       "      <th>lt_day</th>\n",
       "      <th>is_new</th>\n",
       "      <th>age</th>\n",
       "      <th>gender_segment</th>\n",
       "      <th>os_name</th>\n",
       "      <th>cpe_type_name</th>\n",
       "      <th>country</th>\n",
       "      <th>city</th>\n",
       "      <th>age_segment</th>\n",
       "      <th>traffic_segment</th>\n",
       "      <th>lifetime_segment</th>\n",
       "      <th>nps_score</th>\n",
       "      <th>nps_group</th>\n",
       "    </tr>\n",
       "  </thead>\n",
       "  <tbody>\n",
       "    <tr>\n",
       "      <th>751</th>\n",
       "      <td>A1E59W</td>\n",
       "      <td>4055</td>\n",
       "      <td>old</td>\n",
       "      <td>NaN</td>\n",
       "      <td>other</td>\n",
       "      <td>ANDROID</td>\n",
       "      <td>SMARTPHONE</td>\n",
       "      <td>Россия</td>\n",
       "      <td>Екатеринбург</td>\n",
       "      <td>n/a</td>\n",
       "      <td>1-5</td>\n",
       "      <td>36+</td>\n",
       "      <td>1</td>\n",
       "      <td>detractors</td>\n",
       "    </tr>\n",
       "    <tr>\n",
       "      <th>1209</th>\n",
       "      <td>A28ZDT</td>\n",
       "      <td>4243</td>\n",
       "      <td>old</td>\n",
       "      <td>NaN</td>\n",
       "      <td>other</td>\n",
       "      <td>ANDROID</td>\n",
       "      <td>SMARTPHONE</td>\n",
       "      <td>Россия</td>\n",
       "      <td>Хабаровск</td>\n",
       "      <td>n/a</td>\n",
       "      <td>1-5</td>\n",
       "      <td>36+</td>\n",
       "      <td>5</td>\n",
       "      <td>detractors</td>\n",
       "    </tr>\n",
       "    <tr>\n",
       "      <th>1321</th>\n",
       "      <td>A2GLPQ</td>\n",
       "      <td>2354</td>\n",
       "      <td>old</td>\n",
       "      <td>NaN</td>\n",
       "      <td>other</td>\n",
       "      <td>ANDROID</td>\n",
       "      <td>SMARTPHONE</td>\n",
       "      <td>Россия</td>\n",
       "      <td>Иркутск</td>\n",
       "      <td>n/a</td>\n",
       "      <td>10-15</td>\n",
       "      <td>36+</td>\n",
       "      <td>1</td>\n",
       "      <td>detractors</td>\n",
       "    </tr>\n",
       "    <tr>\n",
       "      <th>2163</th>\n",
       "      <td>A41C1K</td>\n",
       "      <td>557</td>\n",
       "      <td>old</td>\n",
       "      <td>NaN</td>\n",
       "      <td>other</td>\n",
       "      <td>ANDROID</td>\n",
       "      <td>SMARTPHONE</td>\n",
       "      <td>Россия</td>\n",
       "      <td>РостовнаДону</td>\n",
       "      <td>n/a</td>\n",
       "      <td>1-5</td>\n",
       "      <td>13-24</td>\n",
       "      <td>3</td>\n",
       "      <td>detractors</td>\n",
       "    </tr>\n",
       "    <tr>\n",
       "      <th>2667</th>\n",
       "      <td>A513VG</td>\n",
       "      <td>4705</td>\n",
       "      <td>old</td>\n",
       "      <td>NaN</td>\n",
       "      <td>other</td>\n",
       "      <td>IOS</td>\n",
       "      <td>SMARTPHONE</td>\n",
       "      <td>Россия</td>\n",
       "      <td>Екатеринбург</td>\n",
       "      <td>n/a</td>\n",
       "      <td>95-100</td>\n",
       "      <td>36+</td>\n",
       "      <td>9</td>\n",
       "      <td>promoters</td>\n",
       "    </tr>\n",
       "    <tr>\n",
       "      <th>...</th>\n",
       "      <td>...</td>\n",
       "      <td>...</td>\n",
       "      <td>...</td>\n",
       "      <td>...</td>\n",
       "      <td>...</td>\n",
       "      <td>...</td>\n",
       "      <td>...</td>\n",
       "      <td>...</td>\n",
       "      <td>...</td>\n",
       "      <td>...</td>\n",
       "      <td>...</td>\n",
       "      <td>...</td>\n",
       "      <td>...</td>\n",
       "      <td>...</td>\n",
       "    </tr>\n",
       "    <tr>\n",
       "      <th>498652</th>\n",
       "      <td>ZSL1TE</td>\n",
       "      <td>1389</td>\n",
       "      <td>old</td>\n",
       "      <td>NaN</td>\n",
       "      <td>other</td>\n",
       "      <td>ANDROID</td>\n",
       "      <td>SMARTPHONE</td>\n",
       "      <td>Россия</td>\n",
       "      <td>Калининград</td>\n",
       "      <td>n/a</td>\n",
       "      <td>1-5</td>\n",
       "      <td>36+</td>\n",
       "      <td>10</td>\n",
       "      <td>promoters</td>\n",
       "    </tr>\n",
       "    <tr>\n",
       "      <th>498998</th>\n",
       "      <td>ZT6Z5A</td>\n",
       "      <td>1295</td>\n",
       "      <td>old</td>\n",
       "      <td>NaN</td>\n",
       "      <td>other</td>\n",
       "      <td>ANDROID</td>\n",
       "      <td>SMARTPHONE</td>\n",
       "      <td>Россия</td>\n",
       "      <td>Рязань</td>\n",
       "      <td>n/a</td>\n",
       "      <td>1-5</td>\n",
       "      <td>36+</td>\n",
       "      <td>5</td>\n",
       "      <td>detractors</td>\n",
       "    </tr>\n",
       "    <tr>\n",
       "      <th>499598</th>\n",
       "      <td>ZUDYU9</td>\n",
       "      <td>520</td>\n",
       "      <td>old</td>\n",
       "      <td>NaN</td>\n",
       "      <td>other</td>\n",
       "      <td>ANDROID</td>\n",
       "      <td>SMARTPHONE</td>\n",
       "      <td>Россия</td>\n",
       "      <td>СанктПетербург</td>\n",
       "      <td>n/a</td>\n",
       "      <td>100+</td>\n",
       "      <td>13-24</td>\n",
       "      <td>9</td>\n",
       "      <td>promoters</td>\n",
       "    </tr>\n",
       "    <tr>\n",
       "      <th>501246</th>\n",
       "      <td>ZXK9AK</td>\n",
       "      <td>3550</td>\n",
       "      <td>old</td>\n",
       "      <td>NaN</td>\n",
       "      <td>other</td>\n",
       "      <td>ANDROID</td>\n",
       "      <td>SMARTPHONE</td>\n",
       "      <td>Россия</td>\n",
       "      <td>Томск</td>\n",
       "      <td>n/a</td>\n",
       "      <td>1-5</td>\n",
       "      <td>36+</td>\n",
       "      <td>4</td>\n",
       "      <td>detractors</td>\n",
       "    </tr>\n",
       "    <tr>\n",
       "      <th>502455</th>\n",
       "      <td>ZZXH2T</td>\n",
       "      <td>268</td>\n",
       "      <td>new</td>\n",
       "      <td>NaN</td>\n",
       "      <td>other</td>\n",
       "      <td>ANDROID</td>\n",
       "      <td>SMARTPHONE</td>\n",
       "      <td>Россия</td>\n",
       "      <td>Череповец</td>\n",
       "      <td>n/a</td>\n",
       "      <td>15-20</td>\n",
       "      <td>7-12</td>\n",
       "      <td>1</td>\n",
       "      <td>detractors</td>\n",
       "    </tr>\n",
       "  </tbody>\n",
       "</table>\n",
       "<p>514 rows × 14 columns</p>\n",
       "</div>"
      ],
      "text/plain": [
       "       user_id  lt_day is_new  age gender_segment  os_name cpe_type_name  \\\n",
       "751     A1E59W    4055    old  NaN          other  ANDROID    SMARTPHONE   \n",
       "1209    A28ZDT    4243    old  NaN          other  ANDROID    SMARTPHONE   \n",
       "1321    A2GLPQ    2354    old  NaN          other  ANDROID    SMARTPHONE   \n",
       "2163    A41C1K     557    old  NaN          other  ANDROID    SMARTPHONE   \n",
       "2667    A513VG    4705    old  NaN          other      IOS    SMARTPHONE   \n",
       "...        ...     ...    ...  ...            ...      ...           ...   \n",
       "498652  ZSL1TE    1389    old  NaN          other  ANDROID    SMARTPHONE   \n",
       "498998  ZT6Z5A    1295    old  NaN          other  ANDROID    SMARTPHONE   \n",
       "499598  ZUDYU9     520    old  NaN          other  ANDROID    SMARTPHONE   \n",
       "501246  ZXK9AK    3550    old  NaN          other  ANDROID    SMARTPHONE   \n",
       "502455  ZZXH2T     268    new  NaN          other  ANDROID    SMARTPHONE   \n",
       "\n",
       "       country            city age_segment traffic_segment lifetime_segment  \\\n",
       "751     Россия    Екатеринбург         n/a             1-5              36+   \n",
       "1209    Россия       Хабаровск         n/a             1-5              36+   \n",
       "1321    Россия         Иркутск         n/a           10-15              36+   \n",
       "2163    Россия    РостовнаДону         n/a             1-5            13-24   \n",
       "2667    Россия    Екатеринбург         n/a          95-100              36+   \n",
       "...        ...             ...         ...             ...              ...   \n",
       "498652  Россия     Калининград         n/a             1-5              36+   \n",
       "498998  Россия          Рязань         n/a             1-5              36+   \n",
       "499598  Россия  СанктПетербург         n/a            100+            13-24   \n",
       "501246  Россия           Томск         n/a             1-5              36+   \n",
       "502455  Россия       Череповец         n/a           15-20             7-12   \n",
       "\n",
       "        nps_score   nps_group  \n",
       "751             1  detractors  \n",
       "1209            5  detractors  \n",
       "1321            1  detractors  \n",
       "2163            3  detractors  \n",
       "2667            9   promoters  \n",
       "...           ...         ...  \n",
       "498652         10   promoters  \n",
       "498998          5  detractors  \n",
       "499598          9   promoters  \n",
       "501246          4  detractors  \n",
       "502455          1  detractors  \n",
       "\n",
       "[514 rows x 14 columns]"
      ]
     },
     "execution_count": 29,
     "metadata": {},
     "output_type": "execute_result"
    }
   ],
   "source": [
    "problem_df=(df.loc[(df['age'].isna()) & (df['gender_segment']=='other')])\n",
    "problem_df"
   ]
  },
  {
   "cell_type": "code",
   "execution_count": 30,
   "id": "0a68359a",
   "metadata": {},
   "outputs": [
    {
     "data": {
      "text/html": [
       "<div>\n",
       "<style scoped>\n",
       "    .dataframe tbody tr th:only-of-type {\n",
       "        vertical-align: middle;\n",
       "    }\n",
       "\n",
       "    .dataframe tbody tr th {\n",
       "        vertical-align: top;\n",
       "    }\n",
       "\n",
       "    .dataframe thead th {\n",
       "        text-align: right;\n",
       "    }\n",
       "</style>\n",
       "<table border=\"1\" class=\"dataframe\">\n",
       "  <thead>\n",
       "    <tr style=\"text-align: right;\">\n",
       "      <th></th>\n",
       "      <th>user_id</th>\n",
       "      <th>lt_day</th>\n",
       "      <th>is_new</th>\n",
       "      <th>age</th>\n",
       "      <th>gender_segment</th>\n",
       "      <th>os_name</th>\n",
       "      <th>cpe_type_name</th>\n",
       "      <th>country</th>\n",
       "      <th>city</th>\n",
       "      <th>age_segment</th>\n",
       "      <th>traffic_segment</th>\n",
       "      <th>lifetime_segment</th>\n",
       "      <th>nps_score</th>\n",
       "      <th>nps_group</th>\n",
       "    </tr>\n",
       "  </thead>\n",
       "  <tbody>\n",
       "    <tr>\n",
       "      <th>24321</th>\n",
       "      <td>B9G5PC</td>\n",
       "      <td>949</td>\n",
       "      <td>old</td>\n",
       "      <td>NaN</td>\n",
       "      <td>men</td>\n",
       "      <td>ANDROID</td>\n",
       "      <td>SMARTPHONE</td>\n",
       "      <td>Россия</td>\n",
       "      <td>Москва</td>\n",
       "      <td>n/a</td>\n",
       "      <td>40-45</td>\n",
       "      <td>25-36</td>\n",
       "      <td>1</td>\n",
       "      <td>detractors</td>\n",
       "    </tr>\n",
       "    <tr>\n",
       "      <th>33612</th>\n",
       "      <td>BQNYFS</td>\n",
       "      <td>4</td>\n",
       "      <td>new</td>\n",
       "      <td>NaN</td>\n",
       "      <td>women</td>\n",
       "      <td>IOS</td>\n",
       "      <td>SMARTPHONE</td>\n",
       "      <td>Россия</td>\n",
       "      <td>Киров</td>\n",
       "      <td>n/a</td>\n",
       "      <td>1-5</td>\n",
       "      <td>1</td>\n",
       "      <td>10</td>\n",
       "      <td>promoters</td>\n",
       "    </tr>\n",
       "    <tr>\n",
       "      <th>38525</th>\n",
       "      <td>BZQ2EP</td>\n",
       "      <td>472</td>\n",
       "      <td>old</td>\n",
       "      <td>NaN</td>\n",
       "      <td>women</td>\n",
       "      <td>ANDROID</td>\n",
       "      <td>SMARTPHONE</td>\n",
       "      <td>Россия</td>\n",
       "      <td>Новосибирск</td>\n",
       "      <td>n/a</td>\n",
       "      <td>1-5</td>\n",
       "      <td>13-24</td>\n",
       "      <td>8</td>\n",
       "      <td>passives</td>\n",
       "    </tr>\n",
       "    <tr>\n",
       "      <th>42431</th>\n",
       "      <td>C6U342</td>\n",
       "      <td>2735</td>\n",
       "      <td>old</td>\n",
       "      <td>NaN</td>\n",
       "      <td>men</td>\n",
       "      <td>ANDROID</td>\n",
       "      <td>SMARTPHONE</td>\n",
       "      <td>Россия</td>\n",
       "      <td>Краснодар</td>\n",
       "      <td>n/a</td>\n",
       "      <td>10-15</td>\n",
       "      <td>36+</td>\n",
       "      <td>1</td>\n",
       "      <td>detractors</td>\n",
       "    </tr>\n",
       "    <tr>\n",
       "      <th>52158</th>\n",
       "      <td>CONZ1N</td>\n",
       "      <td>832</td>\n",
       "      <td>old</td>\n",
       "      <td>NaN</td>\n",
       "      <td>men</td>\n",
       "      <td>ANDROID</td>\n",
       "      <td>SMARTPHONE</td>\n",
       "      <td>Россия</td>\n",
       "      <td>Оренбург</td>\n",
       "      <td>n/a</td>\n",
       "      <td>85-90</td>\n",
       "      <td>25-36</td>\n",
       "      <td>2</td>\n",
       "      <td>detractors</td>\n",
       "    </tr>\n",
       "  </tbody>\n",
       "</table>\n",
       "</div>"
      ],
      "text/plain": [
       "      user_id  lt_day is_new  age gender_segment  os_name cpe_type_name  \\\n",
       "24321  B9G5PC     949    old  NaN            men  ANDROID    SMARTPHONE   \n",
       "33612  BQNYFS       4    new  NaN          women      IOS    SMARTPHONE   \n",
       "38525  BZQ2EP     472    old  NaN          women  ANDROID    SMARTPHONE   \n",
       "42431  C6U342    2735    old  NaN            men  ANDROID    SMARTPHONE   \n",
       "52158  CONZ1N     832    old  NaN            men  ANDROID    SMARTPHONE   \n",
       "\n",
       "      country         city age_segment traffic_segment lifetime_segment  \\\n",
       "24321  Россия       Москва         n/a           40-45            25-36   \n",
       "33612  Россия        Киров         n/a             1-5                1   \n",
       "38525  Россия  Новосибирск         n/a             1-5            13-24   \n",
       "42431  Россия    Краснодар         n/a           10-15              36+   \n",
       "52158  Россия     Оренбург         n/a           85-90            25-36   \n",
       "\n",
       "       nps_score   nps_group  \n",
       "24321          1  detractors  \n",
       "33612         10   promoters  \n",
       "38525          8    passives  \n",
       "42431          1  detractors  \n",
       "52158          2  detractors  "
      ]
     },
     "execution_count": 30,
     "metadata": {},
     "output_type": "execute_result"
    }
   ],
   "source": [
    "notproblem_df=(df.loc[(df['age'].isna()) & (df['gender_segment']!='other')])\n",
    "notproblem_df.head (5)"
   ]
  },
  {
   "cell_type": "markdown",
   "id": "75ca8f4a",
   "metadata": {},
   "source": [
    "**Вывод**\n",
    "\n",
    "В ходе данного этапа работы с помощью запроса SQL были обьеденены имеющиеся таблицы.\n",
    "В результате мы получили данные соедржащие информацию о 502493 пользователях.\n",
    "В данных есть колонка lt_day сщ значением менее 0 в 13 случаях. Следует отметить, что в этих 13 строках также отсутствует пол и возраст. \n",
    "Также в данных есть 554 польователя с отсутсвующей информацией по колонке age и age_segment в 514 случаях в этих данных указан пол другой. \n",
    "Также есть данные где в качестве пола указано 'other' в кол-ве 1301 штука.\n",
    "Таким образом удалив 1301 строку с отсутствием пола мы избавимся от отрицательных значений по колонке с днями заключения конракта и 514 строк с незаполненным возрастом. \n",
    "Данная обработка будет осуществляться в программе tableau будет применены соответсвующие фильтры на уровне источника данных"
   ]
  },
  {
   "cell_type": "markdown",
   "id": "140ae570",
   "metadata": {},
   "source": [
    "## 5. Ссылка на дашборд <a id=\"start5\"></a> "
   ]
  },
  {
   "cell_type": "markdown",
   "id": "6b37ae19",
   "metadata": {},
   "source": [
    "ссылка на интерактивный дашборд"
   ]
  },
  {
   "cell_type": "markdown",
   "id": "c5e576e3",
   "metadata": {},
   "source": [
    "https://public.tableau.com/shared/5392TJYKC?:display_count=n&:origin=viz_share_link"
   ]
  }
 ],
 "metadata": {
  "ExecuteTimeLog": [
   {
    "duration": 486,
    "start_time": "2024-04-01T06:36:33.763Z"
   },
   {
    "duration": 98,
    "start_time": "2024-04-01T06:36:34.869Z"
   },
   {
    "duration": 3,
    "start_time": "2024-04-01T06:36:36.504Z"
   },
   {
    "duration": 425,
    "start_time": "2024-04-01T06:36:37.614Z"
   },
   {
    "duration": 7,
    "start_time": "2024-04-01T06:36:54.774Z"
   },
   {
    "duration": 8,
    "start_time": "2024-04-02T05:14:45.301Z"
   },
   {
    "duration": 43,
    "start_time": "2024-04-02T05:14:46.509Z"
   },
   {
    "duration": 526,
    "start_time": "2024-04-02T05:15:39.554Z"
   },
   {
    "duration": 80,
    "start_time": "2024-04-02T05:15:40.081Z"
   },
   {
    "duration": 3,
    "start_time": "2024-04-02T05:15:40.162Z"
   },
   {
    "duration": 4991,
    "start_time": "2024-04-02T05:15:40.166Z"
   },
   {
    "duration": 3949,
    "start_time": "2024-04-02T05:15:45.159Z"
   },
   {
    "duration": 541,
    "start_time": "2024-04-02T05:48:45.756Z"
   },
   {
    "duration": 61,
    "start_time": "2024-04-02T05:48:46.298Z"
   },
   {
    "duration": 3,
    "start_time": "2024-04-02T05:48:46.360Z"
   },
   {
    "duration": 4965,
    "start_time": "2024-04-02T05:48:46.364Z"
   },
   {
    "duration": 4214,
    "start_time": "2024-04-02T05:48:51.331Z"
   },
   {
    "duration": 463,
    "start_time": "2024-04-04T16:26:42.869Z"
   },
   {
    "duration": 10,
    "start_time": "2024-04-04T16:26:43.334Z"
   },
   {
    "duration": 13,
    "start_time": "2024-04-04T16:26:43.346Z"
   },
   {
    "duration": 5508,
    "start_time": "2024-04-04T16:26:43.361Z"
   },
   {
    "duration": 3927,
    "start_time": "2024-04-04T16:26:48.871Z"
   },
   {
    "duration": 577,
    "start_time": "2024-04-04T16:28:17.695Z"
   },
   {
    "duration": 503,
    "start_time": "2024-04-04T17:00:22.783Z"
   },
   {
    "duration": 10,
    "start_time": "2024-04-04T17:00:23.287Z"
   },
   {
    "duration": 9,
    "start_time": "2024-04-04T17:00:23.298Z"
   },
   {
    "duration": 5522,
    "start_time": "2024-04-04T17:00:23.309Z"
   },
   {
    "duration": 4135,
    "start_time": "2024-04-04T17:00:28.833Z"
   },
   {
    "duration": 609,
    "start_time": "2024-04-04T20:14:06.824Z"
   },
   {
    "duration": 88,
    "start_time": "2024-04-04T20:14:07.865Z"
   },
   {
    "duration": 3,
    "start_time": "2024-04-04T20:14:10.687Z"
   },
   {
    "duration": 538,
    "start_time": "2024-04-04T20:14:15.777Z"
   },
   {
    "duration": 5,
    "start_time": "2024-04-04T20:14:49.403Z"
   },
   {
    "duration": 3,
    "start_time": "2024-04-04T20:14:51.561Z"
   },
   {
    "duration": 401,
    "start_time": "2024-04-04T20:14:55.710Z"
   },
   {
    "duration": 4,
    "start_time": "2024-04-04T20:15:20.128Z"
   },
   {
    "duration": 6158,
    "start_time": "2024-04-04T20:15:24.017Z"
   },
   {
    "duration": 5133,
    "start_time": "2024-04-04T20:15:30.178Z"
   },
   {
    "duration": 5861,
    "start_time": "2024-04-04T20:15:51.614Z"
   },
   {
    "duration": 7235,
    "start_time": "2024-04-04T20:15:57.477Z"
   },
   {
    "duration": 84,
    "start_time": "2024-04-04T20:18:14.028Z"
   },
   {
    "duration": 3,
    "start_time": "2024-04-04T20:19:15.824Z"
   },
   {
    "duration": 6038,
    "start_time": "2024-04-04T20:19:19.915Z"
   },
   {
    "duration": 4672,
    "start_time": "2024-04-04T20:19:25.955Z"
   },
   {
    "duration": 3,
    "start_time": "2024-04-04T20:20:56.343Z"
   },
   {
    "duration": 6032,
    "start_time": "2024-04-04T20:20:59.509Z"
   },
   {
    "duration": 77,
    "start_time": "2024-04-04T20:21:15.964Z"
   },
   {
    "duration": 541,
    "start_time": "2024-04-04T20:21:27.009Z"
   },
   {
    "duration": 76,
    "start_time": "2024-04-04T20:21:27.552Z"
   },
   {
    "duration": 3,
    "start_time": "2024-04-04T20:21:27.630Z"
   },
   {
    "duration": 6045,
    "start_time": "2024-04-04T20:21:27.635Z"
   },
   {
    "duration": 5043,
    "start_time": "2024-04-04T20:21:33.682Z"
   },
   {
    "duration": 5,
    "start_time": "2024-04-04T20:22:00.890Z"
   },
   {
    "duration": 5636,
    "start_time": "2024-04-04T20:22:05.278Z"
   },
   {
    "duration": 4521,
    "start_time": "2024-04-04T20:22:19.716Z"
   },
   {
    "duration": 89,
    "start_time": "2024-04-04T20:22:44.317Z"
   },
   {
    "duration": 118,
    "start_time": "2024-04-04T20:23:09.727Z"
   },
   {
    "duration": 122,
    "start_time": "2024-04-04T20:23:29.971Z"
   },
   {
    "duration": 109,
    "start_time": "2024-04-04T20:24:03.236Z"
   },
   {
    "duration": 9,
    "start_time": "2024-04-04T20:24:38.568Z"
   },
   {
    "duration": 8,
    "start_time": "2024-04-04T20:25:24.169Z"
   },
   {
    "duration": 122,
    "start_time": "2024-04-04T20:28:59.111Z"
   },
   {
    "duration": 8,
    "start_time": "2024-04-04T20:29:36.176Z"
   },
   {
    "duration": 538,
    "start_time": "2024-04-04T20:29:44.884Z"
   },
   {
    "duration": 572,
    "start_time": "2024-04-04T20:30:00.972Z"
   },
   {
    "duration": 9,
    "start_time": "2024-04-04T20:33:43.950Z"
   },
   {
    "duration": 66,
    "start_time": "2024-04-04T20:33:51.727Z"
   },
   {
    "duration": 81,
    "start_time": "2024-04-04T20:33:57.638Z"
   },
   {
    "duration": 75,
    "start_time": "2024-04-04T20:34:31.404Z"
   },
   {
    "duration": 76,
    "start_time": "2024-04-04T20:34:43.748Z"
   },
   {
    "duration": 67,
    "start_time": "2024-04-04T20:34:55.073Z"
   },
   {
    "duration": 73,
    "start_time": "2024-04-04T20:35:06.399Z"
   },
   {
    "duration": 68,
    "start_time": "2024-04-04T20:35:15.505Z"
   },
   {
    "duration": 67,
    "start_time": "2024-04-04T20:36:05.720Z"
   },
   {
    "duration": 76,
    "start_time": "2024-04-04T20:36:10.707Z"
   },
   {
    "duration": 69,
    "start_time": "2024-04-04T20:36:39.515Z"
   },
   {
    "duration": 72,
    "start_time": "2024-04-04T20:36:53.556Z"
   },
   {
    "duration": 71,
    "start_time": "2024-04-04T20:37:02.616Z"
   },
   {
    "duration": 88,
    "start_time": "2024-04-04T20:37:44.678Z"
   },
   {
    "duration": 4,
    "start_time": "2024-04-04T20:38:22.952Z"
   },
   {
    "duration": 4,
    "start_time": "2024-04-04T20:38:28.526Z"
   },
   {
    "duration": 4,
    "start_time": "2024-04-04T20:38:39.077Z"
   },
   {
    "duration": 3,
    "start_time": "2024-04-04T20:39:32.172Z"
   },
   {
    "duration": 10,
    "start_time": "2024-04-04T20:39:43.084Z"
   },
   {
    "duration": 7,
    "start_time": "2024-04-04T20:40:01.444Z"
   },
   {
    "duration": 23,
    "start_time": "2024-04-04T20:40:07.080Z"
   },
   {
    "duration": 87,
    "start_time": "2024-04-04T20:41:23.738Z"
   },
   {
    "duration": 4,
    "start_time": "2024-04-04T20:42:00.174Z"
   },
   {
    "duration": 89,
    "start_time": "2024-04-04T20:42:37.308Z"
   },
   {
    "duration": 565,
    "start_time": "2024-04-04T20:44:07.363Z"
   },
   {
    "duration": 535,
    "start_time": "2024-04-04T20:44:20.496Z"
   },
   {
    "duration": 566,
    "start_time": "2024-04-04T20:47:02.504Z"
   },
   {
    "duration": 112,
    "start_time": "2024-04-04T20:49:25.552Z"
   },
   {
    "duration": 118,
    "start_time": "2024-04-04T20:49:28.444Z"
   },
   {
    "duration": 111,
    "start_time": "2024-04-04T20:49:38.705Z"
   },
   {
    "duration": 102,
    "start_time": "2024-04-04T20:49:40.467Z"
   },
   {
    "duration": 114,
    "start_time": "2024-04-04T20:49:41.337Z"
   },
   {
    "duration": 120,
    "start_time": "2024-04-04T20:50:45.391Z"
   },
   {
    "duration": 75,
    "start_time": "2024-04-04T20:50:52.126Z"
   },
   {
    "duration": 71,
    "start_time": "2024-04-04T20:50:57.301Z"
   },
   {
    "duration": 17,
    "start_time": "2024-04-04T20:51:18.949Z"
   },
   {
    "duration": 23,
    "start_time": "2024-04-04T20:52:39.520Z"
   },
   {
    "duration": 68,
    "start_time": "2024-04-04T20:53:57.198Z"
   },
   {
    "duration": 67,
    "start_time": "2024-04-04T20:56:13.638Z"
   },
   {
    "duration": 551,
    "start_time": "2024-04-04T20:56:27.050Z"
   },
   {
    "duration": 77,
    "start_time": "2024-04-04T20:56:27.604Z"
   },
   {
    "duration": 5,
    "start_time": "2024-04-04T20:56:27.683Z"
   },
   {
    "duration": 5488,
    "start_time": "2024-04-04T20:56:27.690Z"
   },
   {
    "duration": 4345,
    "start_time": "2024-04-04T20:56:33.181Z"
   },
   {
    "duration": 549,
    "start_time": "2024-04-04T20:56:37.528Z"
   },
   {
    "duration": 520,
    "start_time": "2024-04-04T20:56:38.078Z"
   },
   {
    "duration": 111,
    "start_time": "2024-04-04T20:56:38.600Z"
   },
   {
    "duration": 111,
    "start_time": "2024-04-04T20:56:38.712Z"
   },
   {
    "duration": 127,
    "start_time": "2024-04-04T20:56:38.825Z"
   },
   {
    "duration": 96,
    "start_time": "2024-04-04T20:56:38.954Z"
   },
   {
    "duration": 4,
    "start_time": "2024-04-04T20:56:39.052Z"
   },
   {
    "duration": 105,
    "start_time": "2024-04-04T20:56:39.058Z"
   },
   {
    "duration": 6,
    "start_time": "2024-04-04T20:56:39.166Z"
   },
   {
    "duration": 22,
    "start_time": "2024-04-04T20:56:39.174Z"
   },
   {
    "duration": 31,
    "start_time": "2024-04-04T20:56:39.198Z"
   },
   {
    "duration": 116,
    "start_time": "2024-04-04T20:56:39.230Z"
   },
   {
    "duration": 85,
    "start_time": "2024-04-04T20:56:39.348Z"
   },
   {
    "duration": 81,
    "start_time": "2024-04-04T20:56:56.200Z"
   },
   {
    "duration": 74,
    "start_time": "2024-04-04T20:57:05.524Z"
   },
   {
    "duration": 4,
    "start_time": "2024-04-04T20:57:28.414Z"
   },
   {
    "duration": 73,
    "start_time": "2024-04-04T20:57:31.459Z"
   },
   {
    "duration": 7,
    "start_time": "2024-04-04T20:57:32.696Z"
   },
   {
    "duration": 10,
    "start_time": "2024-04-04T20:57:33.357Z"
   },
   {
    "duration": 22,
    "start_time": "2024-04-04T20:57:36.876Z"
   },
   {
    "duration": 23,
    "start_time": "2024-04-04T20:57:54.763Z"
   },
   {
    "duration": 106,
    "start_time": "2024-04-05T05:01:40.423Z"
   },
   {
    "duration": 83,
    "start_time": "2024-04-05T05:01:44.807Z"
   },
   {
    "duration": 74,
    "start_time": "2024-04-05T05:02:18.108Z"
   },
   {
    "duration": 182,
    "start_time": "2024-04-06T09:08:10.169Z"
   },
   {
    "duration": 67,
    "start_time": "2024-04-06T09:08:15.900Z"
   },
   {
    "duration": 96,
    "start_time": "2024-04-06T09:08:27.972Z"
   },
   {
    "duration": 65,
    "start_time": "2024-04-06T09:08:35.322Z"
   },
   {
    "duration": 82,
    "start_time": "2024-04-06T09:10:20.970Z"
   },
   {
    "duration": 10,
    "start_time": "2024-04-06T09:12:31.852Z"
   },
   {
    "duration": 21,
    "start_time": "2024-04-06T09:12:51.577Z"
   },
   {
    "duration": 3,
    "start_time": "2024-04-06T09:13:47.977Z"
   },
   {
    "duration": 12,
    "start_time": "2024-04-06T09:14:12.422Z"
   },
   {
    "duration": 17,
    "start_time": "2024-04-06T09:14:20.696Z"
   },
   {
    "duration": 11,
    "start_time": "2024-04-06T09:14:57.242Z"
   },
   {
    "duration": 80,
    "start_time": "2024-04-06T09:15:03.063Z"
   },
   {
    "duration": 105,
    "start_time": "2024-04-06T09:15:12.348Z"
   },
   {
    "duration": 85,
    "start_time": "2024-04-06T09:15:25.374Z"
   },
   {
    "duration": 23,
    "start_time": "2024-04-06T09:15:30.272Z"
   },
   {
    "duration": 80,
    "start_time": "2024-04-06T09:16:11.099Z"
   },
   {
    "duration": 8,
    "start_time": "2024-04-06T09:16:55.354Z"
   },
   {
    "duration": 6,
    "start_time": "2024-04-06T09:17:22.722Z"
   },
   {
    "duration": 101,
    "start_time": "2024-04-06T09:17:34.444Z"
   },
   {
    "duration": 9,
    "start_time": "2024-04-06T09:17:40.069Z"
   },
   {
    "duration": 17,
    "start_time": "2024-04-06T09:17:46.662Z"
   },
   {
    "duration": 6,
    "start_time": "2024-04-06T09:18:01.828Z"
   },
   {
    "duration": 6,
    "start_time": "2024-04-06T09:19:20.375Z"
   },
   {
    "duration": 177,
    "start_time": "2024-04-06T09:19:58.535Z"
   },
   {
    "duration": 128,
    "start_time": "2024-04-06T09:20:42.878Z"
   },
   {
    "duration": 88,
    "start_time": "2024-04-06T09:20:46.170Z"
   },
   {
    "duration": 3,
    "start_time": "2024-04-06T09:20:47.782Z"
   },
   {
    "duration": 5,
    "start_time": "2024-04-06T09:21:01.802Z"
   },
   {
    "duration": 4,
    "start_time": "2024-04-06T09:21:16.404Z"
   },
   {
    "duration": 84,
    "start_time": "2024-04-06T09:22:00.550Z"
   },
   {
    "duration": 10,
    "start_time": "2024-04-06T09:22:06.101Z"
   },
   {
    "duration": 86,
    "start_time": "2024-04-06T09:22:07.339Z"
   },
   {
    "duration": 6,
    "start_time": "2024-04-06T09:22:08.709Z"
   },
   {
    "duration": 16,
    "start_time": "2024-04-06T09:22:17.890Z"
   },
   {
    "duration": 86,
    "start_time": "2024-04-06T09:22:39.730Z"
   },
   {
    "duration": 27,
    "start_time": "2024-04-06T09:22:45.888Z"
   },
   {
    "duration": 79,
    "start_time": "2024-04-06T09:24:20.195Z"
   },
   {
    "duration": 89,
    "start_time": "2024-04-06T09:24:30.188Z"
   },
   {
    "duration": 4,
    "start_time": "2024-04-06T09:24:37.738Z"
   },
   {
    "duration": 98,
    "start_time": "2024-04-06T09:24:49.754Z"
   },
   {
    "duration": 95,
    "start_time": "2024-04-06T14:05:06.633Z"
   },
   {
    "duration": 1199,
    "start_time": "2024-04-06T14:47:27.532Z"
   },
   {
    "duration": 71,
    "start_time": "2024-04-06T14:47:28.735Z"
   },
   {
    "duration": 5,
    "start_time": "2024-04-06T14:47:28.812Z"
   },
   {
    "duration": 12299,
    "start_time": "2024-04-06T14:47:28.818Z"
   },
   {
    "duration": 9347,
    "start_time": "2024-04-06T14:47:41.120Z"
   },
   {
    "duration": 1041,
    "start_time": "2024-04-06T14:47:50.469Z"
   },
   {
    "duration": 1086,
    "start_time": "2024-04-06T14:47:51.512Z"
   },
   {
    "duration": 137,
    "start_time": "2024-04-06T14:47:52.600Z"
   },
   {
    "duration": 81,
    "start_time": "2024-04-06T14:47:52.739Z"
   },
   {
    "duration": 6,
    "start_time": "2024-04-06T14:47:52.822Z"
   },
   {
    "duration": 271,
    "start_time": "2024-04-06T14:47:52.830Z"
   },
   {
    "duration": 207,
    "start_time": "2024-04-06T14:47:53.108Z"
   },
   {
    "duration": 284,
    "start_time": "2024-04-06T14:47:53.316Z"
   },
   {
    "duration": 214,
    "start_time": "2024-04-06T14:47:53.604Z"
   },
   {
    "duration": 195,
    "start_time": "2024-04-06T14:47:53.820Z"
   },
   {
    "duration": 4,
    "start_time": "2024-04-06T14:47:54.017Z"
   },
   {
    "duration": 206,
    "start_time": "2024-04-06T14:47:54.023Z"
   },
   {
    "duration": 6,
    "start_time": "2024-04-06T14:47:54.231Z"
   },
   {
    "duration": 70,
    "start_time": "2024-04-06T14:47:54.239Z"
   },
   {
    "duration": 22,
    "start_time": "2024-04-06T14:47:54.311Z"
   },
   {
    "duration": 141,
    "start_time": "2024-04-06T14:47:54.391Z"
   },
   {
    "duration": 188,
    "start_time": "2024-04-06T14:47:54.534Z"
   },
   {
    "duration": 527,
    "start_time": "2024-04-06T20:44:04.610Z"
   },
   {
    "duration": 10,
    "start_time": "2024-04-06T20:44:05.139Z"
   },
   {
    "duration": 7,
    "start_time": "2024-04-06T20:44:05.151Z"
   },
   {
    "duration": 6208,
    "start_time": "2024-04-06T20:44:05.159Z"
   },
   {
    "duration": 4163,
    "start_time": "2024-04-06T20:44:11.370Z"
   },
   {
    "duration": 525,
    "start_time": "2024-04-06T20:44:15.534Z"
   },
   {
    "duration": 524,
    "start_time": "2024-04-06T20:44:16.060Z"
   },
   {
    "duration": 79,
    "start_time": "2024-04-06T20:44:16.585Z"
   },
   {
    "duration": 32,
    "start_time": "2024-04-06T20:44:16.665Z"
   },
   {
    "duration": 5,
    "start_time": "2024-04-06T20:44:16.698Z"
   },
   {
    "duration": 99,
    "start_time": "2024-04-06T20:44:16.705Z"
   },
   {
    "duration": 103,
    "start_time": "2024-04-06T20:44:16.805Z"
   },
   {
    "duration": 121,
    "start_time": "2024-04-06T20:44:16.910Z"
   },
   {
    "duration": 114,
    "start_time": "2024-04-06T20:44:17.034Z"
   },
   {
    "duration": 86,
    "start_time": "2024-04-06T20:44:17.150Z"
   },
   {
    "duration": 28,
    "start_time": "2024-04-06T20:44:17.238Z"
   },
   {
    "duration": 88,
    "start_time": "2024-04-06T20:44:17.267Z"
   },
   {
    "duration": 7,
    "start_time": "2024-04-06T20:44:17.356Z"
   },
   {
    "duration": 9,
    "start_time": "2024-04-06T20:44:17.364Z"
   },
   {
    "duration": 36,
    "start_time": "2024-04-06T20:44:17.375Z"
   },
   {
    "duration": 89,
    "start_time": "2024-04-06T20:44:17.413Z"
   },
   {
    "duration": 89,
    "start_time": "2024-04-06T20:44:17.503Z"
   },
   {
    "duration": 538,
    "start_time": "2024-04-06T21:34:03.321Z"
   },
   {
    "duration": 12,
    "start_time": "2024-04-06T21:34:03.861Z"
   },
   {
    "duration": 4,
    "start_time": "2024-04-06T21:34:03.877Z"
   },
   {
    "duration": 6508,
    "start_time": "2024-04-06T21:34:03.891Z"
   },
   {
    "duration": 4335,
    "start_time": "2024-04-06T21:34:10.401Z"
   },
   {
    "duration": 545,
    "start_time": "2024-04-06T21:34:14.737Z"
   },
   {
    "duration": 684,
    "start_time": "2024-04-06T21:34:15.292Z"
   },
   {
    "duration": 93,
    "start_time": "2024-04-06T21:34:15.978Z"
   },
   {
    "duration": 31,
    "start_time": "2024-04-06T21:34:16.073Z"
   },
   {
    "duration": 6,
    "start_time": "2024-04-06T21:34:16.106Z"
   },
   {
    "duration": 199,
    "start_time": "2024-04-06T21:34:16.114Z"
   },
   {
    "duration": 106,
    "start_time": "2024-04-06T21:34:16.315Z"
   },
   {
    "duration": 133,
    "start_time": "2024-04-06T21:34:16.423Z"
   },
   {
    "duration": 126,
    "start_time": "2024-04-06T21:34:16.560Z"
   },
   {
    "duration": 83,
    "start_time": "2024-04-06T21:34:16.691Z"
   },
   {
    "duration": 4,
    "start_time": "2024-04-06T21:34:16.776Z"
   },
   {
    "duration": 98,
    "start_time": "2024-04-06T21:34:16.781Z"
   },
   {
    "duration": 6,
    "start_time": "2024-04-06T21:34:16.891Z"
   },
   {
    "duration": 24,
    "start_time": "2024-04-06T21:34:16.899Z"
   },
   {
    "duration": 24,
    "start_time": "2024-04-06T21:34:16.924Z"
   },
   {
    "duration": 93,
    "start_time": "2024-04-06T21:34:16.949Z"
   },
   {
    "duration": 79,
    "start_time": "2024-04-06T21:34:17.044Z"
   }
  ],
  "kernelspec": {
   "display_name": "Python 3 (ipykernel)",
   "language": "python",
   "name": "python3"
  },
  "language_info": {
   "codemirror_mode": {
    "name": "ipython",
    "version": 3
   },
   "file_extension": ".py",
   "mimetype": "text/x-python",
   "name": "python",
   "nbconvert_exporter": "python",
   "pygments_lexer": "ipython3",
   "version": "3.11.5"
  },
  "toc": {
   "base_numbering": 1,
   "nav_menu": {},
   "number_sections": true,
   "sideBar": true,
   "skip_h1_title": true,
   "title_cell": "Table of Contents",
   "title_sidebar": "Contents",
   "toc_cell": false,
   "toc_position": {},
   "toc_section_display": true,
   "toc_window_display": false
  }
 },
 "nbformat": 4,
 "nbformat_minor": 5
}
