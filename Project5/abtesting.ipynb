{
 "cells": [
  {
   "cell_type": "markdown",
   "metadata": {},
   "source": [
    "#  <font color='orangered'>**Проект  'Принятие решений в бизнесе'**</font> "
   ]
  },
  {
   "cell_type": "markdown",
   "metadata": {},
   "source": [
    "   **Цель:**\n",
    "       Вы — аналитик крупного интернет-магазина. Вместе с отделом маркетинга вы подготовили список гипотез для увеличения выручки. Приоритизируйте гипотезы, запустите A/B-тест и проанализируйте результаты. \n"
   ]
  },
  {
   "cell_type": "markdown",
   "metadata": {},
   "source": [
    "# <font color='orangered'> Оглавление </font> \n",
    "\n",
    "1. [Загрузка данных](#start)\n",
    "2. [Приоритизация гипотез](#hypothesis)\n",
    "  \n",
    "    \n",
    "3. [Анализ A/B-теста](#analyse)\n",
    "\n",
    "    * [График кумулятивной выручки по группам](#cumulativeData) \n",
    "    * [График кумулятивного среднего чека по группам](#cumulativeData1) \n",
    "    * [График относительного изменения кумулятивного среднего чека группы B к группе A](#cumulativeData2) \n",
    "    * [График кумулятивного среднего количества заказов на посетителя по группам](#cumulativeData3)\n",
    "    * [График относительного изменения кумулятивного среднего количества заказов на посетителя группы B к группе A](#cumulativeData4)\n",
    "    * [Точечный график количества заказов по пользляоватем](#cumulativeData5)\n",
    "    * [95-й и 99-й перцентили количества заказов на пользователя](#cumulativeData6)\n",
    "    * [Точечный график стоимостей заказов](#cumulativeData5-1)\n",
    "    * [95-й и 99-й перцентили стоимости заказов](#cumulativeData6-1)\n",
    "    * [статистическая значимость различий в среднем количестве заказов на посетителя между группами по «сырым» данным](#cumulativeData7)\n",
    "    * [статистическая значимость различий в среднем чеке заказа между группами по «сырым» данным](#cumulativeData8)\n",
    "    * [статистическая значимостьразличий в среднем количестве заказов на посетителя между группами по «очищенным» данным](#cumulativeData9)\n",
    "    * [статистическая значимость различий в среднем чеке заказа между группами по «очищенным» данным.](#cumulativeData10)\n",
    "    * [решение по результатам теста.](#cumulativeData11)\n",
    "   \n",
    "4. [Вывод](#superend\")\n",
    "\n"
   ]
  },
  {
   "cell_type": "markdown",
   "metadata": {},
   "source": [
    "## Загрузка данных и библиотек <a id=\"start\"></a> "
   ]
  },
  {
   "cell_type": "code",
   "execution_count": 1,
   "metadata": {},
   "outputs": [],
   "source": [
    "import pandas as pd\n",
    "import matplotlib.pyplot as plt\n",
    "import plotly.express as px\n",
    "import warnings\n",
    "warnings.filterwarnings('ignore')\n",
    "import numpy as np\n",
    "import datetime as dt\n",
    "from pandas.plotting import register_matplotlib_converters\n",
    "%matplotlib inline\n",
    "from scipy import stats"
   ]
  },
  {
   "cell_type": "code",
   "execution_count": 2,
   "metadata": {},
   "outputs": [],
   "source": [
    "hypothesis = pd.read_csv ('/datasets/hypothesis.csv')\n",
    "orders = pd.read_csv ('/datasets/orders.csv', sep=',')\n",
    "visitors = pd.read_csv ('/datasets/visitors.csv',  sep=',')"
   ]
  },
  {
   "cell_type": "markdown",
   "metadata": {},
   "source": [
    "## Приоритизация гипотез <a id=\"hypothesis\"></a> "
   ]
  },
  {
   "cell_type": "code",
   "execution_count": 3,
   "metadata": {},
   "outputs": [
    {
     "name": "stdout",
     "output_type": "stream",
     "text": [
      "<class 'pandas.core.frame.DataFrame'>\n",
      "RangeIndex: 9 entries, 0 to 8\n",
      "Data columns (total 5 columns):\n",
      " #   Column      Non-Null Count  Dtype \n",
      "---  ------      --------------  ----- \n",
      " 0   Hypothesis  9 non-null      object\n",
      " 1   Reach       9 non-null      int64 \n",
      " 2   Impact      9 non-null      int64 \n",
      " 3   Confidence  9 non-null      int64 \n",
      " 4   Efforts     9 non-null      int64 \n",
      "dtypes: int64(4), object(1)\n",
      "memory usage: 488.0+ bytes\n"
     ]
    }
   ],
   "source": [
    "hypothesis.info()"
   ]
  },
  {
   "cell_type": "code",
   "execution_count": 4,
   "metadata": {},
   "outputs": [
    {
     "data": {
      "text/html": [
       "<div>\n",
       "<style scoped>\n",
       "    .dataframe tbody tr th:only-of-type {\n",
       "        vertical-align: middle;\n",
       "    }\n",
       "\n",
       "    .dataframe tbody tr th {\n",
       "        vertical-align: top;\n",
       "    }\n",
       "\n",
       "    .dataframe thead th {\n",
       "        text-align: right;\n",
       "    }\n",
       "</style>\n",
       "<table border=\"1\" class=\"dataframe\">\n",
       "  <thead>\n",
       "    <tr style=\"text-align: right;\">\n",
       "      <th></th>\n",
       "      <th>Hypothesis</th>\n",
       "      <th>Reach</th>\n",
       "      <th>Impact</th>\n",
       "      <th>Confidence</th>\n",
       "      <th>Efforts</th>\n",
       "    </tr>\n",
       "  </thead>\n",
       "  <tbody>\n",
       "    <tr>\n",
       "      <th>0</th>\n",
       "      <td>Добавить два новых канала привлечения трафика,...</td>\n",
       "      <td>3</td>\n",
       "      <td>10</td>\n",
       "      <td>8</td>\n",
       "      <td>6</td>\n",
       "    </tr>\n",
       "    <tr>\n",
       "      <th>1</th>\n",
       "      <td>Запустить собственную службу доставки, что сок...</td>\n",
       "      <td>2</td>\n",
       "      <td>5</td>\n",
       "      <td>4</td>\n",
       "      <td>10</td>\n",
       "    </tr>\n",
       "    <tr>\n",
       "      <th>2</th>\n",
       "      <td>Добавить блоки рекомендаций товаров на сайт ин...</td>\n",
       "      <td>8</td>\n",
       "      <td>3</td>\n",
       "      <td>7</td>\n",
       "      <td>3</td>\n",
       "    </tr>\n",
       "    <tr>\n",
       "      <th>3</th>\n",
       "      <td>Изменить структура категорий, что увеличит кон...</td>\n",
       "      <td>8</td>\n",
       "      <td>3</td>\n",
       "      <td>3</td>\n",
       "      <td>8</td>\n",
       "    </tr>\n",
       "    <tr>\n",
       "      <th>4</th>\n",
       "      <td>Изменить цвет фона главной страницы, чтобы уве...</td>\n",
       "      <td>3</td>\n",
       "      <td>1</td>\n",
       "      <td>1</td>\n",
       "      <td>1</td>\n",
       "    </tr>\n",
       "    <tr>\n",
       "      <th>5</th>\n",
       "      <td>Добавить страницу отзывов клиентов о магазине,...</td>\n",
       "      <td>3</td>\n",
       "      <td>2</td>\n",
       "      <td>2</td>\n",
       "      <td>3</td>\n",
       "    </tr>\n",
       "    <tr>\n",
       "      <th>6</th>\n",
       "      <td>Показать на главной странице баннеры с актуаль...</td>\n",
       "      <td>5</td>\n",
       "      <td>3</td>\n",
       "      <td>8</td>\n",
       "      <td>3</td>\n",
       "    </tr>\n",
       "    <tr>\n",
       "      <th>7</th>\n",
       "      <td>Добавить форму подписки на все основные страни...</td>\n",
       "      <td>10</td>\n",
       "      <td>7</td>\n",
       "      <td>8</td>\n",
       "      <td>5</td>\n",
       "    </tr>\n",
       "    <tr>\n",
       "      <th>8</th>\n",
       "      <td>Запустить акцию, дающую скидку на товар в день...</td>\n",
       "      <td>1</td>\n",
       "      <td>9</td>\n",
       "      <td>9</td>\n",
       "      <td>5</td>\n",
       "    </tr>\n",
       "  </tbody>\n",
       "</table>\n",
       "</div>"
      ],
      "text/plain": [
       "                                          Hypothesis  Reach  Impact  \\\n",
       "0  Добавить два новых канала привлечения трафика,...      3      10   \n",
       "1  Запустить собственную службу доставки, что сок...      2       5   \n",
       "2  Добавить блоки рекомендаций товаров на сайт ин...      8       3   \n",
       "3  Изменить структура категорий, что увеличит кон...      8       3   \n",
       "4  Изменить цвет фона главной страницы, чтобы уве...      3       1   \n",
       "5  Добавить страницу отзывов клиентов о магазине,...      3       2   \n",
       "6  Показать на главной странице баннеры с актуаль...      5       3   \n",
       "7  Добавить форму подписки на все основные страни...     10       7   \n",
       "8  Запустить акцию, дающую скидку на товар в день...      1       9   \n",
       "\n",
       "   Confidence  Efforts  \n",
       "0           8        6  \n",
       "1           4       10  \n",
       "2           7        3  \n",
       "3           3        8  \n",
       "4           1        1  \n",
       "5           2        3  \n",
       "6           8        3  \n",
       "7           8        5  \n",
       "8           9        5  "
      ]
     },
     "execution_count": 4,
     "metadata": {},
     "output_type": "execute_result"
    }
   ],
   "source": [
    "hypothesis.head(9)"
   ]
  },
  {
   "cell_type": "code",
   "execution_count": 5,
   "metadata": {},
   "outputs": [
    {
     "data": {
      "text/html": [
       "<div>\n",
       "<style scoped>\n",
       "    .dataframe tbody tr th:only-of-type {\n",
       "        vertical-align: middle;\n",
       "    }\n",
       "\n",
       "    .dataframe tbody tr th {\n",
       "        vertical-align: top;\n",
       "    }\n",
       "\n",
       "    .dataframe thead th {\n",
       "        text-align: right;\n",
       "    }\n",
       "</style>\n",
       "<table border=\"1\" class=\"dataframe\">\n",
       "  <thead>\n",
       "    <tr style=\"text-align: right;\">\n",
       "      <th></th>\n",
       "      <th>Hypothesis</th>\n",
       "      <th>ICE</th>\n",
       "    </tr>\n",
       "  </thead>\n",
       "  <tbody>\n",
       "    <tr>\n",
       "      <th>8</th>\n",
       "      <td>Запустить акцию, дающую скидку на товар в день...</td>\n",
       "      <td>16.200000</td>\n",
       "    </tr>\n",
       "    <tr>\n",
       "      <th>0</th>\n",
       "      <td>Добавить два новых канала привлечения трафика,...</td>\n",
       "      <td>13.333333</td>\n",
       "    </tr>\n",
       "    <tr>\n",
       "      <th>7</th>\n",
       "      <td>Добавить форму подписки на все основные страни...</td>\n",
       "      <td>11.200000</td>\n",
       "    </tr>\n",
       "  </tbody>\n",
       "</table>\n",
       "</div>"
      ],
      "text/plain": [
       "                                          Hypothesis        ICE\n",
       "8  Запустить акцию, дающую скидку на товар в день...  16.200000\n",
       "0  Добавить два новых канала привлечения трафика,...  13.333333\n",
       "7  Добавить форму подписки на все основные страни...  11.200000"
      ]
     },
     "execution_count": 5,
     "metadata": {},
     "output_type": "execute_result"
    }
   ],
   "source": [
    "hypothesis['ICE'] = (hypothesis['Impact'] * hypothesis['Confidence'])/hypothesis['Efforts']\n",
    "hypothesis[['Hypothesis', 'ICE']].sort_values(by = ['ICE'], ascending = False).head(3)"
   ]
  },
  {
   "cell_type": "code",
   "execution_count": 6,
   "metadata": {},
   "outputs": [
    {
     "data": {
      "text/html": [
       "<div>\n",
       "<style scoped>\n",
       "    .dataframe tbody tr th:only-of-type {\n",
       "        vertical-align: middle;\n",
       "    }\n",
       "\n",
       "    .dataframe tbody tr th {\n",
       "        vertical-align: top;\n",
       "    }\n",
       "\n",
       "    .dataframe thead th {\n",
       "        text-align: right;\n",
       "    }\n",
       "</style>\n",
       "<table border=\"1\" class=\"dataframe\">\n",
       "  <thead>\n",
       "    <tr style=\"text-align: right;\">\n",
       "      <th></th>\n",
       "      <th>Hypothesis</th>\n",
       "      <th>RICE</th>\n",
       "    </tr>\n",
       "  </thead>\n",
       "  <tbody>\n",
       "    <tr>\n",
       "      <th>7</th>\n",
       "      <td>Добавить форму подписки на все основные страни...</td>\n",
       "      <td>112.0</td>\n",
       "    </tr>\n",
       "    <tr>\n",
       "      <th>2</th>\n",
       "      <td>Добавить блоки рекомендаций товаров на сайт ин...</td>\n",
       "      <td>56.0</td>\n",
       "    </tr>\n",
       "    <tr>\n",
       "      <th>0</th>\n",
       "      <td>Добавить два новых канала привлечения трафика,...</td>\n",
       "      <td>40.0</td>\n",
       "    </tr>\n",
       "  </tbody>\n",
       "</table>\n",
       "</div>"
      ],
      "text/plain": [
       "                                          Hypothesis   RICE\n",
       "7  Добавить форму подписки на все основные страни...  112.0\n",
       "2  Добавить блоки рекомендаций товаров на сайт ин...   56.0\n",
       "0  Добавить два новых канала привлечения трафика,...   40.0"
      ]
     },
     "execution_count": 6,
     "metadata": {},
     "output_type": "execute_result"
    }
   ],
   "source": [
    "\n",
    "hypothesis['RICE'] = (hypothesis['Reach']*hypothesis['Impact']*hypothesis['Confidence'])/hypothesis['Efforts']\n",
    "\n",
    "hypothesis[['Hypothesis', 'RICE']].sort_values(by = ['RICE'], ascending = False).head(3)"
   ]
  },
  {
   "cell_type": "code",
   "execution_count": 7,
   "metadata": {},
   "outputs": [
    {
     "data": {
      "text/html": [
       "<style  type=\"text/css\" >\n",
       "    #T_b8c19_ caption {\n",
       "          color: orangered;\n",
       "          font-size: 18px;\n",
       "    }#T_b8c19_row0_col1,#T_b8c19_row2_col2{\n",
       "            background-color:  #7f2704;\n",
       "            color:  #f1f1f1;\n",
       "        }#T_b8c19_row0_col2{\n",
       "            background-color:  #fee6cf;\n",
       "            color:  #000000;\n",
       "        }#T_b8c19_row1_col1{\n",
       "            background-color:  #c03f02;\n",
       "            color:  #f1f1f1;\n",
       "        }#T_b8c19_row1_col2,#T_b8c19_row3_col2{\n",
       "            background-color:  #fdb87c;\n",
       "            color:  #000000;\n",
       "        }#T_b8c19_row2_col1{\n",
       "            background-color:  #e85d0c;\n",
       "            color:  #000000;\n",
       "        }#T_b8c19_row3_col1{\n",
       "            background-color:  #fd984b;\n",
       "            color:  #000000;\n",
       "        }#T_b8c19_row4_col1{\n",
       "            background-color:  #fda863;\n",
       "            color:  #000000;\n",
       "        }#T_b8c19_row4_col2{\n",
       "            background-color:  #fd9141;\n",
       "            color:  #000000;\n",
       "        }#T_b8c19_row5_col1{\n",
       "            background-color:  #feeddc;\n",
       "            color:  #000000;\n",
       "        }#T_b8c19_row5_col2,#T_b8c19_row6_col2,#T_b8c19_row7_col1{\n",
       "            background-color:  #fff4e9;\n",
       "            color:  #000000;\n",
       "        }#T_b8c19_row6_col1{\n",
       "            background-color:  #fff3e6;\n",
       "            color:  #000000;\n",
       "        }#T_b8c19_row7_col2{\n",
       "            background-color:  #ffeede;\n",
       "            color:  #000000;\n",
       "        }#T_b8c19_row8_col1,#T_b8c19_row8_col2{\n",
       "            background-color:  #fff5eb;\n",
       "            color:  #000000;\n",
       "        }</style><table id=\"T_b8c19_\" ><caption>Приоритизация гипотез на основнии расчета ICE и RICE</caption><thead>    <tr>        <th class=\"blank level0\" ></th>        <th class=\"col_heading level0 col0\" >Hypothesis</th>        <th class=\"col_heading level0 col1\" >ICE</th>        <th class=\"col_heading level0 col2\" >RICE</th>    </tr></thead><tbody>\n",
       "                <tr>\n",
       "                        <th id=\"T_b8c19_level0_row0\" class=\"row_heading level0 row0\" >8</th>\n",
       "                        <td id=\"T_b8c19_row0_col0\" class=\"data row0 col0\" >Запустить акцию, дающую скидку на товар в день рождения</td>\n",
       "                        <td id=\"T_b8c19_row0_col1\" class=\"data row0 col1\" >16.20</td>\n",
       "                        <td id=\"T_b8c19_row0_col2\" class=\"data row0 col2\" >16.20</td>\n",
       "            </tr>\n",
       "            <tr>\n",
       "                        <th id=\"T_b8c19_level0_row1\" class=\"row_heading level0 row1\" >0</th>\n",
       "                        <td id=\"T_b8c19_row1_col0\" class=\"data row1 col0\" >Добавить два новых канала привлечения трафика, что позволит привлекать на 30% больше пользователей</td>\n",
       "                        <td id=\"T_b8c19_row1_col1\" class=\"data row1 col1\" >13.33</td>\n",
       "                        <td id=\"T_b8c19_row1_col2\" class=\"data row1 col2\" >40.00</td>\n",
       "            </tr>\n",
       "            <tr>\n",
       "                        <th id=\"T_b8c19_level0_row2\" class=\"row_heading level0 row2\" >7</th>\n",
       "                        <td id=\"T_b8c19_row2_col0\" class=\"data row2 col0\" >Добавить форму подписки на все основные страницы, чтобы собрать базу клиентов для email-рассылок</td>\n",
       "                        <td id=\"T_b8c19_row2_col1\" class=\"data row2 col1\" >11.20</td>\n",
       "                        <td id=\"T_b8c19_row2_col2\" class=\"data row2 col2\" >112.00</td>\n",
       "            </tr>\n",
       "            <tr>\n",
       "                        <th id=\"T_b8c19_level0_row3\" class=\"row_heading level0 row3\" >6</th>\n",
       "                        <td id=\"T_b8c19_row3_col0\" class=\"data row3 col0\" >Показать на главной странице баннеры с актуальными акциями и распродажами, чтобы увеличить конверсию</td>\n",
       "                        <td id=\"T_b8c19_row3_col1\" class=\"data row3 col1\" >8.00</td>\n",
       "                        <td id=\"T_b8c19_row3_col2\" class=\"data row3 col2\" >40.00</td>\n",
       "            </tr>\n",
       "            <tr>\n",
       "                        <th id=\"T_b8c19_level0_row4\" class=\"row_heading level0 row4\" >2</th>\n",
       "                        <td id=\"T_b8c19_row4_col0\" class=\"data row4 col0\" >Добавить блоки рекомендаций товаров на сайт интернет магазина, чтобы повысить конверсию и средний чек заказа</td>\n",
       "                        <td id=\"T_b8c19_row4_col1\" class=\"data row4 col1\" >7.00</td>\n",
       "                        <td id=\"T_b8c19_row4_col2\" class=\"data row4 col2\" >56.00</td>\n",
       "            </tr>\n",
       "            <tr>\n",
       "                        <th id=\"T_b8c19_level0_row5\" class=\"row_heading level0 row5\" >1</th>\n",
       "                        <td id=\"T_b8c19_row5_col0\" class=\"data row5 col0\" >Запустить собственную службу доставки, что сократит срок доставки заказов</td>\n",
       "                        <td id=\"T_b8c19_row5_col1\" class=\"data row5 col1\" >2.00</td>\n",
       "                        <td id=\"T_b8c19_row5_col2\" class=\"data row5 col2\" >4.00</td>\n",
       "            </tr>\n",
       "            <tr>\n",
       "                        <th id=\"T_b8c19_level0_row6\" class=\"row_heading level0 row6\" >5</th>\n",
       "                        <td id=\"T_b8c19_row6_col0\" class=\"data row6 col0\" >Добавить страницу отзывов клиентов о магазине, что позволит увеличить количество заказов</td>\n",
       "                        <td id=\"T_b8c19_row6_col1\" class=\"data row6 col1\" >1.33</td>\n",
       "                        <td id=\"T_b8c19_row6_col2\" class=\"data row6 col2\" >4.00</td>\n",
       "            </tr>\n",
       "            <tr>\n",
       "                        <th id=\"T_b8c19_level0_row7\" class=\"row_heading level0 row7\" >3</th>\n",
       "                        <td id=\"T_b8c19_row7_col0\" class=\"data row7 col0\" >Изменить структура категорий, что увеличит конверсию, т.к. пользователи быстрее найдут нужный товар</td>\n",
       "                        <td id=\"T_b8c19_row7_col1\" class=\"data row7 col1\" >1.12</td>\n",
       "                        <td id=\"T_b8c19_row7_col2\" class=\"data row7 col2\" >9.00</td>\n",
       "            </tr>\n",
       "            <tr>\n",
       "                        <th id=\"T_b8c19_level0_row8\" class=\"row_heading level0 row8\" >4</th>\n",
       "                        <td id=\"T_b8c19_row8_col0\" class=\"data row8 col0\" >Изменить цвет фона главной страницы, чтобы увеличить вовлеченность пользователей</td>\n",
       "                        <td id=\"T_b8c19_row8_col1\" class=\"data row8 col1\" >1.00</td>\n",
       "                        <td id=\"T_b8c19_row8_col2\" class=\"data row8 col2\" >3.00</td>\n",
       "            </tr>\n",
       "    </tbody></table>"
      ],
      "text/plain": [
       "<pandas.io.formats.style.Styler at 0x7f46335b0130>"
      ]
     },
     "execution_count": 7,
     "metadata": {},
     "output_type": "execute_result"
    }
   ],
   "source": [
    "(hypothesis[['Hypothesis', 'ICE', 'RICE']]\n",
    "   .sort_values(by = ['ICE', 'RICE'], ascending = False)\n",
    "  .style\n",
    "  .format('{:.2f}', subset = 'ICE')\n",
    "  .format('{:.2f}', subset = 'RICE')\n",
    "  .background_gradient(subset=['ICE','RICE'], cmap='Oranges')\n",
    "  .set_caption('Приоритизация гипотез на основнии расчета ICE и RICE')\n",
    "  .set_table_styles([{'selector': 'caption', \n",
    "                     'props': [('color', 'orangered'), ('font-size', '18px')]\n",
    "                     }])\n",
    ")"
   ]
  },
  {
   "cell_type": "markdown",
   "metadata": {},
   "source": [
    "\n",
    " **Вывод:**\n",
    "\n",
    "<font color='orangered'>**Приоритетные гипотезы, на основании расчета ICE:**</font>\n",
    "\n",
    "- Запустить акцию, дающую скидку на товар в день рождения (гипотеза 8).\n",
    "- Добавить два новых канала привлечения трафика, что позволит привлекать на 30% больше пользователей (гипотеза 0).\n",
    "- Добавить форму подписки на все основные страницы, чтобы собрать базу клиентов для email-рассылок (гипотеза 7).\t\n",
    "\n",
    "<font color='orangered'>**Приоритетные гипотезы, на основании расчета RICE:**</font>\n",
    "\n",
    "- Добавить форму подписки на все основные страницы, чтобы собрать базу клиентов для email-рассылок (гипотеза 7).\n",
    "- Добавить блоки рекомендации товаров на сайт интернет-магазина, чтобы повысить конверсию и средний чек заказа (гипотеза 2).\n",
    "- Добавить новый канал привлечения пользователей, чтобы увеличить охват (гипотеза 0).\n",
    "\n",
    "Приоритетные гипотезы, рассчитанные на основе ICE, отличаются от приоритетных гипотез, рассчитанных на основе RICE, в связи с тем, что при расчете RICE участвует коэффициент reach - охват аудитории. Он максимальный для гипотез 7 и 2."
   ]
  },
  {
   "cell_type": "markdown",
   "metadata": {},
   "source": [
    "## Анализ A/B-теста <a id=\"analyse\"></a> "
   ]
  },
  {
   "cell_type": "code",
   "execution_count": 8,
   "metadata": {},
   "outputs": [],
   "source": [
    "def analyze_dataframe(df):\n",
    "    print('\\033[1m'+'Общая информация о DataFrame'+'\\033[0m')\n",
    "    print(df.info())\n",
    "    \n",
    "    print('\\033[1m'+\"\\nПропуски в данных:\"+'\\033[0m')\n",
    "    missing_data = df.isnull().sum()\n",
    "    print(missing_data[missing_data > 0])\n",
    "    \n",
    "    print('\\033[1m'+\"\\nНазвания столбцов:\"+'\\033[0m')\n",
    "    print(df.columns.tolist())\n",
    "    \n",
    "    print('\\033[1m'+\"\\nПервые пять строк данных:\"+'\\033[0m')\n",
    "    print(df.head())\n",
    "    \n",
    "    missing_values = df.isnull().sum()\n",
    "    print('\\033[1m'+\"\\nКоличество пропусков:\"+'\\033[0m', missing_values[missing_values > 0])\n",
    "\n",
    "    duplicate_count = df.duplicated().sum()\n",
    "    print('\\033[1m'+\"\\nКоличество дубликатов:\"+'\\033[0m', duplicate_count)"
   ]
  },
  {
   "cell_type": "code",
   "execution_count": 9,
   "metadata": {},
   "outputs": [
    {
     "name": "stdout",
     "output_type": "stream",
     "text": [
      "\u001b[1mОбщая информация о DataFrame\u001b[0m\n",
      "<class 'pandas.core.frame.DataFrame'>\n",
      "RangeIndex: 1197 entries, 0 to 1196\n",
      "Data columns (total 5 columns):\n",
      " #   Column         Non-Null Count  Dtype \n",
      "---  ------         --------------  ----- \n",
      " 0   transactionId  1197 non-null   int64 \n",
      " 1   visitorId      1197 non-null   int64 \n",
      " 2   date           1197 non-null   object\n",
      " 3   revenue        1197 non-null   int64 \n",
      " 4   group          1197 non-null   object\n",
      "dtypes: int64(3), object(2)\n",
      "memory usage: 46.9+ KB\n",
      "None\n",
      "\u001b[1m\n",
      "Пропуски в данных:\u001b[0m\n",
      "Series([], dtype: int64)\n",
      "\u001b[1m\n",
      "Названия столбцов:\u001b[0m\n",
      "['transactionId', 'visitorId', 'date', 'revenue', 'group']\n",
      "\u001b[1m\n",
      "Первые пять строк данных:\u001b[0m\n",
      "   transactionId   visitorId        date  revenue group\n",
      "0     3667963787  3312258926  2019-08-15     1650     B\n",
      "1     2804400009  3642806036  2019-08-15      730     B\n",
      "2     2961555356  4069496402  2019-08-15      400     A\n",
      "3     3797467345  1196621759  2019-08-15     9759     B\n",
      "4     2282983706  2322279887  2019-08-15     2308     B\n",
      "\u001b[1m\n",
      "Количество пропусков:\u001b[0m Series([], dtype: int64)\n",
      "\u001b[1m\n",
      "Количество дубликатов:\u001b[0m 0\n"
     ]
    }
   ],
   "source": [
    "analyze_dataframe(orders)"
   ]
  },
  {
   "cell_type": "code",
   "execution_count": 10,
   "metadata": {},
   "outputs": [],
   "source": [
    "orders.rename(columns={\n",
    "    'transactionId': 'orderId',\n",
    "    'visitorId': 'userId'  \n",
    "}, inplace=True)"
   ]
  },
  {
   "cell_type": "code",
   "execution_count": 11,
   "metadata": {},
   "outputs": [],
   "source": [
    "orders['date'] = orders['date'].map(lambda x: dt.datetime.strptime(x, '%Y-%m-%d'))"
   ]
  },
  {
   "cell_type": "code",
   "execution_count": 12,
   "metadata": {},
   "outputs": [
    {
     "name": "stdout",
     "output_type": "stream",
     "text": [
      "Минимальная дата в датафрейме orders: 2019-08-01 00:00:00\n"
     ]
    }
   ],
   "source": [
    "print ('Минимальная дата в датафрейме orders:', orders['date'].min())"
   ]
  },
  {
   "cell_type": "code",
   "execution_count": 13,
   "metadata": {},
   "outputs": [
    {
     "name": "stdout",
     "output_type": "stream",
     "text": [
      "Максимальная дата в датафрейме orders: 2019-08-31 00:00:00\n"
     ]
    }
   ],
   "source": [
    "print ('Максимальная дата в датафрейме orders:', orders['date'].max())"
   ]
  },
  {
   "cell_type": "code",
   "execution_count": 14,
   "metadata": {},
   "outputs": [
    {
     "name": "stdout",
     "output_type": "stream",
     "text": [
      "\n",
      "Количество уникальных пользователей в группе A: 503\n",
      "Количество уникальных пользователей в группе B: 586\n"
     ]
    }
   ],
   "source": [
    "unique_users_A = orders[orders['group'] == 'A']['userId'].nunique()\n",
    "unique_users_B = orders[orders['group'] == 'B']['userId'].nunique()\n",
    "print(f\"\\nКоличество уникальных пользователей в группе A: {unique_users_A}\")\n",
    "print(f\"Количество уникальных пользователей в группе B: {unique_users_B}\")"
   ]
  },
  {
   "cell_type": "code",
   "execution_count": 15,
   "metadata": {},
   "outputs": [
    {
     "name": "stdout",
     "output_type": "stream",
     "text": [
      "Кол-во пользователей, которые есть в обеих группах:\n",
      "userId    58\n",
      "dtype: int64\n"
     ]
    }
   ],
   "source": [
    "users_a = orders.query('group == \"A\"')['userId']\n",
    "users_b = orders.query('group == \"B\"')['userId']\n",
    "common_users = set(users_a).intersection(set(users_b))\n",
    "common_users_df = pd.DataFrame(list(common_users), columns=['userId'])\n",
    "print(\"Кол-во пользователей, которые есть в обеих группах:\")\n",
    "print(common_users_df.count())"
   ]
  },
  {
   "cell_type": "markdown",
   "metadata": {},
   "source": [
    "По результатам работы с дублирующими пользователями и без было принято решение сохранить их для анализа."
   ]
  },
  {
   "cell_type": "code",
   "execution_count": 18,
   "metadata": {},
   "outputs": [
    {
     "name": "stdout",
     "output_type": "stream",
     "text": [
      "\u001b[1mОбщая информация о DataFrame\u001b[0m\n",
      "<class 'pandas.core.frame.DataFrame'>\n",
      "RangeIndex: 62 entries, 0 to 61\n",
      "Data columns (total 3 columns):\n",
      " #   Column    Non-Null Count  Dtype \n",
      "---  ------    --------------  ----- \n",
      " 0   date      62 non-null     object\n",
      " 1   group     62 non-null     object\n",
      " 2   visitors  62 non-null     int64 \n",
      "dtypes: int64(1), object(2)\n",
      "memory usage: 1.6+ KB\n",
      "None\n",
      "\u001b[1m\n",
      "Пропуски в данных:\u001b[0m\n",
      "Series([], dtype: int64)\n",
      "\u001b[1m\n",
      "Названия столбцов:\u001b[0m\n",
      "['date', 'group', 'visitors']\n",
      "\u001b[1m\n",
      "Первые пять строк данных:\u001b[0m\n",
      "         date group  visitors\n",
      "0  2019-08-01     A       719\n",
      "1  2019-08-02     A       619\n",
      "2  2019-08-03     A       507\n",
      "3  2019-08-04     A       717\n",
      "4  2019-08-05     A       756\n",
      "\u001b[1m\n",
      "Количество пропусков:\u001b[0m Series([], dtype: int64)\n",
      "\u001b[1m\n",
      "Количество дубликатов:\u001b[0m 0\n"
     ]
    }
   ],
   "source": [
    "analyze_dataframe(visitors)"
   ]
  },
  {
   "cell_type": "code",
   "execution_count": 19,
   "metadata": {},
   "outputs": [],
   "source": [
    "visitors['date'] = visitors['date'].map(lambda x: dt.datetime.strptime(x, '%Y-%m-%d'))"
   ]
  },
  {
   "cell_type": "code",
   "execution_count": 20,
   "metadata": {},
   "outputs": [
    {
     "name": "stdout",
     "output_type": "stream",
     "text": [
      "Минимальная дата в датафрейме visitors: 2019-08-01 00:00:00\n"
     ]
    }
   ],
   "source": [
    "print ('Минимальная дата в датафрейме visitors:', visitors['date'].min())"
   ]
  },
  {
   "cell_type": "code",
   "execution_count": 21,
   "metadata": {},
   "outputs": [
    {
     "name": "stdout",
     "output_type": "stream",
     "text": [
      "Максимальная дата в датафрейме visitors: 2019-08-31 00:00:00\n"
     ]
    }
   ],
   "source": [
    "print ('Максимальная дата в датафрейме visitors:', visitors['date'].max())"
   ]
  },
  {
   "cell_type": "markdown",
   "metadata": {},
   "source": [
    "**Вывод** \n",
    "\n",
    "<font color='orangered'>**Для A/B теста было получено 2 таблицы: `orders` и `visitors`:**</font>\n",
    "\n",
    "- Датафрейм <font color='orangered'>orders</font> содержит 1197 строк данных. Не имеет пропусков. Содержит столбцы `transactionId`, `visitorId`, `date`, `revenue`, `group`. Все столбцы, кроме столбца `date`, содержат корректный тип данных. Тип данных столбца `date` был преобразован.\n",
    "       \n",
    "- Датафрейм <font color='orangered'>visitors</font> содержит 62 строки и 3 столбца: `date`, `group`, `visitors`. Не имеет пропусков. Содержит 3 столбца: `date`, `group`, `visitors`. Все столбцы имеют корректный тип данных.\n",
    "\n",
    "В обоих датафреймах представлен период с 01.08.2019 по 31.08.2019.\n",
    "     \n",
    "Кроме того, в результате анализа <font color='orangered'>было обнаружено 58 пользователей, попавших в обе группы:</font> основную и экспериментальную. В классическом A/B тесте пользователь должен оставаться только в одной группе до конца эксперимента, так как происходит размывание результата, и данные невозможно однозначно интерпретировать, поскольку неясно, что конкретно больше повлияло на поведение пользователя. В данном случае был проведен анализ с удалением пользователей и без. В отсутствии этих пользователей меняются выбросы, поэтому <font color='orangered'>было принято решение продолжить эксперимент без удаления пользователей.</font> \n",
    "\n",
    "Однако в случае продолжения A/B тестирования рекомендуем более точно описать методологию выборки и настроить архитектуру исследования.\n",
    "Основные исправления:"
   ]
  },
  {
   "cell_type": "markdown",
   "metadata": {},
   "source": [
    "### График кумулятивной выручки по группам. <a id=\"cumulativeData\"></a> "
   ]
  },
  {
   "cell_type": "code",
   "execution_count": 22,
   "metadata": {},
   "outputs": [
    {
     "name": "stdout",
     "output_type": "stream",
     "text": [
      "        date group  orders  buyers  revenue  visitors\n",
      "0 2019-08-01     A      24      20   148579       719\n",
      "1 2019-08-01     B      21      20   101217       713\n",
      "2 2019-08-02     A      44      38   242401      1338\n",
      "3 2019-08-02     B      45      43   266748      1294\n",
      "4 2019-08-03     A      68      62   354874      1845\n"
     ]
    }
   ],
   "source": [
    "datesGroups = orders[['date','group']].drop_duplicates()\n",
    "\n",
    "ordersAggregated = datesGroups.apply(\n",
    "    lambda x: orders[np.logical_and(orders['date'] <= x['date'], \n",
    "    orders['group'] == x['group'])]\n",
    "    .agg({'date' : 'max', \n",
    "          'group' : 'max', \n",
    "          'orderId' : 'nunique', \n",
    "          'userId' : 'nunique', \n",
    "          'revenue' : 'sum'}), axis=1).sort_values(by=['date','group'])\n",
    "\n",
    "visitorsAggregated = datesGroups.apply(\n",
    "    lambda x: visitors[np.logical_and(visitors['date'] <= x['date'], visitors['group'] == x['group'])]\n",
    "    .agg({'date' : 'max', \n",
    "          'group' : 'max', \n",
    "          'visitors' : 'sum'}), axis=1).sort_values(by=['date','group'])\n",
    "\n",
    "cumulativeData = ordersAggregated.merge(visitorsAggregated, left_on=['date', 'group'], right_on=['date', 'group'])\n",
    "cumulativeData.columns = ['date', 'group', 'orders', 'buyers', 'revenue', 'visitors']\n",
    "\n",
    "print(cumulativeData.head(5)) "
   ]
  },
  {
   "cell_type": "code",
   "execution_count": 23,
   "metadata": {},
   "outputs": [
    {
     "data": {
      "text/plain": [
       "Timestamp('2019-08-01 00:00:00')"
      ]
     },
     "execution_count": 23,
     "metadata": {},
     "output_type": "execute_result"
    }
   ],
   "source": [
    "cumulativeData['date'].min()"
   ]
  },
  {
   "cell_type": "code",
   "execution_count": 24,
   "metadata": {},
   "outputs": [
    {
     "data": {
      "text/plain": [
       "Timestamp('2019-08-31 00:00:00')"
      ]
     },
     "execution_count": 24,
     "metadata": {},
     "output_type": "execute_result"
    }
   ],
   "source": [
    "cumulativeData['date'].max()"
   ]
  },
  {
   "cell_type": "code",
   "execution_count": 25,
   "metadata": {},
   "outputs": [
    {
     "data": {
      "image/png": "[encoded data removed]",
      "text/plain": [
       "<Figure size 864x576 with 1 Axes>"
      ]
     },
     "metadata": {
      "needs_background": "light"
     },
     "output_type": "display_data"
    }
   ],
   "source": [
    "plt.figure(figsize=(12, 8)) \n",
    "cumulativeRevenueA = cumulativeData[cumulativeData['group']=='A'][['date','revenue', 'orders']]\n",
    "cumulativeRevenueB = cumulativeData[cumulativeData['group']=='B'][['date','revenue', 'orders']]\n",
    "plt.plot(cumulativeRevenueA['date'], cumulativeRevenueA['revenue'], color='orangered', label='A') \n",
    "plt.plot(cumulativeRevenueB['date'], cumulativeRevenueB['revenue'], color='lime', label='B')\n",
    "plt.title ('График кумулятивной выручки по группам', color='orangered')\n",
    "plt.xticks(rotation=45)\n",
    "plt.xlabel('Даты', fontsize=12)  \n",
    "plt.ylabel('Выручка', fontsize=12) \n",
    "plt.legend();"
   ]
  },
  {
   "cell_type": "markdown",
   "metadata": {},
   "source": [
    "**Вывод**\n",
    "\n",
    "График кумулятивной выручки (или кумулятивной выручки по группам) в A/B тестах показывает, как меняется выручка со временем. На рисунке видно, что выручка для группы B выше выручки группы A, что позволяет сделать вывод о том, что проведенные изменения оказали положительное влияние. Однако на графике мы также видим резкий рост кумулятивной выручки в определенный момент времени по группе B. Это может сигнализировать о всплесках числа заказов или о появлении очень дорогих заказов в выборке."
   ]
  },
  {
   "cell_type": "markdown",
   "metadata": {},
   "source": [
    " ### График кумулятивного среднего чека по группам. <a id=\"cumulativeData1\"></a> "
   ]
  },
  {
   "cell_type": "code",
   "execution_count": 26,
   "metadata": {},
   "outputs": [
    {
     "data": {
      "image/png": "[encoded data removed]",
      "text/plain": [
       "<Figure size 864x576 with 1 Axes>"
      ]
     },
     "metadata": {
      "needs_background": "light"
     },
     "output_type": "display_data"
    }
   ],
   "source": [
    "plt.figure(figsize=(12, 8)) \n",
    "plt.plot(cumulativeRevenueA['date'], cumulativeRevenueA['revenue']/cumulativeRevenueA['orders'], label='A',  color='orangered')\n",
    "plt.plot(cumulativeRevenueB['date'], cumulativeRevenueB['revenue']/cumulativeRevenueB['orders'], label='B', color='lime')\n",
    "plt.title(' График кумулятивного среднего чека по группам', color='orangered')\n",
    "plt.xticks(rotation=45)\n",
    "plt.xlabel('Даты', fontsize=12)  \n",
    "plt.ylabel('Средний чек', fontsize=12)  \n",
    "plt.legend();"
   ]
  },
  {
   "cell_type": "markdown",
   "metadata": {},
   "source": [
    "**Вывод**\n",
    "\n",
    "График кумулятивного среднего чека по группам в A/B тестировании позволяет визуализировать изменения среднего чека (сумма покупок, деленная на количество покупок) для каждой из групп теста с течением времени. Как видно из графика, предпринятые изменения в продукте или ценовой политике оказали положительное влияние, и средний чек по группе B больше среднего чека по группе A. При этом резкий всплеск размера среднего чека в районе 18-19 августа 2019 года свидетельствует о том, что в группу B попали более крупные покупки."
   ]
  },
  {
   "cell_type": "markdown",
   "metadata": {},
   "source": [
    " ### График относительного изменения кумулятивного среднего чека группы B к группе A <a id=\"cumulativeData2\"></a> \n"
   ]
  },
  {
   "cell_type": "code",
   "execution_count": 27,
   "metadata": {},
   "outputs": [
    {
     "data": {
      "image/png": "[encoded data removed]",
      "text/plain": [
       "<Figure size 864x576 with 1 Axes>"
      ]
     },
     "metadata": {
      "needs_background": "light"
     },
     "output_type": "display_data"
    }
   ],
   "source": [
    "plt.figure(figsize=(12, 8)) \n",
    "mergedCumulativeRevenue = cumulativeRevenueA.merge(cumulativeRevenueB, left_on='date', right_on='date', how='left', suffixes=['A', 'B'])\n",
    "plt.plot(mergedCumulativeRevenue['date'], \n",
    "         (mergedCumulativeRevenue['revenueB']/mergedCumulativeRevenue['ordersB'])/(mergedCumulativeRevenue['revenueA']/mergedCumulativeRevenue['ordersA'])-1,\n",
    "          color = 'orangered')\n",
    "plt.axhline(y=0, color='lime', linestyle='--')\n",
    "plt.title(' График относительного изменения кумулятивного среднего чека группы B к группе A', color='orangered')\n",
    "plt.xticks(rotation=45)\n",
    "plt.xlabel('Даты', fontsize=12)  \n",
    "plt.ylabel('Средний чек', fontsize=12);"
   ]
  },
  {
   "cell_type": "markdown",
   "metadata": {},
   "source": [
    "**Вывод**\n",
    "\n",
    "График относительного изменения кумулятивного среднего чека группы B к группе A в A/B тесте позволяет визуализировать, на сколько процентов изменился средний чек группы B по сравнению с группой A в разные моменты времени. Мы видим два пика на графике: 6-7 августа 2019 года (но данный пик связан с уменьшением величины среднего кумулятивного чека по группе A) и 18-19 августа 2019 года, когда кумулятивный средний чек группы B отклонялся от группы A более чем на 40%. Аналогичный всплеск мы видим на двух предыдущих графиках."
   ]
  },
  {
   "cell_type": "markdown",
   "metadata": {},
   "source": [
    "### График кумулятивного среднего количества заказов на посетителя по группам <a id=\"cumulativeData3\"></a> "
   ]
  },
  {
   "cell_type": "code",
   "execution_count": 28,
   "metadata": {},
   "outputs": [
    {
     "data": {
      "image/png": "[encoded data removed]",
      "text/plain": [
       "<Figure size 864x576 with 1 Axes>"
      ]
     },
     "metadata": {
      "needs_background": "light"
     },
     "output_type": "display_data"
    }
   ],
   "source": [
    "plt.figure(figsize=(12, 8)) \n",
    "cumulativeData['conversion'] = cumulativeData['orders']/cumulativeData['visitors']\n",
    "cumulativeDataA = cumulativeData[cumulativeData['group']=='A']\n",
    "cumulativeDataB = cumulativeData[cumulativeData['group']=='B']\n",
    "plt.plot(cumulativeDataA['date'], cumulativeDataA['conversion'], label='A', color = 'orangered')\n",
    "plt.plot(cumulativeDataB['date'], cumulativeDataB['conversion'], label='B', color = 'lime')\n",
    "plt.legend()\n",
    "plt.xticks(rotation=45)\n",
    "plt.title(' График кумулятивного среднего количества заказов на посетителя по группам ', color='orangered')\n",
    "plt.xlabel('Даты', fontsize=12)  \n",
    "plt.ylabel('кол-во', fontsize=12);\n",
    "plt.axis([dt.datetime(2019, 8, 1), dt.datetime(2019, 8, 29), 0, 0.05]);"
   ]
  },
  {
   "cell_type": "markdown",
   "metadata": {},
   "source": [
    "**Вывод**\n",
    "\n",
    "График кумулятивного среднего количества заказов на посетителя по группам в A/B тестировании демонстрирует, как меняется среднее количество заказов, сделанных на одного посетителя, в различных группах. Так, после первоначального всплеска мы можем увидеть на графике, что у группы A примерно 3 заказа на человека, а у группы B — 3,5 заказа, что в целом лучше и говорит об эффективности проведенных изменений."
   ]
  },
  {
   "cell_type": "markdown",
   "metadata": {},
   "source": [
    "### График относительного изменения кумулятивного среднего количества заказов на посетителя группы B к группе A. <a id=\"cumulativeData4\"></a> "
   ]
  },
  {
   "cell_type": "code",
   "execution_count": 29,
   "metadata": {},
   "outputs": [
    {
     "data": {
      "image/png": "[encoded data removed]",
      "text/plain": [
       "<Figure size 864x576 with 1 Axes>"
      ]
     },
     "metadata": {
      "needs_background": "light"
     },
     "output_type": "display_data"
    }
   ],
   "source": [
    "plt.figure(figsize=(12, 8)) \n",
    "cumulativeDataA = cumulativeData[cumulativeData['group'] == 'A']\n",
    "cumulativeDataB = cumulativeData[cumulativeData['group'] == 'B']\n",
    "mergedCumulativeConversions = cumulativeDataA[['date','conversion']].merge(cumulativeDataB[['date','conversion']], left_on='date', right_on='date', how='left', suffixes=['A', 'B'])\n",
    "plt.plot(mergedCumulativeConversions['date'], mergedCumulativeConversions['conversionB']/mergedCumulativeConversions['conversionA']-1, color = 'orangered')\n",
    "plt.axhline(y=0, color='black', linestyle='--')\n",
    "plt.axhline(y=0.15, color='grey', linestyle='--')\n",
    "plt.xticks(rotation=45)\n",
    "plt.xlabel('Даты', fontsize=12)  \n",
    "plt.ylabel('кол-во', fontsize=12);\n",
    "plt.title('График относительного изменения кумулятивного среднего количества\\\n",
    "    заказов на посетителя группы B к группе A ', color='orangered');\n"
   ]
  },
  {
   "cell_type": "markdown",
   "metadata": {},
   "source": [
    "**Вывод**\n",
    "\n",
    "График относительного изменения кумулятивного среднего количества заказов на посетителя группы B к группе A позволяет анализировать, насколько изменилось среднее количество заказов на посетителя в группе B по сравнению с группой A на протяжении тестового периода в A/B тестировании. Этот график помогает оценить эффект проведенных изменений, который составляет рост среднего чека на 20% в группе B по сравнению с группой A."
   ]
  },
  {
   "cell_type": "markdown",
   "metadata": {},
   "source": [
    "### Точечный график количества заказов по пользователям. <a id=\"cumulativeData5\"></a> "
   ]
  },
  {
   "cell_type": "code",
   "execution_count": 30,
   "metadata": {},
   "outputs": [
    {
     "data": {
      "image/png": "[encoded data removed]",
      "text/plain": [
       "<Figure size 864x576 with 1 Axes>"
      ]
     },
     "metadata": {
      "needs_background": "light"
     },
     "output_type": "display_data"
    }
   ],
   "source": [
    "plt.figure(figsize=(12, 8)) \n",
    "ordersByUsers = (\n",
    "   orders.groupby('userId', as_index=False)\n",
    "    .agg({'orderId': 'nunique'})\n",
    ")\n",
    "ordersByUsers.columns = ['userId', 'orders']\n",
    "x_values = pd.Series(range(0, len(ordersByUsers)))\n",
    "x_values = pd.Series(range(0,len(ordersByUsers)))\n",
    "plt.title('Точечный график количества заказов по пользователям', color='orangered');\n",
    "plt.xlabel('кол-во пользователей', fontsize=12)  \n",
    "plt.ylabel('кол-во заказов', fontsize=12);\n",
    "plt.scatter(x_values, ordersByUsers['orders'],color = 'orangered');"
   ]
  },
  {
   "cell_type": "markdown",
   "metadata": {},
   "source": [
    "**Вывод**\n",
    "\n",
    "Точечный график наглядно показывает, как распределяются заказы между пользователями. Это позволяет сразу увидеть, есть ли выбросы или аномалии в данных. Исходя из графика, видно, что всего 4 пользователя сделали более 7 заказов. Так как принято отсеивать от 1% до 5% аномальных пользователей, уберем их из A/B тестирования."
   ]
  },
  {
   "cell_type": "markdown",
   "metadata": {},
   "source": [
    "### 95-й и 99-й перцентили количества заказов на пользователя. <a id=\"cumulativeData6\"></a> "
   ]
  },
  {
   "cell_type": "code",
   "execution_count": 31,
   "metadata": {},
   "outputs": [
    {
     "name": "stdout",
     "output_type": "stream",
     "text": [
      "          userId  orders\n",
      "1023  4256040402      11\n",
      "591   2458001652      11\n",
      "569   2378935119       9\n",
      "487   2038680547       8\n",
      "44     199603092       5\n",
      "744   3062433592       5\n"
     ]
    }
   ],
   "source": [
    "print(ordersByUsers.sort_values(by='orders', ascending=False).head(6))\n"
   ]
  },
  {
   "cell_type": "code",
   "execution_count": 32,
   "metadata": {},
   "outputs": [
    {
     "name": "stdout",
     "output_type": "stream",
     "text": [
      "[2. 4.]\n"
     ]
    }
   ],
   "source": [
    "# Метод np.percentile('column', [percentile1, percentile2, percentile3]) находит перцентили.\n",
    "print(np.percentile(ordersByUsers['orders'], [95, 99])) "
   ]
  },
  {
   "cell_type": "markdown",
   "metadata": {},
   "source": [
    "**Вывод**\n",
    "\n",
    "Таким образом, аномальными являются заказы, превышающие 4 заказа. Не более 5% пользователей совершали больше 2 заказов, и не более 1% — больше 4 заказов."
   ]
  },
  {
   "cell_type": "markdown",
   "metadata": {},
   "source": [
    "### Точечный график стоимостей заказов. <a id=\"cumulativeData5-1\"></a> "
   ]
  },
  {
   "cell_type": "code",
   "execution_count": 33,
   "metadata": {
    "scrolled": true
   },
   "outputs": [
    {
     "data": {
      "image/png": "[encoded data removed]",
      "text/plain": [
       "<Figure size 864x576 with 1 Axes>"
      ]
     },
     "metadata": {
      "needs_background": "light"
     },
     "output_type": "display_data"
    }
   ],
   "source": [
    "plt.figure(figsize=(12, 8)) \n",
    "\n",
    "x_values = pd.Series(range(0, len(orders['revenue'])))\n",
    "plt.scatter(x_values, orders['revenue'], color = 'orangered') \n",
    "\n",
    "plt.title('Точечный график стоимостей заказов', color='orangered')\n",
    "plt.xlabel('кол-во пользователей', fontsize=12)  \n",
    "plt.ylabel('стоимость заказов (млн.руб)', fontsize=12);"
   ]
  },
  {
   "cell_type": "code",
   "execution_count": 34,
   "metadata": {},
   "outputs": [
    {
     "data": {
      "image/png": "[encoded data removed]",
      "text/plain": [
       "<Figure size 864x576 with 1 Axes>"
      ]
     },
     "metadata": {
      "needs_background": "light"
     },
     "output_type": "display_data"
    }
   ],
   "source": [
    "plt.figure(figsize=(12, 8)) \n",
    "\n",
    "x_values = pd.Series(range(0, len(orders['revenue'])))\n",
    "plt.scatter(x_values, orders['revenue'], color = 'orangered') \n",
    "plt.ylim(0, 200000)\n",
    "\n",
    "plt.title('Точечный график стоимостей заказов', color='orangered')\n",
    "plt.xlabel('стоимость заказов (млн.руб)', fontsize=12)  \n",
    "plt.ylabel('кол-во пользователей', fontsize=12);"
   ]
  },
  {
   "cell_type": "markdown",
   "metadata": {},
   "source": [
    "**Вывод**\n",
    "\n",
    "Точечный график наглядно показывает, как распределяются стоимости заказов. Это позволяет сразу увидеть, есть ли выбросы или аномалии в данных. Исходя из графика, видно, что существуют выбросы — заказы в районе 1,2 млн руб и 200 тыс. руб."
   ]
  },
  {
   "cell_type": "markdown",
   "metadata": {},
   "source": [
    "### 95-й и 99-й перцентили стоимости заказов. <a id=\"cumulativeData6-1\"></a> "
   ]
  },
  {
   "cell_type": "code",
   "execution_count": 35,
   "metadata": {},
   "outputs": [
    {
     "name": "stdout",
     "output_type": "stream",
     "text": [
      "         orderId      userId       date  revenue group\n",
      "425    590470918  1920142716 2019-08-19  1294500     B\n",
      "1196  3936777065  2108080724 2019-08-15   202740     B\n",
      "858    192721366  1316129916 2019-08-27    93940     A\n",
      "1136   666610489  1307669133 2019-08-13    92550     A\n",
      "744   3668308183   888512513 2019-08-27    86620     B\n",
      "682   1216533772  4266935830 2019-08-29    78990     B\n",
      "662   1811671147  4266935830 2019-08-29    78990     A\n",
      "743   3603576309  4133034833 2019-08-09    67990     A\n",
      "1103  1348774318  1164614297 2019-08-12    66350     A\n",
      "1099   316924019   148427295 2019-08-12    65710     A\n"
     ]
    }
   ],
   "source": [
    "print(orders.sort_values(by='revenue', ascending=False).head(10))"
   ]
  },
  {
   "cell_type": "code",
   "execution_count": 36,
   "metadata": {},
   "outputs": [
    {
     "name": "stdout",
     "output_type": "stream",
     "text": [
      "[18168.  28000.  58233.2]\n"
     ]
    }
   ],
   "source": [
    "print(np.percentile(orders['revenue'], [90, 95, 99])) "
   ]
  },
  {
   "cell_type": "markdown",
   "metadata": {},
   "source": [
    "**Вывод**\n",
    "\n",
    "Таким образом, аномальными являются заказы, превышающие 28 тыс. руб. Такие заказы сделали всего 5% пользователей, а заказы свыше 58 тыс. руб. совершали не более 1% пользователей."
   ]
  },
  {
   "cell_type": "markdown",
   "metadata": {},
   "source": [
    "### Статистическая значимость различий в среднем количестве заказов на посетителя между группами по «сырым» данным. <a id=\"cumulativeData7\"></a> "
   ]
  },
  {
   "cell_type": "markdown",
   "metadata": {},
   "source": [
    "Расчет статистической значимости различий в среднем количестве заказов на посетителя между группами по сырым данным:\n",
    "\n",
    "**Формулировка гипотез**:\n",
    "- H0: статистически значимых различий в среднем количестве заказов на посетителя между группами А и В по «сырым» данным нет.\n",
    "- H1: статистически значимые различия в среднем количестве заказов на посетителя между группами А и В по «сырым» данным есть.\n",
    "\n",
    "**Выбор уровня значимости**:\n",
    "- Выбранный уровень значимости α = 0.05\n",
    "\n",
    "**Метод проверки гипотез**:\n",
    "- Будем использовать тест Манна-Уитни для независимых выборок."
   ]
  },
  {
   "cell_type": "code",
   "execution_count": 37,
   "metadata": {},
   "outputs": [
    {
     "name": "stdout",
     "output_type": "stream",
     "text": [
      "p-value 0.017\n",
      "относительное различие в среднем между группами 0.138\n"
     ]
    }
   ],
   "source": [
    "visitorsADaily = visitors[visitors['group'] == 'A'][['date', 'visitors']]\n",
    "visitorsADaily.columns = ['date', 'visitorsPerDateA']\n",
    "\n",
    "visitorsACummulative = visitorsADaily.apply(\n",
    "    lambda x: visitorsADaily[visitorsADaily['date'] <= x['date']].agg(\n",
    "        {'date': 'max', 'visitorsPerDateA': 'sum'}\n",
    "    ),\n",
    "    axis=1,\n",
    ")\n",
    "visitorsACummulative.columns = ['date', 'visitorsCummulativeA']\n",
    "\n",
    "visitorsBDaily = visitors[visitors['group'] == 'B'][['date', 'visitors']]\n",
    "visitorsBDaily.columns = ['date', 'visitorsPerDateB']\n",
    "\n",
    "visitorsBCummulative = visitorsBDaily.apply(\n",
    "    lambda x: visitorsBDaily[visitorsBDaily['date'] <= x['date']].agg(\n",
    "        {'date': 'max', 'visitorsPerDateB': 'sum'}\n",
    "    ),\n",
    "    axis=1,\n",
    ")\n",
    "visitorsBCummulative.columns = ['date', 'visitorsCummulativeB']\n",
    "\n",
    "ordersADaily = (\n",
    "    orders[orders['group'] == 'A'][['date', 'orderId', 'userId', 'revenue']]\n",
    "    .groupby('date', as_index=False)\n",
    "    .agg({'orderId': pd.Series.nunique, 'revenue': 'sum'})\n",
    ")\n",
    "ordersADaily.columns = ['date', 'ordersPerDateA', 'revenuePerDateA']\n",
    "\n",
    "ordersACummulative = ordersADaily.apply(\n",
    "    lambda x: ordersADaily[ordersADaily['date'] <= x['date']].agg(\n",
    "        {'date': 'max', 'ordersPerDateA': 'sum', 'revenuePerDateA': 'sum'}\n",
    "    ),\n",
    "    axis=1,\n",
    ").sort_values(by=['date'])\n",
    "ordersACummulative.columns = [\n",
    "    'date',\n",
    "    'ordersCummulativeA',\n",
    "    'revenueCummulativeA',\n",
    "]\n",
    "\n",
    "ordersBDaily = (\n",
    "    orders[orders['group'] == 'B'][['date', 'orderId', 'userId', 'revenue']]\n",
    "    .groupby('date', as_index=False)\n",
    "    .agg({'orderId': pd.Series.nunique, 'revenue': 'sum'})\n",
    ")\n",
    "ordersBDaily.columns = ['date', 'ordersPerDateB', 'revenuePerDateB']\n",
    "\n",
    "ordersBCummulative = ordersBDaily.apply(\n",
    "    lambda x: ordersBDaily[ordersBDaily['date'] <= x['date']].agg(\n",
    "        {'date': 'max', 'ordersPerDateB': 'sum', 'revenuePerDateB': 'sum'}\n",
    "    ),\n",
    "    axis=1,\n",
    ").sort_values(by=['date'])\n",
    "ordersBCummulative.columns = [\n",
    "    'date',\n",
    "    'ordersCummulativeB',\n",
    "    'revenueCummulativeB',\n",
    "]\n",
    "\n",
    "data = (\n",
    "    ordersADaily.merge(\n",
    "        ordersBDaily, left_on='date', right_on='date', how='left'\n",
    "    )\n",
    "    .merge(ordersACummulative, left_on='date', right_on='date', how='left')\n",
    "    .merge(ordersBCummulative, left_on='date', right_on='date', how='left')\n",
    "    .merge(visitorsADaily, left_on='date', right_on='date', how='left')\n",
    "    .merge(visitorsBDaily, left_on='date', right_on='date', how='left')\n",
    "    .merge(visitorsACummulative, left_on='date', right_on='date', how='left')\n",
    "    .merge(visitorsBCummulative, left_on='date', right_on='date', how='left')\n",
    ")\n",
    "\n",
    "\n",
    "\n",
    "ordersByUsersA = (\n",
    "    orders[orders['group'] == 'A']\n",
    "    .groupby('userId', as_index=False)\n",
    "    .agg({'orderId': pd.Series.nunique})\n",
    ")\n",
    "ordersByUsersA.columns = ['userId', 'orders']\n",
    "\n",
    "ordersByUsersB = (\n",
    "    orders[orders['group'] == 'B']\n",
    "    .groupby('userId', as_index=False)\n",
    "    .agg({'orderId': pd.Series.nunique})\n",
    ")\n",
    "ordersByUsersB.columns = ['userId', 'orders']\n",
    "\n",
    "\n",
    "sampleA = pd.concat([ordersByUsersA['orders'],pd.Series(0, index=np.arange(data['visitorsPerDateA'].sum() - len(ordersByUsersA['orders'])), name='orders')],axis=0)\n",
    "\n",
    "sampleB = pd.concat([ordersByUsersB['orders'],pd.Series(0, index=np.arange(data['visitorsPerDateB'].sum() - len(ordersByUsersB['orders'])), name='orders')],axis=0)\n",
    "\n",
    "ordersByUsersA = (\n",
    "    orders[orders['group'] == 'A']\n",
    "    .groupby('userId', as_index=False)\n",
    "    .agg({'orderId': pd.Series.nunique})\n",
    ")\n",
    "ordersByUsersA.columns = ['userId', 'orders']\n",
    "\n",
    "ordersByUsersB = (\n",
    "    orders[orders['group'] == 'B']\n",
    "    .groupby('userId', as_index=False)\n",
    "    .agg({'orderId': pd.Series.nunique})\n",
    ")\n",
    "ordersByUsersB.columns = ['userId', 'orders']\n",
    "\n",
    "sampleA = pd.concat(\n",
    "    [\n",
    "        ordersByUsersA['orders'],\n",
    "        pd.Series(\n",
    "            0,\n",
    "            index=np.arange(\n",
    "                data['visitorsPerDateA'].sum() - len(ordersByUsersA['orders'])\n",
    "            ),\n",
    "            name='orders',\n",
    "        ),\n",
    "    ],\n",
    "    axis=0,\n",
    ")\n",
    "\n",
    "sampleB = pd.concat(\n",
    "    [\n",
    "        ordersByUsersB['orders'],\n",
    "        pd.Series(\n",
    "            0,\n",
    "            index=np.arange(\n",
    "                data['visitorsPerDateB'].sum() - len(ordersByUsersB['orders'])\n",
    "            ),\n",
    "            name='orders',\n",
    "        ),\n",
    "    ],\n",
    "    axis=0,\n",
    ")\n",
    "\n",
    "print('p-value', \"{0:.3f}\".format(stats.mannwhitneyu(sampleA, sampleB)[1]))\n",
    "\n",
    "print('относительное различие в среднем между группами', \"{0:.3f}\".format((sampleB.mean() / sampleA.mean() - 1)))"
   ]
  },
  {
   "cell_type": "markdown",
   "metadata": {},
   "source": [
    "**Вывод**\n",
    "\n",
    "По сырым данным:\n",
    "- Нулевая гипотеза: различий в среднем количестве заказов между группами нет.\n",
    "- Альтернативная гипотеза: различия в среднем количестве заказов между группами есть.\n",
    "\n",
    "P-value значительно меньше 5%, поэтому нулевую гипотезу отвергаем. Анализ «сырых данных» показывает, что в среднем количестве заказов между группами нет статистически значимых различий. Относительный прирост среднего количества заказов группы B к конверсии группы A равен 13.8%.\n"
   ]
  },
  {
   "cell_type": "markdown",
   "metadata": {},
   "source": [
    "### Статистическая значимость различий в среднем чеке заказа между группами по «сырым» данным. <a id=\"cumulativeData8\"></a> "
   ]
  },
  {
   "cell_type": "markdown",
   "metadata": {},
   "source": [
    "Расчет статистической значимости различий в среднем чеке между группами по сырым данным:\n",
    "\n",
    "**Формулировка гипотез**:\n",
    "- H0: статистически значимых различий в среднем чеке между группами А и В по «сырым» данным нет.\n",
    "- H1: статистически значимые различия в среднем чеке между группами А и В по «сырым» данным есть.\n",
    "\n",
    "**Выбор уровня значимости**:\n",
    "- Выбранный уровень значимости α = 0.05.\n",
    "\n",
    "**Метод проверки гипотез**:\n",
    "- Будем использовать тест Манна-Уитни для независимых выборок.\n"
   ]
  },
  {
   "cell_type": "code",
   "execution_count": 38,
   "metadata": {},
   "outputs": [
    {
     "name": "stdout",
     "output_type": "stream",
     "text": [
      "p-value 0.729\n",
      "относительное различие в среднем между группами 0.259\n"
     ]
    }
   ],
   "source": [
    "print('p-value','{0:.3f}'.format(stats.mannwhitneyu(orders[orders['group']=='A']['revenue'], orders[orders['group']=='B']['revenue'])[1]))\n",
    "print('относительное различие в среднем между группами','{0:.3f}'.format(orders[orders['group']=='B']['revenue'].mean()/orders[orders['group']=='A']['revenue'].mean()-1))  "
   ]
  },
  {
   "cell_type": "markdown",
   "metadata": {},
   "source": [
    "**Вывод**\n",
    "\n",
    "По сырым данным:\n",
    "- Нулевая гипотеза: различий в среднем чеке заказа между группами нет.\n",
    "- Альтернативная гипотеза: различия в среднем чеке между группами есть.\n",
    "\n",
    "P-value значительно больше 5%, поэтому нулевую гипотезу не отвергаем. Анализ «сырых данных» показывает, что в среднем чеке между группами нет статистически значимых различий. Относительный прирост среднего чека группы B к среднему чеку группы A равен 25.9%.\n",
    "\n"
   ]
  },
  {
   "cell_type": "markdown",
   "metadata": {},
   "source": [
    "### Статистическая значимостьразличий в среднем количестве заказов на посетителя между группами по «очищенным» данным <a id=\"cumulativeData9\"></a> "
   ]
  },
  {
   "cell_type": "markdown",
   "metadata": {},
   "source": [
    "Расчет статистической значимости различий в среднем количестве заказов на посетителя между группами по очищенным данным:\n",
    "\n",
    "**Формулировка гипотез**:\n",
    "- H0: статистически значимых различий в среднем количестве заказов на посетителя между группами А и В по «очищенным» данным нет.\n",
    "- H1: статистически значимые различия в среднем количестве заказов на посетителя между группами А и В по «очищенным» данным есть.\n",
    "\n",
    "**Выбор уровня значимости**:\n",
    "- Выбранный уровень значимости α = 0.05.\n",
    "\n",
    "**Метод проверки гипотез**:\n",
    "- Мы будем использовать тест Манна-Уитни для независимых выборок."
   ]
  },
  {
   "cell_type": "code",
   "execution_count": 39,
   "metadata": {},
   "outputs": [],
   "source": [
    "\n",
    "order_limit = np.percentile(orders['revenue'], [90, 95, 99])[1]\n",
    "ordersByUsers_limit = np.percentile(ordersByUsers['orders'], [95, 99])[0]\n",
    "\n",
    "\n",
    "\n",
    "usersWithManyOrders = pd.concat(\n",
    "    [\n",
    "        ordersByUsersA[ordersByUsersA['orders'] >= ordersByUsers_limit]['userId'],\n",
    "        ordersByUsersB[ordersByUsersB['orders'] >= ordersByUsers_limit]['userId'],\n",
    "    ],\n",
    "    axis=0,\n",
    ")\n",
    "usersWithExpensiveOrders = orders[orders['revenue'] > order_limit]['userId']\n",
    "abnormalUsers = (\n",
    "    pd.concat([usersWithManyOrders, usersWithExpensiveOrders], axis=0)\n",
    "    .drop_duplicates()\n",
    "    .sort_values()\n",
    ")\n"
   ]
  },
  {
   "cell_type": "code",
   "execution_count": 40,
   "metadata": {},
   "outputs": [],
   "source": [
    "sampleAFiltered = pd.concat(\n",
    "    [\n",
    "        ordersByUsersA[\n",
    "            np.logical_not(ordersByUsersA['userId'].isin(abnormalUsers))\n",
    "        ]['orders'],\n",
    "        pd.Series(\n",
    "            0,\n",
    "            index=np.arange(\n",
    "                data['visitorsPerDateA'].sum() - len(ordersByUsersA['orders'])\n",
    "            ),\n",
    "            name='orders',\n",
    "        ),\n",
    "    ],\n",
    "    axis=0,\n",
    ")\n",
    "\n",
    "sampleBFiltered = pd.concat(\n",
    "    [\n",
    "        ordersByUsersB[\n",
    "            np.logical_not(ordersByUsersB['userId'].isin(abnormalUsers))\n",
    "        ]['orders'],\n",
    "        pd.Series(\n",
    "            0,\n",
    "            index=np.arange(\n",
    "                data['visitorsPerDateB'].sum() - len(ordersByUsersB['orders'])\n",
    "            ),\n",
    "            name='orders',\n",
    "        ),\n",
    "    ],\n",
    "    axis=0,\n",
    ") "
   ]
  },
  {
   "cell_type": "code",
   "execution_count": 41,
   "metadata": {},
   "outputs": [
    {
     "name": "stdout",
     "output_type": "stream",
     "text": [
      "p-value 0.016\n",
      "относительное различие в среднем между группами 0.168\n"
     ]
    }
   ],
   "source": [
    "print('p-value', '{0:.3f}'.format(stats.mannwhitneyu(sampleAFiltered, sampleBFiltered)[1]))\n",
    "print('относительное различие в среднем между группами', '{0:.3f}'.format(sampleBFiltered.mean()/sampleAFiltered.mean()-1)) "
   ]
  },
  {
   "cell_type": "markdown",
   "metadata": {},
   "source": [
    "**Вывод**\n",
    "\n",
    "По очищенным данным:\n",
    "- Нулевая гипотеза: различий в среднем количестве заказов между группами нет.\n",
    "- Альтернативная гипотеза: различия в среднем количестве заказов между группами есть.\n",
    "\n",
    "P-value меньше 5%, поэтому нулевую гипотезу отвергаем. Анализ «очищенных данных» показывает, что различия в среднем количестве заказов между группами действительно существуют. Относительный прирост среднего количества заказов группы B к среднему количеству заказов группы A равен 16.8%."
   ]
  },
  {
   "cell_type": "markdown",
   "metadata": {},
   "source": [
    "### статистическая значимость различий в среднем чеке заказа между группами по «очищенным» данным. <a id=\"cumulativeData10\"></a> "
   ]
  },
  {
   "cell_type": "markdown",
   "metadata": {},
   "source": [
    "Расчет статистической значимости различий в среднем чеке между группами по очищенным данным:\n",
    "\n",
    "**Формулировка гипотез**:\n",
    "- H0: статистически значимых различий в среднем чеке между группами А и В по «очищенным» данным нет.\n",
    "- H1: статистически значимые различия в среднем чеке между группами А и В по «очищенным» данным есть.\n",
    "\n",
    "**Выбор уровня значимости**:\n",
    "- Выбранный уровень значимости α = 0.05.\n",
    "\n",
    "**Метод проверки гипотез**:\n",
    "- Мы будем использовать тест Манна-Уитни для независимых выборок."
   ]
  },
  {
   "cell_type": "code",
   "execution_count": 42,
   "metadata": {},
   "outputs": [
    {
     "name": "stdout",
     "output_type": "stream",
     "text": [
      "p-value 0.835\n",
      "относительное различие в среднем между группами -0.006\n"
     ]
    }
   ],
   "source": [
    "print('p-value',\n",
    "    '{0:.3f}'.format(\n",
    "        stats.mannwhitneyu(\n",
    "            orders[\n",
    "                np.logical_and(\n",
    "                    orders['group'] == 'A',\n",
    "                    np.logical_not(orders['userId'].isin(abnormalUsers)),\n",
    "                )\n",
    "            ]['revenue'],\n",
    "            orders[\n",
    "                np.logical_and(\n",
    "                    orders['group'] == 'B',\n",
    "                    np.logical_not(orders['userId'].isin(abnormalUsers)),\n",
    "                )\n",
    "            ]['revenue'],\n",
    "        )[1]\n",
    "    )\n",
    ")\n",
    "\n",
    "print('относительное различие в среднем между группами',\n",
    "    \"{0:.3f}\".format(\n",
    "        orders[\n",
    "            np.logical_and(\n",
    "                orders['group'] == 'B',\n",
    "                np.logical_not(orders['userId'].isin(abnormalUsers)),\n",
    "            )\n",
    "        ]['revenue'].mean()\n",
    "        / orders[\n",
    "            np.logical_and(\n",
    "                orders['group'] == 'A',\n",
    "                np.logical_not(orders['userId'].isin(abnormalUsers)),\n",
    "            )\n",
    "        ]['revenue'].mean()\n",
    "        - 1\n",
    "    )\n",
    ") "
   ]
  },
  {
   "cell_type": "markdown",
   "metadata": {},
   "source": [
    "**Вывод**\n",
    "\n",
    "По очищенным данным:\n",
    "- Нулевая гипотеза: различий в среднем чеке между группами нет.\n",
    "- Альтернативная гипотеза: различия в среднем чеке между группами есть.\n",
    "\n",
    "P-value больше 5%, что означает, что различий между группами нет. Относительный прирост среднего чека по очищенным данным составил отрицательное значение -6%."
   ]
  },
  {
   "cell_type": "markdown",
   "metadata": {},
   "source": [
    "### Решение по результатам теста. <a id=\"cumulativeData11\"></a> "
   ]
  },
  {
   "cell_type": "markdown",
   "metadata": {},
   "source": [
    "По результатам теста я рекомендую продолжить тест. И буду обосновывать свое решение следующим образом:\n",
    "\n",
    "**Качество данных**: В ходе теста имелись пользователи, которые входили в обе группы (А и Б). Информация о данных пользователях не была удалена, так как это значительно искажало результаты исследования.\n",
    "\n",
    "**Сравнение общего эффекта**: Необходимо проанализировать, как суммарный эффект от увеличения количества заказов и снижения среднего чека влияет на выручку. Например, если увеличение количества заказов компенсирует снижение среднего чека и приводит к росту общей выручки, это может быть положительным знаком.\n",
    "\n",
    "**Оценка бизнес-целей**: Необходимо изучение бизнес-целей компании. Так, на этапе роста и захвата рынка рост количества заказов может быть важнее роста среднего чека.\n",
    "\n",
    "**Анализ поведения пользователей**: Также возможно провести дополнительный анализ, чтобы понять, почему произошло изменение в количестве заказов и среднем чеке. Возможно, стоит исследовать, как изменение повлияло на разные сегменты пользователей.\n"
   ]
  },
  {
   "cell_type": "markdown",
   "metadata": {},
   "source": [
    "Расчитаем несколько дополнительных показателей для калькулятора продолжительности АБ тестирования. Так нам нужны показатели среднего кол-ва ежедневных поситителей участвующих в тестировании, а также конверсия."
   ]
  },
  {
   "cell_type": "code",
   "execution_count": 43,
   "metadata": {},
   "outputs": [
    {
     "name": "stdout",
     "output_type": "stream",
     "text": [
      "среднее число посетителей сайта 1215\n"
     ]
    }
   ],
   "source": [
    "#расчет среднего количество ежедневных посетителей, которые примут участие в тесте (контроль + вариант)\n",
    "day_visit = visitors.groupby('date', as_index=False).agg({'visitors': 'sum'})\n",
    "visitors_daily = day_visit.mean()\n",
    "print('среднее число посетителей сайта', \"{0:.0f}\".format(visitors_daily[0]))"
   ]
  },
  {
   "cell_type": "code",
   "execution_count": 44,
   "metadata": {},
   "outputs": [
    {
     "name": "stdout",
     "output_type": "stream",
     "text": [
      "конверсия 3 %\n"
     ]
    }
   ],
   "source": [
    "print ('конверсия', \"{0:.0f}\".format((orders['orderId'].nunique()/visitors['visitors'].sum())*100), '%')"
   ]
  },
  {
   "cell_type": "markdown",
   "metadata": {},
   "source": [
    "## Вывод <a id=\"superend\"></a> "
   ]
  },
  {
   "cell_type": "markdown",
   "metadata": {},
   "source": [
    "<span style=\"color:orangered\">**Данный АБ тест можно признать успешным и ввести новшество в бизнес-модель.**</span>\n",
    "\n",
    "**Этапы проведения исследования:**\n",
    "\n",
    "1. Для А/В теста было получено 2 таблицы: `orders` и `visitors`, содержащие 1197 и 62 строки соответственно. В обоих датафреймах столбец `date` содержал некорректный тип данных.\n",
    "\n",
    "2. В ходе исследования были обнаружены проблемы с осуществлением выборки. Так, 58 пользователей попали в обе группы исследования: основную и экспериментальную. Данное обстоятельство может размывать результаты и влиять на расчет последующих метрик.\n",
    "\n",
    "3. Анализ данных по обеим группам следующий. Выручка для группы B выше выручки группы A, что позволяет сделать выводы о том, что проведенные изменения оказали положительное влияние. Однако на графике мы также видим резкий рост кумулятивной выручки в определенный момент времени. Об имеющихся выбросах в районе 18-19 августа 2019 года также свидетельствует резкий скачок размера среднего чека в группе B. График относительного изменения кумулятивного среднего чека группы B к группе A в A/B тесте также свидетельствует о росте среднего чека в группе B относительно группы A до 40% в вышеуказанный период времени, тогда как аналогичный показатель в отношении количества заказов составил всего 20%.\n",
    "\n",
    "4. Далее была произведена оценка имеющихся выбросов, и установлено, что аномальным является осуществление более 4 заказов (не более 5% пользователей совершали больше 2 заказов) и осуществление заказов на сумму более 28 тыс. руб. (не более 5% пользователей совершали подобные заказы).\n",
    "\n",
    "5. Далее была произведена оценка статистической значимости в среднем количестве заказов и среднем чеке по сырым и очищенным (от аномальных пользователей) данным:\n",
    "\n",
    "   **По сырым данным:** в среднем количестве заказов между группами нет статистически значимых различий. Относительный прирост среднего количества заказов группы B к конверсии группы A равен 13.8%. В среднем чеке различий между группами нет. Относительный прирост среднего чека группы B к среднему чеку группы A равен 25.9%.\n",
    "   \n",
    "   **По очищенным данным:** различия в среднем количестве заказов между группами есть. Относительный прирост среднего количества заказов группы B к среднему количеству группы A равен 16.8%. Различий в среднем чеке между группами нет. Относительный прирост среднего чека по очищенным данным составил отрицательное значение -6%.\n",
    "\n",
    "\n"
   ]
  },
  {
   "cell_type": "code",
   "execution_count": null,
   "metadata": {},
   "outputs": [],
   "source": []
  }
 ],
 "metadata": {
  "ExecuteTimeLog": [
   {
    "duration": 1588,
    "start_time": "2024-08-02T10:09:31.595Z"
   },
   {
    "duration": 275,
    "start_time": "2024-08-02T10:10:06.399Z"
   },
   {
    "duration": 13,
    "start_time": "2024-08-02T10:10:19.860Z"
   },
   {
    "duration": 16,
    "start_time": "2024-08-02T10:10:32.888Z"
   },
   {
    "duration": 249,
    "start_time": "2024-08-02T10:10:42.630Z"
   },
   {
    "duration": 6,
    "start_time": "2024-08-02T10:10:53.886Z"
   },
   {
    "duration": 4,
    "start_time": "2024-08-02T10:11:11.501Z"
   },
   {
    "duration": 118,
    "start_time": "2024-08-02T10:11:34.517Z"
   },
   {
    "duration": 215,
    "start_time": "2024-08-02T10:14:48.890Z"
   },
   {
    "duration": 13,
    "start_time": "2024-08-02T10:14:54.791Z"
   },
   {
    "duration": 9,
    "start_time": "2024-08-02T10:15:03.357Z"
   },
   {
    "duration": 358,
    "start_time": "2024-08-02T10:15:07.729Z"
   },
   {
    "duration": 74,
    "start_time": "2024-08-02T10:16:11.945Z"
   },
   {
    "duration": 116,
    "start_time": "2024-08-02T10:19:37.294Z"
   },
   {
    "duration": 1368,
    "start_time": "2024-08-02T10:20:20.241Z"
   },
   {
    "duration": 9,
    "start_time": "2024-08-02T10:21:09.118Z"
   },
   {
    "duration": 11,
    "start_time": "2024-08-02T10:24:11.421Z"
   },
   {
    "duration": 14,
    "start_time": "2024-08-02T10:24:24.613Z"
   },
   {
    "duration": 16,
    "start_time": "2024-08-02T10:24:41.893Z"
   },
   {
    "duration": 8,
    "start_time": "2024-08-02T10:25:14.423Z"
   },
   {
    "duration": 10,
    "start_time": "2024-08-02T10:29:05.187Z"
   },
   {
    "duration": 68,
    "start_time": "2024-08-02T10:34:45.431Z"
   },
   {
    "duration": 1132,
    "start_time": "2024-08-02T10:34:50.064Z"
   },
   {
    "duration": 1089,
    "start_time": "2024-08-02T10:35:04.561Z"
   },
   {
    "duration": 1012,
    "start_time": "2024-08-02T10:37:12.689Z"
   },
   {
    "duration": 1073,
    "start_time": "2024-08-02T10:37:22.698Z"
   },
   {
    "duration": 19,
    "start_time": "2024-08-02T10:38:10.967Z"
   },
   {
    "duration": 6,
    "start_time": "2024-08-02T11:02:56.497Z"
   },
   {
    "duration": 65,
    "start_time": "2024-08-02T11:04:55.353Z"
   },
   {
    "duration": 11,
    "start_time": "2024-08-02T11:05:14.962Z"
   },
   {
    "duration": 3,
    "start_time": "2024-08-02T11:08:10.392Z"
   },
   {
    "duration": 4,
    "start_time": "2024-08-02T11:08:11.311Z"
   },
   {
    "duration": 8,
    "start_time": "2024-08-02T11:08:13.693Z"
   },
   {
    "duration": 8,
    "start_time": "2024-08-02T11:08:16.261Z"
   },
   {
    "duration": 12,
    "start_time": "2024-08-02T11:08:17.631Z"
   },
   {
    "duration": 18,
    "start_time": "2024-08-02T11:09:08.610Z"
   },
   {
    "duration": 21,
    "start_time": "2024-08-02T12:06:29.520Z"
   },
   {
    "duration": 68,
    "start_time": "2024-08-02T12:07:20.403Z"
   },
   {
    "duration": 15,
    "start_time": "2024-08-02T12:07:31.881Z"
   },
   {
    "duration": 6,
    "start_time": "2024-08-02T12:09:02.540Z"
   },
   {
    "duration": 284,
    "start_time": "2024-08-02T12:09:13.028Z"
   },
   {
    "duration": 14,
    "start_time": "2024-08-02T12:09:24.908Z"
   },
   {
    "duration": 7,
    "start_time": "2024-08-02T12:09:44.018Z"
   },
   {
    "duration": 25,
    "start_time": "2024-08-02T12:32:31.332Z"
   },
   {
    "duration": 12,
    "start_time": "2024-08-02T12:33:20.272Z"
   },
   {
    "duration": 70,
    "start_time": "2024-08-02T12:34:51.993Z"
   },
   {
    "duration": 83,
    "start_time": "2024-08-02T12:34:57.689Z"
   },
   {
    "duration": 66,
    "start_time": "2024-08-02T12:35:13.470Z"
   },
   {
    "duration": 128,
    "start_time": "2024-08-02T12:35:31.769Z"
   },
   {
    "duration": 19,
    "start_time": "2024-08-02T12:37:03.571Z"
   },
   {
    "duration": 14,
    "start_time": "2024-08-02T12:37:23.409Z"
   },
   {
    "duration": 15,
    "start_time": "2024-08-02T12:37:50.165Z"
   },
   {
    "duration": 4,
    "start_time": "2024-08-02T12:38:40.410Z"
   },
   {
    "duration": 68,
    "start_time": "2024-08-02T12:38:56.447Z"
   },
   {
    "duration": 23,
    "start_time": "2024-08-02T12:39:02.687Z"
   },
   {
    "duration": 15,
    "start_time": "2024-08-02T12:39:26.806Z"
   },
   {
    "duration": 24,
    "start_time": "2024-08-02T12:41:35.171Z"
   },
   {
    "duration": 8,
    "start_time": "2024-08-02T12:42:46.775Z"
   },
   {
    "duration": 14,
    "start_time": "2024-08-02T12:42:48.127Z"
   },
   {
    "duration": 19,
    "start_time": "2024-08-02T12:43:11.220Z"
   },
   {
    "duration": 15,
    "start_time": "2024-08-02T12:43:18.622Z"
   },
   {
    "duration": 13,
    "start_time": "2024-08-02T12:43:51.371Z"
   },
   {
    "duration": 15,
    "start_time": "2024-08-02T12:44:21.907Z"
   },
   {
    "duration": 16,
    "start_time": "2024-08-02T12:44:38.880Z"
   },
   {
    "duration": 16,
    "start_time": "2024-08-02T12:46:12.182Z"
   },
   {
    "duration": 16,
    "start_time": "2024-08-02T12:46:57.297Z"
   },
   {
    "duration": 15,
    "start_time": "2024-08-02T12:47:35.692Z"
   },
   {
    "duration": 21,
    "start_time": "2024-08-02T12:48:12.613Z"
   },
   {
    "duration": 16,
    "start_time": "2024-08-02T12:48:33.005Z"
   },
   {
    "duration": 20,
    "start_time": "2024-08-02T12:49:48.153Z"
   },
   {
    "duration": 23,
    "start_time": "2024-08-02T12:50:06.725Z"
   },
   {
    "duration": 18,
    "start_time": "2024-08-02T12:50:37.381Z"
   },
   {
    "duration": 15,
    "start_time": "2024-08-02T12:50:54.716Z"
   },
   {
    "duration": 16,
    "start_time": "2024-08-02T12:51:12.923Z"
   },
   {
    "duration": 15,
    "start_time": "2024-08-02T12:51:29.260Z"
   },
   {
    "duration": 16,
    "start_time": "2024-08-02T13:04:09.595Z"
   },
   {
    "duration": 15,
    "start_time": "2024-08-02T13:04:17.324Z"
   },
   {
    "duration": 16,
    "start_time": "2024-08-02T13:04:30.170Z"
   },
   {
    "duration": 15,
    "start_time": "2024-08-02T13:06:39.865Z"
   },
   {
    "duration": 16,
    "start_time": "2024-08-02T13:06:57.769Z"
   },
   {
    "duration": 18,
    "start_time": "2024-08-02T13:07:19.066Z"
   },
   {
    "duration": 15,
    "start_time": "2024-08-02T13:08:11.283Z"
   },
   {
    "duration": 18,
    "start_time": "2024-08-02T13:09:51.798Z"
   },
   {
    "duration": 71,
    "start_time": "2024-08-02T13:10:19.988Z"
   },
   {
    "duration": 16,
    "start_time": "2024-08-02T13:10:34.052Z"
   },
   {
    "duration": 16,
    "start_time": "2024-08-02T13:10:50.421Z"
   },
   {
    "duration": 136,
    "start_time": "2024-08-02T13:11:01.857Z"
   },
   {
    "duration": 5,
    "start_time": "2024-08-02T13:32:40.773Z"
   },
   {
    "duration": 4,
    "start_time": "2024-08-02T13:32:48.933Z"
   },
   {
    "duration": 14,
    "start_time": "2024-08-02T13:35:46.130Z"
   },
   {
    "duration": 12,
    "start_time": "2024-08-02T13:35:55.105Z"
   },
   {
    "duration": 10,
    "start_time": "2024-08-02T13:36:10.366Z"
   },
   {
    "duration": 17,
    "start_time": "2024-08-02T13:36:18.631Z"
   },
   {
    "duration": 2,
    "start_time": "2024-08-02T13:44:44.334Z"
   },
   {
    "duration": 3,
    "start_time": "2024-08-02T13:44:51.033Z"
   },
   {
    "duration": 77,
    "start_time": "2024-08-02T13:44:51.538Z"
   },
   {
    "duration": 13,
    "start_time": "2024-08-02T13:48:59.514Z"
   },
   {
    "duration": 11,
    "start_time": "2024-08-02T13:49:12.662Z"
   },
   {
    "duration": 20,
    "start_time": "2024-08-02T13:49:21.928Z"
   },
   {
    "duration": 11,
    "start_time": "2024-08-02T13:49:39.271Z"
   },
   {
    "duration": 11,
    "start_time": "2024-08-02T13:49:40.016Z"
   },
   {
    "duration": 17,
    "start_time": "2024-08-02T13:49:41.351Z"
   },
   {
    "duration": 19,
    "start_time": "2024-08-02T13:50:14.316Z"
   },
   {
    "duration": 18,
    "start_time": "2024-08-02T13:51:46.623Z"
   },
   {
    "duration": 17,
    "start_time": "2024-08-02T13:51:56.514Z"
   },
   {
    "duration": 68,
    "start_time": "2024-08-02T13:57:20.030Z"
   },
   {
    "duration": 12,
    "start_time": "2024-08-02T13:57:24.538Z"
   },
   {
    "duration": 8,
    "start_time": "2024-08-02T13:57:53.948Z"
   },
   {
    "duration": 7,
    "start_time": "2024-08-02T13:58:07.952Z"
   },
   {
    "duration": 9,
    "start_time": "2024-08-02T13:58:21.114Z"
   },
   {
    "duration": 11,
    "start_time": "2024-08-02T13:58:30.532Z"
   },
   {
    "duration": 7,
    "start_time": "2024-08-02T13:58:42.260Z"
   },
   {
    "duration": 287,
    "start_time": "2024-08-02T14:09:46.212Z"
   },
   {
    "duration": 3,
    "start_time": "2024-08-02T14:10:22.655Z"
   },
   {
    "duration": 259,
    "start_time": "2024-08-02T14:10:23.400Z"
   },
   {
    "duration": 278,
    "start_time": "2024-08-02T14:10:47.510Z"
   },
   {
    "duration": 13,
    "start_time": "2024-08-02T14:11:44.709Z"
   },
   {
    "duration": 483,
    "start_time": "2024-08-02T14:11:51.647Z"
   },
   {
    "duration": 297,
    "start_time": "2024-08-02T14:13:02.822Z"
   },
   {
    "duration": 250,
    "start_time": "2024-08-02T14:13:12.420Z"
   },
   {
    "duration": 4,
    "start_time": "2024-08-02T14:13:24.589Z"
   },
   {
    "duration": 7,
    "start_time": "2024-08-02T14:13:30.416Z"
   },
   {
    "duration": 4,
    "start_time": "2024-08-02T14:13:58.794Z"
   },
   {
    "duration": 392,
    "start_time": "2024-08-02T14:14:17.175Z"
   },
   {
    "duration": 270,
    "start_time": "2024-08-02T14:14:44.560Z"
   },
   {
    "duration": 4,
    "start_time": "2024-08-02T14:16:06.396Z"
   },
   {
    "duration": 282,
    "start_time": "2024-08-02T14:16:11.446Z"
   },
   {
    "duration": 13,
    "start_time": "2024-08-02T14:18:41.913Z"
   },
   {
    "duration": 297,
    "start_time": "2024-08-02T14:19:11.257Z"
   },
   {
    "duration": 73,
    "start_time": "2024-08-02T14:21:44.511Z"
   },
   {
    "duration": 84,
    "start_time": "2024-08-02T14:22:39.415Z"
   },
   {
    "duration": 29,
    "start_time": "2024-08-02T14:23:14.472Z"
   },
   {
    "duration": 11,
    "start_time": "2024-08-02T14:23:17.362Z"
   },
   {
    "duration": 7,
    "start_time": "2024-08-02T14:23:19.476Z"
   },
   {
    "duration": 29,
    "start_time": "2024-08-02T14:23:21.501Z"
   },
   {
    "duration": 4,
    "start_time": "2024-08-02T14:23:22.317Z"
   },
   {
    "duration": 28,
    "start_time": "2024-08-02T14:23:26.198Z"
   },
   {
    "duration": 6,
    "start_time": "2024-08-02T14:24:55.301Z"
   },
   {
    "duration": 24,
    "start_time": "2024-08-02T14:25:09.716Z"
   },
   {
    "duration": 184,
    "start_time": "2024-08-02T14:25:33.352Z"
   },
   {
    "duration": 13,
    "start_time": "2024-08-02T14:25:43.598Z"
   },
   {
    "duration": 14,
    "start_time": "2024-08-02T14:27:10.304Z"
   },
   {
    "duration": 5,
    "start_time": "2024-08-02T14:27:20.942Z"
   },
   {
    "duration": 29,
    "start_time": "2024-08-02T14:27:23.809Z"
   },
   {
    "duration": 4,
    "start_time": "2024-08-02T14:27:24.415Z"
   },
   {
    "duration": 13,
    "start_time": "2024-08-02T14:27:25.164Z"
   },
   {
    "duration": 28,
    "start_time": "2024-08-02T14:27:45.379Z"
   },
   {
    "duration": 13,
    "start_time": "2024-08-02T14:27:46.713Z"
   },
   {
    "duration": 5,
    "start_time": "2024-08-02T14:27:48.376Z"
   },
   {
    "duration": 3,
    "start_time": "2024-08-02T14:27:55.312Z"
   },
   {
    "duration": 28,
    "start_time": "2024-08-02T14:27:55.813Z"
   },
   {
    "duration": 11,
    "start_time": "2024-08-02T14:27:56.419Z"
   },
   {
    "duration": 8,
    "start_time": "2024-08-02T14:27:57.704Z"
   },
   {
    "duration": 30,
    "start_time": "2024-08-02T14:27:58.506Z"
   },
   {
    "duration": 14,
    "start_time": "2024-08-02T14:28:00.184Z"
   },
   {
    "duration": 281,
    "start_time": "2024-08-02T14:28:16.533Z"
   },
   {
    "duration": 82,
    "start_time": "2024-08-02T14:29:32.540Z"
   },
   {
    "duration": 68,
    "start_time": "2024-08-02T15:20:26.798Z"
   },
   {
    "duration": 65,
    "start_time": "2024-08-02T15:20:40.660Z"
   },
   {
    "duration": 226,
    "start_time": "2024-08-02T15:20:50.925Z"
   },
   {
    "duration": 267,
    "start_time": "2024-08-02T15:21:02.731Z"
   },
   {
    "duration": 262,
    "start_time": "2024-08-02T17:37:49.128Z"
   },
   {
    "duration": 89,
    "start_time": "2024-08-02T17:38:43.443Z"
   },
   {
    "duration": 12,
    "start_time": "2024-08-02T17:38:57.512Z"
   },
   {
    "duration": 4,
    "start_time": "2024-08-02T17:39:23.518Z"
   },
   {
    "duration": 4,
    "start_time": "2024-08-02T17:40:25.775Z"
   },
   {
    "duration": 6,
    "start_time": "2024-08-02T17:40:27.047Z"
   },
   {
    "duration": 26,
    "start_time": "2024-08-02T17:42:24.679Z"
   },
   {
    "duration": 4,
    "start_time": "2024-08-02T17:44:04.121Z"
   },
   {
    "duration": 1355,
    "start_time": "2024-08-02T17:44:47.773Z"
   },
   {
    "duration": 78,
    "start_time": "2024-08-02T17:44:49.130Z"
   },
   {
    "duration": 12,
    "start_time": "2024-08-02T17:44:49.210Z"
   },
   {
    "duration": 13,
    "start_time": "2024-08-02T17:44:49.224Z"
   },
   {
    "duration": 13,
    "start_time": "2024-08-02T17:44:49.238Z"
   },
   {
    "duration": 10,
    "start_time": "2024-08-02T17:44:49.252Z"
   },
   {
    "duration": 88,
    "start_time": "2024-08-02T17:44:49.264Z"
   },
   {
    "duration": 11,
    "start_time": "2024-08-02T17:44:49.354Z"
   },
   {
    "duration": 11,
    "start_time": "2024-08-02T17:44:49.367Z"
   },
   {
    "duration": 25,
    "start_time": "2024-08-02T17:44:49.381Z"
   },
   {
    "duration": 23,
    "start_time": "2024-08-02T17:44:49.408Z"
   },
   {
    "duration": 35,
    "start_time": "2024-08-02T17:44:49.433Z"
   },
   {
    "duration": 13,
    "start_time": "2024-08-02T17:44:49.470Z"
   },
   {
    "duration": 17,
    "start_time": "2024-08-02T17:44:49.485Z"
   },
   {
    "duration": 15,
    "start_time": "2024-08-02T17:44:49.504Z"
   },
   {
    "duration": 136,
    "start_time": "2024-08-02T17:44:49.521Z"
   },
   {
    "duration": 26,
    "start_time": "2024-08-02T17:45:24.110Z"
   },
   {
    "duration": 5,
    "start_time": "2024-08-02T17:47:57.197Z"
   },
   {
    "duration": 9,
    "start_time": "2024-08-02T17:47:59.088Z"
   },
   {
    "duration": 17,
    "start_time": "2024-08-02T17:47:59.974Z"
   },
   {
    "duration": 8,
    "start_time": "2024-08-02T17:48:00.767Z"
   },
   {
    "duration": 6,
    "start_time": "2024-08-02T17:48:01.549Z"
   },
   {
    "duration": 7,
    "start_time": "2024-08-02T17:48:03.268Z"
   },
   {
    "duration": 25,
    "start_time": "2024-08-02T17:48:04.515Z"
   },
   {
    "duration": 22,
    "start_time": "2024-08-02T17:48:23.957Z"
   },
   {
    "duration": 14,
    "start_time": "2024-08-02T17:48:38.059Z"
   },
   {
    "duration": 3,
    "start_time": "2024-08-02T17:52:29.412Z"
   },
   {
    "duration": 5,
    "start_time": "2024-08-02T17:52:30.652Z"
   },
   {
    "duration": 10,
    "start_time": "2024-08-02T17:52:32.754Z"
   },
   {
    "duration": 8,
    "start_time": "2024-08-02T17:52:33.608Z"
   },
   {
    "duration": 10,
    "start_time": "2024-08-02T17:52:34.266Z"
   },
   {
    "duration": 5,
    "start_time": "2024-08-02T17:52:34.923Z"
   },
   {
    "duration": 11,
    "start_time": "2024-08-02T17:52:35.842Z"
   },
   {
    "duration": 169,
    "start_time": "2024-08-02T17:52:41.008Z"
   },
   {
    "duration": 138,
    "start_time": "2024-08-02T17:53:10.348Z"
   },
   {
    "duration": 288,
    "start_time": "2024-08-02T17:53:49.727Z"
   },
   {
    "duration": 2,
    "start_time": "2024-08-02T17:55:35.538Z"
   },
   {
    "duration": 297,
    "start_time": "2024-08-02T18:17:44.010Z"
   },
   {
    "duration": 192,
    "start_time": "2024-08-02T18:18:04.951Z"
   },
   {
    "duration": 1444,
    "start_time": "2024-08-02T18:21:04.300Z"
   },
   {
    "duration": 78,
    "start_time": "2024-08-02T18:21:05.747Z"
   },
   {
    "duration": 12,
    "start_time": "2024-08-02T18:21:05.827Z"
   },
   {
    "duration": 13,
    "start_time": "2024-08-02T18:21:05.840Z"
   },
   {
    "duration": 12,
    "start_time": "2024-08-02T18:21:05.855Z"
   },
   {
    "duration": 15,
    "start_time": "2024-08-02T18:21:05.869Z"
   },
   {
    "duration": 65,
    "start_time": "2024-08-02T18:21:05.886Z"
   },
   {
    "duration": 17,
    "start_time": "2024-08-02T18:21:05.953Z"
   },
   {
    "duration": 113,
    "start_time": "2024-08-02T18:21:05.972Z"
   },
   {
    "duration": 5,
    "start_time": "2024-08-02T18:21:06.088Z"
   },
   {
    "duration": 17,
    "start_time": "2024-08-02T18:21:06.095Z"
   },
   {
    "duration": 9,
    "start_time": "2024-08-02T18:21:06.114Z"
   },
   {
    "duration": 24,
    "start_time": "2024-08-02T18:21:06.124Z"
   },
   {
    "duration": 33,
    "start_time": "2024-08-02T18:21:06.151Z"
   },
   {
    "duration": 13,
    "start_time": "2024-08-02T18:21:06.185Z"
   },
   {
    "duration": 314,
    "start_time": "2024-08-02T18:21:06.199Z"
   },
   {
    "duration": 273,
    "start_time": "2024-08-02T18:21:06.515Z"
   },
   {
    "duration": 5,
    "start_time": "2024-08-02T18:23:57.413Z"
   },
   {
    "duration": 113,
    "start_time": "2024-08-02T18:26:27.748Z"
   },
   {
    "duration": 9,
    "start_time": "2024-08-02T18:26:37.367Z"
   },
   {
    "duration": 4,
    "start_time": "2024-08-02T18:26:46.653Z"
   },
   {
    "duration": 7,
    "start_time": "2024-08-02T18:31:31.064Z"
   },
   {
    "duration": 11,
    "start_time": "2024-08-02T18:31:32.657Z"
   },
   {
    "duration": 7,
    "start_time": "2024-08-02T18:31:33.432Z"
   },
   {
    "duration": 4,
    "start_time": "2024-08-02T18:31:36.403Z"
   },
   {
    "duration": 76,
    "start_time": "2024-08-02T18:31:38.584Z"
   },
   {
    "duration": 1288,
    "start_time": "2024-08-02T18:31:58.097Z"
   },
   {
    "duration": 77,
    "start_time": "2024-08-02T18:31:59.387Z"
   },
   {
    "duration": 15,
    "start_time": "2024-08-02T18:31:59.466Z"
   },
   {
    "duration": 12,
    "start_time": "2024-08-02T18:31:59.482Z"
   },
   {
    "duration": 11,
    "start_time": "2024-08-02T18:31:59.496Z"
   },
   {
    "duration": 11,
    "start_time": "2024-08-02T18:31:59.508Z"
   },
   {
    "duration": 69,
    "start_time": "2024-08-02T18:31:59.520Z"
   },
   {
    "duration": 18,
    "start_time": "2024-08-02T18:31:59.591Z"
   },
   {
    "duration": 8,
    "start_time": "2024-08-02T18:31:59.611Z"
   },
   {
    "duration": 20,
    "start_time": "2024-08-02T18:31:59.621Z"
   },
   {
    "duration": 21,
    "start_time": "2024-08-02T18:31:59.643Z"
   },
   {
    "duration": 6,
    "start_time": "2024-08-02T18:31:59.666Z"
   },
   {
    "duration": 20,
    "start_time": "2024-08-02T18:31:59.674Z"
   },
   {
    "duration": 11,
    "start_time": "2024-08-02T18:31:59.697Z"
   },
   {
    "duration": 8,
    "start_time": "2024-08-02T18:31:59.709Z"
   },
   {
    "duration": 73,
    "start_time": "2024-08-02T18:31:59.719Z"
   },
   {
    "duration": 0,
    "start_time": "2024-08-02T18:31:59.794Z"
   },
   {
    "duration": 0,
    "start_time": "2024-08-02T18:31:59.795Z"
   },
   {
    "duration": 0,
    "start_time": "2024-08-02T18:31:59.796Z"
   },
   {
    "duration": 1291,
    "start_time": "2024-08-02T18:35:14.165Z"
   },
   {
    "duration": 80,
    "start_time": "2024-08-02T18:35:15.458Z"
   },
   {
    "duration": 11,
    "start_time": "2024-08-02T18:35:15.540Z"
   },
   {
    "duration": 11,
    "start_time": "2024-08-02T18:35:15.553Z"
   },
   {
    "duration": 12,
    "start_time": "2024-08-02T18:35:15.565Z"
   },
   {
    "duration": 11,
    "start_time": "2024-08-02T18:35:15.579Z"
   },
   {
    "duration": 68,
    "start_time": "2024-08-02T18:35:15.592Z"
   },
   {
    "duration": 11,
    "start_time": "2024-08-02T18:35:15.662Z"
   },
   {
    "duration": 9,
    "start_time": "2024-08-02T18:35:15.675Z"
   },
   {
    "duration": 21,
    "start_time": "2024-08-02T18:35:15.686Z"
   },
   {
    "duration": 11,
    "start_time": "2024-08-02T18:35:15.709Z"
   },
   {
    "duration": 11,
    "start_time": "2024-08-02T18:35:15.721Z"
   },
   {
    "duration": 11,
    "start_time": "2024-08-02T18:35:15.733Z"
   },
   {
    "duration": 13,
    "start_time": "2024-08-02T18:35:15.745Z"
   },
   {
    "duration": 5,
    "start_time": "2024-08-02T18:35:15.759Z"
   },
   {
    "duration": 118,
    "start_time": "2024-08-02T18:35:15.767Z"
   },
   {
    "duration": 0,
    "start_time": "2024-08-02T18:35:15.887Z"
   },
   {
    "duration": 0,
    "start_time": "2024-08-02T18:35:15.888Z"
   },
   {
    "duration": 0,
    "start_time": "2024-08-02T18:35:15.890Z"
   },
   {
    "duration": 71,
    "start_time": "2024-08-02T18:36:06.820Z"
   },
   {
    "duration": 66,
    "start_time": "2024-08-02T18:36:13.443Z"
   },
   {
    "duration": 352,
    "start_time": "2024-08-02T18:36:22.703Z"
   },
   {
    "duration": 3,
    "start_time": "2024-08-02T18:37:03.510Z"
   },
   {
    "duration": 77,
    "start_time": "2024-08-02T18:37:04.830Z"
   },
   {
    "duration": 10,
    "start_time": "2024-08-02T18:37:06.515Z"
   },
   {
    "duration": 9,
    "start_time": "2024-08-02T18:37:06.737Z"
   },
   {
    "duration": 11,
    "start_time": "2024-08-02T18:37:06.975Z"
   },
   {
    "duration": 11,
    "start_time": "2024-08-02T18:37:07.616Z"
   },
   {
    "duration": 18,
    "start_time": "2024-08-02T18:37:08.062Z"
   },
   {
    "duration": 11,
    "start_time": "2024-08-02T18:37:09.155Z"
   },
   {
    "duration": 8,
    "start_time": "2024-08-02T18:37:09.954Z"
   },
   {
    "duration": 4,
    "start_time": "2024-08-02T18:37:10.492Z"
   },
   {
    "duration": 3,
    "start_time": "2024-08-02T18:37:11.021Z"
   },
   {
    "duration": 6,
    "start_time": "2024-08-02T18:37:11.641Z"
   },
   {
    "duration": 12,
    "start_time": "2024-08-02T18:37:12.123Z"
   },
   {
    "duration": 7,
    "start_time": "2024-08-02T18:37:12.559Z"
   },
   {
    "duration": 5,
    "start_time": "2024-08-02T18:37:13.152Z"
   },
   {
    "duration": 314,
    "start_time": "2024-08-02T18:37:14.112Z"
   },
   {
    "duration": 277,
    "start_time": "2024-08-02T18:37:32.087Z"
   },
   {
    "duration": 5,
    "start_time": "2024-08-02T18:37:32.658Z"
   },
   {
    "duration": 265,
    "start_time": "2024-08-02T18:37:34.102Z"
   },
   {
    "duration": 1243,
    "start_time": "2024-08-02T18:39:24.045Z"
   },
   {
    "duration": 77,
    "start_time": "2024-08-02T18:39:25.290Z"
   },
   {
    "duration": 10,
    "start_time": "2024-08-02T18:39:25.369Z"
   },
   {
    "duration": 11,
    "start_time": "2024-08-02T18:39:25.381Z"
   },
   {
    "duration": 11,
    "start_time": "2024-08-02T18:39:25.393Z"
   },
   {
    "duration": 23,
    "start_time": "2024-08-02T18:39:25.405Z"
   },
   {
    "duration": 75,
    "start_time": "2024-08-02T18:39:25.429Z"
   },
   {
    "duration": 10,
    "start_time": "2024-08-02T18:39:25.505Z"
   },
   {
    "duration": 12,
    "start_time": "2024-08-02T18:39:25.517Z"
   },
   {
    "duration": 7,
    "start_time": "2024-08-02T18:39:25.531Z"
   },
   {
    "duration": 5,
    "start_time": "2024-08-02T18:39:25.540Z"
   },
   {
    "duration": 13,
    "start_time": "2024-08-02T18:39:25.547Z"
   },
   {
    "duration": 20,
    "start_time": "2024-08-02T18:39:25.562Z"
   },
   {
    "duration": 19,
    "start_time": "2024-08-02T18:39:25.585Z"
   },
   {
    "duration": 20,
    "start_time": "2024-08-02T18:39:25.606Z"
   },
   {
    "duration": 336,
    "start_time": "2024-08-02T18:39:25.628Z"
   },
   {
    "duration": 0,
    "start_time": "2024-08-02T18:39:25.967Z"
   },
   {
    "duration": 0,
    "start_time": "2024-08-02T18:39:25.968Z"
   },
   {
    "duration": 0,
    "start_time": "2024-08-02T18:39:25.970Z"
   },
   {
    "duration": 11,
    "start_time": "2024-08-02T18:39:48.503Z"
   },
   {
    "duration": 11,
    "start_time": "2024-08-02T18:39:49.141Z"
   },
   {
    "duration": 10,
    "start_time": "2024-08-02T18:39:53.155Z"
   },
   {
    "duration": 11,
    "start_time": "2024-08-02T18:39:53.846Z"
   },
   {
    "duration": 17,
    "start_time": "2024-08-02T18:39:56.473Z"
   },
   {
    "duration": 13,
    "start_time": "2024-08-02T18:40:02.396Z"
   },
   {
    "duration": 9,
    "start_time": "2024-08-02T18:40:03.555Z"
   },
   {
    "duration": 5,
    "start_time": "2024-08-02T18:40:06.955Z"
   },
   {
    "duration": 3,
    "start_time": "2024-08-02T18:40:07.539Z"
   },
   {
    "duration": 6,
    "start_time": "2024-08-02T18:40:08.354Z"
   },
   {
    "duration": 10,
    "start_time": "2024-08-02T18:40:09.299Z"
   },
   {
    "duration": 8,
    "start_time": "2024-08-02T18:40:18.865Z"
   },
   {
    "duration": 5,
    "start_time": "2024-08-02T18:40:19.554Z"
   },
   {
    "duration": 286,
    "start_time": "2024-08-02T18:40:20.688Z"
   },
   {
    "duration": 267,
    "start_time": "2024-08-02T18:43:08.724Z"
   },
   {
    "duration": 1370,
    "start_time": "2024-08-02T18:44:38.871Z"
   },
   {
    "duration": 79,
    "start_time": "2024-08-02T18:44:40.243Z"
   },
   {
    "duration": 17,
    "start_time": "2024-08-02T18:44:40.324Z"
   },
   {
    "duration": 12,
    "start_time": "2024-08-02T18:44:40.344Z"
   },
   {
    "duration": 25,
    "start_time": "2024-08-02T18:44:40.358Z"
   },
   {
    "duration": 12,
    "start_time": "2024-08-02T18:44:40.385Z"
   },
   {
    "duration": 55,
    "start_time": "2024-08-02T18:44:40.406Z"
   },
   {
    "duration": 11,
    "start_time": "2024-08-02T18:44:40.463Z"
   },
   {
    "duration": 53,
    "start_time": "2024-08-02T18:44:40.476Z"
   },
   {
    "duration": 7,
    "start_time": "2024-08-02T18:44:40.534Z"
   },
   {
    "duration": 10,
    "start_time": "2024-08-02T18:44:40.542Z"
   },
   {
    "duration": 124,
    "start_time": "2024-08-02T18:44:40.554Z"
   },
   {
    "duration": 0,
    "start_time": "2024-08-02T18:44:40.680Z"
   },
   {
    "duration": 0,
    "start_time": "2024-08-02T18:44:40.681Z"
   },
   {
    "duration": 0,
    "start_time": "2024-08-02T18:44:40.682Z"
   },
   {
    "duration": 0,
    "start_time": "2024-08-02T18:44:40.683Z"
   },
   {
    "duration": 0,
    "start_time": "2024-08-02T18:44:40.684Z"
   },
   {
    "duration": 0,
    "start_time": "2024-08-02T18:44:40.686Z"
   },
   {
    "duration": 0,
    "start_time": "2024-08-02T18:44:40.687Z"
   },
   {
    "duration": 12,
    "start_time": "2024-08-02T18:46:27.890Z"
   },
   {
    "duration": 12,
    "start_time": "2024-08-02T18:46:34.656Z"
   },
   {
    "duration": 4,
    "start_time": "2024-08-02T18:46:39.665Z"
   },
   {
    "duration": 12,
    "start_time": "2024-08-02T18:46:40.296Z"
   },
   {
    "duration": 12,
    "start_time": "2024-08-02T18:53:43.024Z"
   },
   {
    "duration": 14,
    "start_time": "2024-08-02T19:02:44.466Z"
   },
   {
    "duration": 12,
    "start_time": "2024-08-02T19:02:51.537Z"
   },
   {
    "duration": 9,
    "start_time": "2024-08-02T19:02:53.283Z"
   },
   {
    "duration": 4,
    "start_time": "2024-08-02T19:02:54.266Z"
   },
   {
    "duration": 7,
    "start_time": "2024-08-02T19:03:21.762Z"
   },
   {
    "duration": 4,
    "start_time": "2024-08-02T19:03:45.657Z"
   },
   {
    "duration": 281,
    "start_time": "2024-08-02T19:03:58.125Z"
   },
   {
    "duration": 6,
    "start_time": "2024-08-02T19:04:02.244Z"
   },
   {
    "duration": 262,
    "start_time": "2024-08-02T19:04:08.140Z"
   },
   {
    "duration": 179,
    "start_time": "2024-08-02T19:08:13.316Z"
   },
   {
    "duration": 186,
    "start_time": "2024-08-02T19:08:57.273Z"
   },
   {
    "duration": 179,
    "start_time": "2024-08-02T19:09:44.660Z"
   },
   {
    "duration": 252,
    "start_time": "2024-08-02T19:10:30.746Z"
   },
   {
    "duration": 362,
    "start_time": "2024-08-02T19:10:41.787Z"
   },
   {
    "duration": 164,
    "start_time": "2024-08-02T19:12:25.618Z"
   },
   {
    "duration": 185,
    "start_time": "2024-08-02T19:12:39.013Z"
   },
   {
    "duration": 319,
    "start_time": "2024-08-02T19:13:35.537Z"
   },
   {
    "duration": 338,
    "start_time": "2024-08-02T19:13:41.665Z"
   },
   {
    "duration": 333,
    "start_time": "2024-08-02T19:14:15.474Z"
   },
   {
    "duration": 299,
    "start_time": "2024-08-02T19:14:53.542Z"
   },
   {
    "duration": 10,
    "start_time": "2024-08-02T19:15:55.978Z"
   },
   {
    "duration": 120,
    "start_time": "2024-08-02T19:16:35.414Z"
   },
   {
    "duration": 4,
    "start_time": "2024-08-02T19:17:02.924Z"
   },
   {
    "duration": 4,
    "start_time": "2024-08-02T19:17:13.290Z"
   },
   {
    "duration": 68,
    "start_time": "2024-08-02T19:22:59.212Z"
   },
   {
    "duration": 213,
    "start_time": "2024-08-02T19:23:07.958Z"
   },
   {
    "duration": 189,
    "start_time": "2024-08-02T19:24:34.279Z"
   },
   {
    "duration": 194,
    "start_time": "2024-08-02T19:25:09.927Z"
   },
   {
    "duration": 193,
    "start_time": "2024-08-02T19:25:25.765Z"
   },
   {
    "duration": 328,
    "start_time": "2024-08-02T19:28:37.250Z"
   },
   {
    "duration": 208,
    "start_time": "2024-08-02T19:29:15.582Z"
   },
   {
    "duration": 210,
    "start_time": "2024-08-02T19:29:37.188Z"
   },
   {
    "duration": 335,
    "start_time": "2024-08-02T19:30:39.199Z"
   },
   {
    "duration": 325,
    "start_time": "2024-08-02T19:30:50.302Z"
   },
   {
    "duration": 363,
    "start_time": "2024-08-02T19:31:36.077Z"
   },
   {
    "duration": 200,
    "start_time": "2024-08-02T19:32:31.180Z"
   },
   {
    "duration": 212,
    "start_time": "2024-08-02T19:32:50.914Z"
   },
   {
    "duration": 220,
    "start_time": "2024-08-02T19:32:54.378Z"
   },
   {
    "duration": 309,
    "start_time": "2024-08-02T19:33:06.912Z"
   },
   {
    "duration": 210,
    "start_time": "2024-08-02T19:33:38.718Z"
   },
   {
    "duration": 175,
    "start_time": "2024-08-02T19:33:53.945Z"
   },
   {
    "duration": 186,
    "start_time": "2024-08-02T19:34:06.302Z"
   },
   {
    "duration": 291,
    "start_time": "2024-08-02T19:34:19.964Z"
   },
   {
    "duration": 188,
    "start_time": "2024-08-02T19:34:50.321Z"
   },
   {
    "duration": 188,
    "start_time": "2024-08-02T19:35:06.463Z"
   },
   {
    "duration": 357,
    "start_time": "2024-08-02T19:36:00.789Z"
   },
   {
    "duration": 220,
    "start_time": "2024-08-02T19:36:35.607Z"
   },
   {
    "duration": 302,
    "start_time": "2024-08-02T19:36:52.361Z"
   },
   {
    "duration": 330,
    "start_time": "2024-08-02T19:37:22.496Z"
   },
   {
    "duration": 329,
    "start_time": "2024-08-02T19:37:41.510Z"
   },
   {
    "duration": 343,
    "start_time": "2024-08-02T19:37:54.172Z"
   },
   {
    "duration": 294,
    "start_time": "2024-08-02T19:38:16.247Z"
   },
   {
    "duration": 315,
    "start_time": "2024-08-02T19:38:20.411Z"
   },
   {
    "duration": 319,
    "start_time": "2024-08-02T19:38:28.715Z"
   },
   {
    "duration": 329,
    "start_time": "2024-08-02T19:38:50.256Z"
   },
   {
    "duration": 438,
    "start_time": "2024-08-02T19:38:55.597Z"
   },
   {
    "duration": 111,
    "start_time": "2024-08-02T19:39:19.783Z"
   },
   {
    "duration": 116,
    "start_time": "2024-08-02T19:39:27.579Z"
   },
   {
    "duration": 311,
    "start_time": "2024-08-02T19:40:55.856Z"
   },
   {
    "duration": 148,
    "start_time": "2024-08-02T19:41:04.606Z"
   },
   {
    "duration": 305,
    "start_time": "2024-08-02T20:07:11.941Z"
   },
   {
    "duration": 322,
    "start_time": "2024-08-02T20:07:36.123Z"
   },
   {
    "duration": 367,
    "start_time": "2024-08-02T20:07:45.841Z"
   },
   {
    "duration": 186,
    "start_time": "2024-08-02T20:07:53.728Z"
   },
   {
    "duration": 59,
    "start_time": "2024-08-03T05:25:25.191Z"
   },
   {
    "duration": 1390,
    "start_time": "2024-08-03T05:25:38.068Z"
   },
   {
    "duration": 231,
    "start_time": "2024-08-03T05:25:39.461Z"
   },
   {
    "duration": 11,
    "start_time": "2024-08-03T05:25:39.694Z"
   },
   {
    "duration": 13,
    "start_time": "2024-08-03T05:25:39.706Z"
   },
   {
    "duration": 12,
    "start_time": "2024-08-03T05:25:39.720Z"
   },
   {
    "duration": 9,
    "start_time": "2024-08-03T05:25:39.733Z"
   },
   {
    "duration": 54,
    "start_time": "2024-08-03T05:25:39.743Z"
   },
   {
    "duration": 9,
    "start_time": "2024-08-03T05:25:39.799Z"
   },
   {
    "duration": 8,
    "start_time": "2024-08-03T05:25:39.810Z"
   },
   {
    "duration": 18,
    "start_time": "2024-08-03T05:25:39.820Z"
   },
   {
    "duration": 4,
    "start_time": "2024-08-03T05:25:39.840Z"
   },
   {
    "duration": 88,
    "start_time": "2024-08-03T05:25:39.846Z"
   },
   {
    "duration": 13,
    "start_time": "2024-08-03T05:25:39.935Z"
   },
   {
    "duration": 8,
    "start_time": "2024-08-03T05:25:39.949Z"
   },
   {
    "duration": 5,
    "start_time": "2024-08-03T05:25:39.959Z"
   },
   {
    "duration": 75,
    "start_time": "2024-08-03T05:25:39.965Z"
   },
   {
    "duration": 0,
    "start_time": "2024-08-03T05:25:40.042Z"
   },
   {
    "duration": 0,
    "start_time": "2024-08-03T05:25:40.043Z"
   },
   {
    "duration": 0,
    "start_time": "2024-08-03T05:25:40.044Z"
   },
   {
    "duration": 0,
    "start_time": "2024-08-03T05:25:40.045Z"
   },
   {
    "duration": 0,
    "start_time": "2024-08-03T05:25:40.046Z"
   },
   {
    "duration": 0,
    "start_time": "2024-08-03T05:25:40.047Z"
   },
   {
    "duration": 0,
    "start_time": "2024-08-03T05:25:40.048Z"
   },
   {
    "duration": 0,
    "start_time": "2024-08-03T05:25:40.049Z"
   },
   {
    "duration": 68,
    "start_time": "2024-08-03T05:26:05.893Z"
   },
   {
    "duration": 257,
    "start_time": "2024-08-03T05:26:18.387Z"
   },
   {
    "duration": 254,
    "start_time": "2024-08-03T05:26:20.276Z"
   },
   {
    "duration": 172,
    "start_time": "2024-08-03T05:26:24.473Z"
   },
   {
    "duration": 348,
    "start_time": "2024-08-03T05:26:28.143Z"
   },
   {
    "duration": 188,
    "start_time": "2024-08-03T05:26:34.366Z"
   },
   {
    "duration": 306,
    "start_time": "2024-08-03T05:26:36.124Z"
   },
   {
    "duration": 203,
    "start_time": "2024-08-03T05:26:39.615Z"
   },
   {
    "duration": 4,
    "start_time": "2024-08-03T05:26:44.743Z"
   },
   {
    "duration": 558,
    "start_time": "2024-08-03T05:26:48.129Z"
   },
   {
    "duration": 1171,
    "start_time": "2024-08-03T05:27:27.256Z"
   },
   {
    "duration": 76,
    "start_time": "2024-08-03T05:27:28.429Z"
   },
   {
    "duration": 11,
    "start_time": "2024-08-03T05:27:28.506Z"
   },
   {
    "duration": 19,
    "start_time": "2024-08-03T05:27:28.518Z"
   },
   {
    "duration": 10,
    "start_time": "2024-08-03T05:27:28.540Z"
   },
   {
    "duration": 12,
    "start_time": "2024-08-03T05:27:28.552Z"
   },
   {
    "duration": 51,
    "start_time": "2024-08-03T05:27:28.566Z"
   },
   {
    "duration": 11,
    "start_time": "2024-08-03T05:27:28.638Z"
   },
   {
    "duration": 55,
    "start_time": "2024-08-03T05:27:28.650Z"
   },
   {
    "duration": 52,
    "start_time": "2024-08-03T05:27:28.707Z"
   },
   {
    "duration": 11,
    "start_time": "2024-08-03T05:27:28.760Z"
   },
   {
    "duration": 22,
    "start_time": "2024-08-03T05:27:28.773Z"
   },
   {
    "duration": 33,
    "start_time": "2024-08-03T05:27:28.797Z"
   },
   {
    "duration": 25,
    "start_time": "2024-08-03T05:27:28.832Z"
   },
   {
    "duration": 12,
    "start_time": "2024-08-03T05:27:28.859Z"
   },
   {
    "duration": 366,
    "start_time": "2024-08-03T05:27:28.872Z"
   },
   {
    "duration": 284,
    "start_time": "2024-08-03T05:27:29.241Z"
   },
   {
    "duration": 181,
    "start_time": "2024-08-03T05:27:29.527Z"
   },
   {
    "duration": 313,
    "start_time": "2024-08-03T05:27:29.710Z"
   },
   {
    "duration": 188,
    "start_time": "2024-08-03T05:27:30.025Z"
   },
   {
    "duration": 327,
    "start_time": "2024-08-03T05:27:30.214Z"
   },
   {
    "duration": 212,
    "start_time": "2024-08-03T05:27:30.543Z"
   },
   {
    "duration": 5,
    "start_time": "2024-08-03T05:27:30.757Z"
   },
   {
    "duration": 555,
    "start_time": "2024-08-03T05:27:30.764Z"
   },
   {
    "duration": 470,
    "start_time": "2024-08-03T05:36:19.886Z"
   },
   {
    "duration": 444,
    "start_time": "2024-08-03T05:37:41.065Z"
   },
   {
    "duration": 11,
    "start_time": "2024-08-03T05:40:30.804Z"
   },
   {
    "duration": 10,
    "start_time": "2024-08-03T05:41:30.620Z"
   },
   {
    "duration": 11,
    "start_time": "2024-08-03T05:41:56.218Z"
   },
   {
    "duration": 70,
    "start_time": "2024-08-03T05:43:08.475Z"
   },
   {
    "duration": 128,
    "start_time": "2024-08-03T05:46:09.746Z"
   },
   {
    "duration": 131,
    "start_time": "2024-08-03T05:46:57.179Z"
   },
   {
    "duration": 387,
    "start_time": "2024-08-03T05:48:12.090Z"
   },
   {
    "duration": 343,
    "start_time": "2024-08-03T05:48:30.996Z"
   },
   {
    "duration": 348,
    "start_time": "2024-08-03T05:49:29.337Z"
   },
   {
    "duration": 14,
    "start_time": "2024-08-03T05:51:04.484Z"
   },
   {
    "duration": 17,
    "start_time": "2024-08-03T05:51:31.584Z"
   },
   {
    "duration": 18,
    "start_time": "2024-08-03T05:52:33.004Z"
   },
   {
    "duration": 17,
    "start_time": "2024-08-03T05:52:41.778Z"
   },
   {
    "duration": 112,
    "start_time": "2024-08-03T06:04:42.006Z"
   },
   {
    "duration": 167,
    "start_time": "2024-08-03T06:04:57.463Z"
   },
   {
    "duration": 188,
    "start_time": "2024-08-03T06:05:07.817Z"
   },
   {
    "duration": 171,
    "start_time": "2024-08-03T06:06:18.709Z"
   },
   {
    "duration": 164,
    "start_time": "2024-08-03T06:06:31.217Z"
   },
   {
    "duration": 191,
    "start_time": "2024-08-03T06:06:53.077Z"
   },
   {
    "duration": 186,
    "start_time": "2024-08-03T06:07:04.388Z"
   },
   {
    "duration": 164,
    "start_time": "2024-08-03T06:07:33.580Z"
   },
   {
    "duration": 83,
    "start_time": "2024-08-03T06:07:46.039Z"
   },
   {
    "duration": 176,
    "start_time": "2024-08-03T06:08:03.692Z"
   },
   {
    "duration": 177,
    "start_time": "2024-08-03T06:09:29.874Z"
   },
   {
    "duration": 173,
    "start_time": "2024-08-03T06:10:16.496Z"
   },
   {
    "duration": 31,
    "start_time": "2024-08-03T08:40:57.134Z"
   },
   {
    "duration": 1240,
    "start_time": "2024-08-03T08:41:11.811Z"
   },
   {
    "duration": 76,
    "start_time": "2024-08-03T08:41:13.054Z"
   },
   {
    "duration": 11,
    "start_time": "2024-08-03T08:41:13.132Z"
   },
   {
    "duration": 12,
    "start_time": "2024-08-03T08:41:13.144Z"
   },
   {
    "duration": 10,
    "start_time": "2024-08-03T08:41:13.158Z"
   },
   {
    "duration": 11,
    "start_time": "2024-08-03T08:41:13.170Z"
   },
   {
    "duration": 106,
    "start_time": "2024-08-03T08:41:13.183Z"
   },
   {
    "duration": 10,
    "start_time": "2024-08-03T08:41:13.291Z"
   },
   {
    "duration": 13,
    "start_time": "2024-08-03T08:41:13.302Z"
   },
   {
    "duration": 5,
    "start_time": "2024-08-03T08:41:13.316Z"
   },
   {
    "duration": 4,
    "start_time": "2024-08-03T08:41:13.337Z"
   },
   {
    "duration": 15,
    "start_time": "2024-08-03T08:41:13.342Z"
   },
   {
    "duration": 123,
    "start_time": "2024-08-03T08:41:13.358Z"
   },
   {
    "duration": 0,
    "start_time": "2024-08-03T08:41:13.483Z"
   },
   {
    "duration": 0,
    "start_time": "2024-08-03T08:41:13.484Z"
   },
   {
    "duration": 0,
    "start_time": "2024-08-03T08:41:13.485Z"
   },
   {
    "duration": 0,
    "start_time": "2024-08-03T08:41:13.487Z"
   },
   {
    "duration": 0,
    "start_time": "2024-08-03T08:41:13.488Z"
   },
   {
    "duration": 0,
    "start_time": "2024-08-03T08:41:13.489Z"
   },
   {
    "duration": 0,
    "start_time": "2024-08-03T08:41:13.490Z"
   },
   {
    "duration": 0,
    "start_time": "2024-08-03T08:41:13.491Z"
   },
   {
    "duration": 0,
    "start_time": "2024-08-03T08:41:13.492Z"
   },
   {
    "duration": 0,
    "start_time": "2024-08-03T08:41:13.493Z"
   },
   {
    "duration": 0,
    "start_time": "2024-08-03T08:41:13.495Z"
   },
   {
    "duration": 0,
    "start_time": "2024-08-03T08:41:13.496Z"
   },
   {
    "duration": 0,
    "start_time": "2024-08-03T08:41:13.497Z"
   },
   {
    "duration": 0,
    "start_time": "2024-08-03T08:41:13.498Z"
   },
   {
    "duration": 0,
    "start_time": "2024-08-03T08:41:13.499Z"
   },
   {
    "duration": 0,
    "start_time": "2024-08-03T08:41:13.500Z"
   },
   {
    "duration": 69,
    "start_time": "2024-08-03T08:41:35.341Z"
   },
   {
    "duration": 144,
    "start_time": "2024-08-03T08:41:50.456Z"
   },
   {
    "duration": 7,
    "start_time": "2024-08-03T08:42:02.834Z"
   },
   {
    "duration": 4,
    "start_time": "2024-08-03T08:43:37.988Z"
   },
   {
    "duration": 4,
    "start_time": "2024-08-03T08:43:47.866Z"
   },
   {
    "duration": 11,
    "start_time": "2024-08-03T08:44:55.701Z"
   },
   {
    "duration": 13,
    "start_time": "2024-08-03T08:45:26.196Z"
   },
   {
    "duration": 77,
    "start_time": "2024-08-03T08:48:31.135Z"
   },
   {
    "duration": 7,
    "start_time": "2024-08-03T08:48:38.681Z"
   },
   {
    "duration": 1166,
    "start_time": "2024-08-03T08:49:19.145Z"
   },
   {
    "duration": 6,
    "start_time": "2024-08-03T08:51:46.326Z"
   },
   {
    "duration": 16,
    "start_time": "2024-08-03T08:59:45.063Z"
   },
   {
    "duration": 12,
    "start_time": "2024-08-03T09:02:19.391Z"
   },
   {
    "duration": 10,
    "start_time": "2024-08-03T09:02:40.368Z"
   },
   {
    "duration": 14,
    "start_time": "2024-08-03T09:02:47.970Z"
   },
   {
    "duration": 792,
    "start_time": "2024-08-03T09:04:10.167Z"
   },
   {
    "duration": 8,
    "start_time": "2024-08-03T09:04:41.879Z"
   },
   {
    "duration": 10,
    "start_time": "2024-08-03T09:07:18.803Z"
   },
   {
    "duration": 10,
    "start_time": "2024-08-03T09:08:05.034Z"
   },
   {
    "duration": 154,
    "start_time": "2024-08-03T09:08:43.670Z"
   },
   {
    "duration": 4,
    "start_time": "2024-08-03T09:09:04.189Z"
   },
   {
    "duration": 7,
    "start_time": "2024-08-03T09:09:17.612Z"
   },
   {
    "duration": 9,
    "start_time": "2024-08-03T09:09:39.017Z"
   },
   {
    "duration": 9,
    "start_time": "2024-08-03T09:09:55.739Z"
   },
   {
    "duration": 7,
    "start_time": "2024-08-03T09:10:03.529Z"
   },
   {
    "duration": 5,
    "start_time": "2024-08-03T09:15:02.140Z"
   },
   {
    "duration": 240,
    "start_time": "2024-08-03T09:15:10.418Z"
   },
   {
    "duration": 3,
    "start_time": "2024-08-03T09:15:29.880Z"
   },
   {
    "duration": 15,
    "start_time": "2024-08-03T09:15:33.306Z"
   },
   {
    "duration": 3,
    "start_time": "2024-08-03T09:16:41.779Z"
   },
   {
    "duration": 4,
    "start_time": "2024-08-03T09:17:42.599Z"
   },
   {
    "duration": 15,
    "start_time": "2024-08-03T09:17:44.499Z"
   },
   {
    "duration": 3,
    "start_time": "2024-08-03T09:18:03.562Z"
   },
   {
    "duration": 66,
    "start_time": "2024-08-03T09:21:20.672Z"
   },
   {
    "duration": 83,
    "start_time": "2024-08-03T09:21:26.735Z"
   },
   {
    "duration": 15,
    "start_time": "2024-08-03T09:21:33.680Z"
   },
   {
    "duration": 4,
    "start_time": "2024-08-03T09:22:04.210Z"
   },
   {
    "duration": 14,
    "start_time": "2024-08-03T09:22:06.397Z"
   },
   {
    "duration": 4,
    "start_time": "2024-08-03T09:23:07.155Z"
   },
   {
    "duration": 19,
    "start_time": "2024-08-03T09:23:08.089Z"
   },
   {
    "duration": 4,
    "start_time": "2024-08-03T09:24:02.492Z"
   },
   {
    "duration": 15,
    "start_time": "2024-08-03T09:24:03.282Z"
   },
   {
    "duration": 4,
    "start_time": "2024-08-03T09:25:27.822Z"
   },
   {
    "duration": 13,
    "start_time": "2024-08-03T09:25:28.875Z"
   },
   {
    "duration": 4,
    "start_time": "2024-08-03T09:25:46.265Z"
   },
   {
    "duration": 12,
    "start_time": "2024-08-03T09:25:47.258Z"
   },
   {
    "duration": 4,
    "start_time": "2024-08-03T09:26:29.666Z"
   },
   {
    "duration": 14,
    "start_time": "2024-08-03T09:26:30.788Z"
   },
   {
    "duration": 69,
    "start_time": "2024-08-03T09:27:08.440Z"
   },
   {
    "duration": 78,
    "start_time": "2024-08-03T09:27:39.994Z"
   },
   {
    "duration": 4,
    "start_time": "2024-08-03T09:28:16.239Z"
   },
   {
    "duration": 14,
    "start_time": "2024-08-03T09:28:19.327Z"
   },
   {
    "duration": 4,
    "start_time": "2024-08-03T09:29:09.211Z"
   },
   {
    "duration": 16,
    "start_time": "2024-08-03T09:29:10.016Z"
   },
   {
    "duration": 5,
    "start_time": "2024-08-03T09:30:08.925Z"
   },
   {
    "duration": 15,
    "start_time": "2024-08-03T09:30:10.874Z"
   },
   {
    "duration": 4,
    "start_time": "2024-08-03T09:30:18.413Z"
   },
   {
    "duration": 282,
    "start_time": "2024-08-03T09:30:19.678Z"
   },
   {
    "duration": 7,
    "start_time": "2024-08-03T09:30:28.136Z"
   },
   {
    "duration": 1196,
    "start_time": "2024-08-03T09:30:38.484Z"
   },
   {
    "duration": 76,
    "start_time": "2024-08-03T09:30:39.681Z"
   },
   {
    "duration": 36,
    "start_time": "2024-08-03T09:30:39.759Z"
   },
   {
    "duration": 86,
    "start_time": "2024-08-03T09:30:39.797Z"
   },
   {
    "duration": 11,
    "start_time": "2024-08-03T09:30:39.885Z"
   },
   {
    "duration": 10,
    "start_time": "2024-08-03T09:30:39.897Z"
   },
   {
    "duration": 52,
    "start_time": "2024-08-03T09:30:39.908Z"
   },
   {
    "duration": 4,
    "start_time": "2024-08-03T09:30:39.962Z"
   },
   {
    "duration": 34,
    "start_time": "2024-08-03T09:30:39.967Z"
   },
   {
    "duration": 6,
    "start_time": "2024-08-03T09:30:40.002Z"
   },
   {
    "duration": 37,
    "start_time": "2024-08-03T09:30:40.010Z"
   },
   {
    "duration": 39,
    "start_time": "2024-08-03T09:30:40.049Z"
   },
   {
    "duration": 31,
    "start_time": "2024-08-03T09:30:40.089Z"
   },
   {
    "duration": 37,
    "start_time": "2024-08-03T09:30:40.122Z"
   },
   {
    "duration": 10,
    "start_time": "2024-08-03T09:30:40.161Z"
   },
   {
    "duration": 271,
    "start_time": "2024-08-03T09:30:40.173Z"
   },
   {
    "duration": 266,
    "start_time": "2024-08-03T09:30:40.446Z"
   },
   {
    "duration": 199,
    "start_time": "2024-08-03T09:30:40.713Z"
   },
   {
    "duration": 317,
    "start_time": "2024-08-03T09:30:40.914Z"
   },
   {
    "duration": 185,
    "start_time": "2024-08-03T09:30:41.233Z"
   },
   {
    "duration": 329,
    "start_time": "2024-08-03T09:30:41.420Z"
   },
   {
    "duration": 220,
    "start_time": "2024-08-03T09:30:41.751Z"
   },
   {
    "duration": 5,
    "start_time": "2024-08-03T09:30:41.972Z"
   },
   {
    "duration": 538,
    "start_time": "2024-08-03T09:30:41.979Z"
   },
   {
    "duration": 23,
    "start_time": "2024-08-03T09:30:42.519Z"
   },
   {
    "duration": 142,
    "start_time": "2024-08-03T09:30:42.543Z"
   },
   {
    "duration": 379,
    "start_time": "2024-08-03T09:30:42.687Z"
   },
   {
    "duration": 18,
    "start_time": "2024-08-03T09:30:43.068Z"
   },
   {
    "duration": 102,
    "start_time": "2024-08-03T09:35:38.919Z"
   },
   {
    "duration": 5,
    "start_time": "2024-08-03T09:35:57.763Z"
   },
   {
    "duration": 7,
    "start_time": "2024-08-03T09:36:12.637Z"
   },
   {
    "duration": 12,
    "start_time": "2024-08-03T09:36:40.733Z"
   },
   {
    "duration": 8,
    "start_time": "2024-08-03T09:38:25.635Z"
   },
   {
    "duration": 1227,
    "start_time": "2024-08-03T09:38:35.704Z"
   },
   {
    "duration": 84,
    "start_time": "2024-08-03T09:38:36.932Z"
   },
   {
    "duration": 11,
    "start_time": "2024-08-03T09:38:37.017Z"
   },
   {
    "duration": 67,
    "start_time": "2024-08-03T09:38:37.030Z"
   },
   {
    "duration": 38,
    "start_time": "2024-08-03T09:38:37.098Z"
   },
   {
    "duration": 71,
    "start_time": "2024-08-03T09:38:37.137Z"
   },
   {
    "duration": 121,
    "start_time": "2024-08-03T09:38:37.209Z"
   },
   {
    "duration": 3,
    "start_time": "2024-08-03T09:38:37.332Z"
   },
   {
    "duration": 61,
    "start_time": "2024-08-03T09:38:37.337Z"
   },
   {
    "duration": 34,
    "start_time": "2024-08-03T09:38:37.400Z"
   },
   {
    "duration": 36,
    "start_time": "2024-08-03T09:38:37.435Z"
   },
   {
    "duration": 56,
    "start_time": "2024-08-03T09:38:37.473Z"
   },
   {
    "duration": 86,
    "start_time": "2024-08-03T09:38:37.531Z"
   },
   {
    "duration": 39,
    "start_time": "2024-08-03T09:38:37.619Z"
   },
   {
    "duration": 27,
    "start_time": "2024-08-03T09:38:37.660Z"
   },
   {
    "duration": 112,
    "start_time": "2024-08-03T09:38:37.689Z"
   },
   {
    "duration": 77,
    "start_time": "2024-08-03T09:38:37.803Z"
   },
   {
    "duration": 334,
    "start_time": "2024-08-03T09:38:37.881Z"
   },
   {
    "duration": 301,
    "start_time": "2024-08-03T09:38:38.216Z"
   },
   {
    "duration": 182,
    "start_time": "2024-08-03T09:38:38.519Z"
   },
   {
    "duration": 295,
    "start_time": "2024-08-03T09:38:38.703Z"
   },
   {
    "duration": 186,
    "start_time": "2024-08-03T09:38:39.000Z"
   },
   {
    "duration": 276,
    "start_time": "2024-08-03T09:38:39.188Z"
   },
   {
    "duration": 232,
    "start_time": "2024-08-03T09:38:39.466Z"
   },
   {
    "duration": 4,
    "start_time": "2024-08-03T09:38:39.699Z"
   },
   {
    "duration": 590,
    "start_time": "2024-08-03T09:38:39.705Z"
   },
   {
    "duration": 11,
    "start_time": "2024-08-03T09:38:40.296Z"
   },
   {
    "duration": 189,
    "start_time": "2024-08-03T09:38:40.309Z"
   },
   {
    "duration": 373,
    "start_time": "2024-08-03T09:38:40.500Z"
   },
   {
    "duration": 17,
    "start_time": "2024-08-03T09:38:40.874Z"
   },
   {
    "duration": 4,
    "start_time": "2024-08-03T09:41:27.208Z"
   },
   {
    "duration": 507,
    "start_time": "2024-08-03T09:41:29.780Z"
   },
   {
    "duration": 11,
    "start_time": "2024-08-03T09:41:34.010Z"
   },
   {
    "duration": 132,
    "start_time": "2024-08-03T09:41:38.529Z"
   },
   {
    "duration": 361,
    "start_time": "2024-08-03T09:41:44.171Z"
   },
   {
    "duration": 18,
    "start_time": "2024-08-03T09:41:45.157Z"
   },
   {
    "duration": 2,
    "start_time": "2024-08-03T09:42:52.553Z"
   },
   {
    "duration": 289,
    "start_time": "2024-08-03T09:44:18.144Z"
   },
   {
    "duration": 200,
    "start_time": "2024-08-03T09:44:19.875Z"
   },
   {
    "duration": 218,
    "start_time": "2024-08-03T13:56:49.354Z"
   },
   {
    "duration": 1220,
    "start_time": "2024-08-03T13:57:43.317Z"
   },
   {
    "duration": 76,
    "start_time": "2024-08-03T13:57:44.539Z"
   },
   {
    "duration": 11,
    "start_time": "2024-08-03T13:57:44.616Z"
   },
   {
    "duration": 10,
    "start_time": "2024-08-03T13:57:44.628Z"
   },
   {
    "duration": 11,
    "start_time": "2024-08-03T13:57:44.640Z"
   },
   {
    "duration": 11,
    "start_time": "2024-08-03T13:57:44.653Z"
   },
   {
    "duration": 53,
    "start_time": "2024-08-03T13:57:44.666Z"
   },
   {
    "duration": 4,
    "start_time": "2024-08-03T13:57:44.738Z"
   },
   {
    "duration": 17,
    "start_time": "2024-08-03T13:57:44.743Z"
   },
   {
    "duration": 13,
    "start_time": "2024-08-03T13:57:44.762Z"
   },
   {
    "duration": 28,
    "start_time": "2024-08-03T13:57:44.776Z"
   },
   {
    "duration": 11,
    "start_time": "2024-08-03T13:57:44.806Z"
   },
   {
    "duration": 12,
    "start_time": "2024-08-03T13:57:44.818Z"
   },
   {
    "duration": 24,
    "start_time": "2024-08-03T13:57:44.837Z"
   },
   {
    "duration": 92,
    "start_time": "2024-08-03T13:57:44.863Z"
   },
   {
    "duration": 28,
    "start_time": "2024-08-03T13:57:44.956Z"
   },
   {
    "duration": 31,
    "start_time": "2024-08-03T13:57:44.986Z"
   },
   {
    "duration": 320,
    "start_time": "2024-08-03T13:57:45.019Z"
   },
   {
    "duration": 259,
    "start_time": "2024-08-03T13:57:45.340Z"
   },
   {
    "duration": 177,
    "start_time": "2024-08-03T13:57:45.600Z"
   },
   {
    "duration": 260,
    "start_time": "2024-08-03T13:57:45.779Z"
   },
   {
    "duration": 203,
    "start_time": "2024-08-03T13:57:46.041Z"
   },
   {
    "duration": 315,
    "start_time": "2024-08-03T13:57:46.245Z"
   },
   {
    "duration": 384,
    "start_time": "2024-08-03T13:57:46.561Z"
   },
   {
    "duration": 4,
    "start_time": "2024-08-03T13:57:46.947Z"
   },
   {
    "duration": 997,
    "start_time": "2024-08-03T13:57:46.953Z"
   },
   {
    "duration": 12,
    "start_time": "2024-08-03T13:57:47.952Z"
   },
   {
    "duration": 377,
    "start_time": "2024-08-03T13:57:47.966Z"
   },
   {
    "duration": 694,
    "start_time": "2024-08-03T13:57:48.345Z"
   },
   {
    "duration": 23,
    "start_time": "2024-08-03T13:57:49.041Z"
   },
   {
    "duration": 194,
    "start_time": "2024-08-03T13:58:18.265Z"
   },
   {
    "duration": 1063,
    "start_time": "2024-08-03T17:45:55.591Z"
   },
   {
    "duration": 1218,
    "start_time": "2024-08-03T17:49:27.373Z"
   },
   {
    "duration": 77,
    "start_time": "2024-08-03T17:49:28.593Z"
   },
   {
    "duration": 11,
    "start_time": "2024-08-03T17:49:28.672Z"
   },
   {
    "duration": 24,
    "start_time": "2024-08-03T17:49:28.685Z"
   },
   {
    "duration": 10,
    "start_time": "2024-08-03T17:49:28.710Z"
   },
   {
    "duration": 9,
    "start_time": "2024-08-03T17:49:28.722Z"
   },
   {
    "duration": 71,
    "start_time": "2024-08-03T17:49:28.732Z"
   },
   {
    "duration": 4,
    "start_time": "2024-08-03T17:49:28.805Z"
   },
   {
    "duration": 46,
    "start_time": "2024-08-03T17:49:28.810Z"
   },
   {
    "duration": 25,
    "start_time": "2024-08-03T17:49:28.859Z"
   },
   {
    "duration": 17,
    "start_time": "2024-08-03T17:49:28.886Z"
   },
   {
    "duration": 28,
    "start_time": "2024-08-03T17:49:28.905Z"
   },
   {
    "duration": 11,
    "start_time": "2024-08-03T17:49:28.935Z"
   },
   {
    "duration": 13,
    "start_time": "2024-08-03T17:49:28.947Z"
   },
   {
    "duration": 14,
    "start_time": "2024-08-03T17:49:28.962Z"
   },
   {
    "duration": 33,
    "start_time": "2024-08-03T17:49:28.978Z"
   },
   {
    "duration": 11,
    "start_time": "2024-08-03T17:49:29.013Z"
   },
   {
    "duration": 270,
    "start_time": "2024-08-03T17:49:29.026Z"
   },
   {
    "duration": 273,
    "start_time": "2024-08-03T17:49:29.298Z"
   },
   {
    "duration": 177,
    "start_time": "2024-08-03T17:49:29.573Z"
   },
   {
    "duration": 299,
    "start_time": "2024-08-03T17:49:29.752Z"
   },
   {
    "duration": 201,
    "start_time": "2024-08-03T17:49:30.052Z"
   },
   {
    "duration": 316,
    "start_time": "2024-08-03T17:49:30.254Z"
   },
   {
    "duration": 107,
    "start_time": "2024-08-03T17:49:30.571Z"
   },
   {
    "duration": 0,
    "start_time": "2024-08-03T17:49:30.679Z"
   },
   {
    "duration": 0,
    "start_time": "2024-08-03T17:49:30.680Z"
   },
   {
    "duration": 0,
    "start_time": "2024-08-03T17:49:30.681Z"
   },
   {
    "duration": 0,
    "start_time": "2024-08-03T17:49:30.682Z"
   },
   {
    "duration": 0,
    "start_time": "2024-08-03T17:49:30.683Z"
   },
   {
    "duration": 0,
    "start_time": "2024-08-03T17:49:30.684Z"
   },
   {
    "duration": 0,
    "start_time": "2024-08-03T17:49:30.685Z"
   },
   {
    "duration": 9,
    "start_time": "2024-08-03T17:49:51.430Z"
   },
   {
    "duration": 201,
    "start_time": "2024-08-03T17:51:47.141Z"
   },
   {
    "duration": 127,
    "start_time": "2024-08-03T17:51:54.783Z"
   },
   {
    "duration": 114,
    "start_time": "2024-08-03T17:52:39.138Z"
   },
   {
    "duration": 298,
    "start_time": "2024-08-03T17:53:02.754Z"
   },
   {
    "duration": 272,
    "start_time": "2024-08-03T17:53:12.082Z"
   },
   {
    "duration": 329,
    "start_time": "2024-08-03T17:53:34.238Z"
   },
   {
    "duration": 301,
    "start_time": "2024-08-03T17:53:44.459Z"
   },
   {
    "duration": 274,
    "start_time": "2024-08-03T17:53:51.294Z"
   },
   {
    "duration": 299,
    "start_time": "2024-08-03T17:53:57.279Z"
   },
   {
    "duration": 296,
    "start_time": "2024-08-03T17:54:03.360Z"
   },
   {
    "duration": 311,
    "start_time": "2024-08-03T17:54:37.439Z"
   },
   {
    "duration": 302,
    "start_time": "2024-08-03T17:54:55.144Z"
   },
   {
    "duration": 4,
    "start_time": "2024-08-03T18:04:58.975Z"
   },
   {
    "duration": 7,
    "start_time": "2024-08-03T18:05:06.050Z"
   },
   {
    "duration": 7,
    "start_time": "2024-08-03T18:07:32.364Z"
   },
   {
    "duration": 6,
    "start_time": "2024-08-03T18:07:53.704Z"
   },
   {
    "duration": 13,
    "start_time": "2024-08-03T18:15:31.181Z"
   },
   {
    "duration": 15,
    "start_time": "2024-08-03T18:15:49.229Z"
   },
   {
    "duration": 13,
    "start_time": "2024-08-03T18:15:59.267Z"
   },
   {
    "duration": 13,
    "start_time": "2024-08-03T18:16:10.323Z"
   },
   {
    "duration": 222,
    "start_time": "2024-08-03T18:16:24.059Z"
   },
   {
    "duration": 116,
    "start_time": "2024-08-03T18:17:03.900Z"
   },
   {
    "duration": 142,
    "start_time": "2024-08-03T18:17:56.995Z"
   },
   {
    "duration": 9,
    "start_time": "2024-08-03T18:19:24.277Z"
   },
   {
    "duration": 9,
    "start_time": "2024-08-03T18:20:16.789Z"
   },
   {
    "duration": 4,
    "start_time": "2024-08-03T18:20:32.521Z"
   },
   {
    "duration": 10,
    "start_time": "2024-08-03T18:21:17.555Z"
   },
   {
    "duration": 5,
    "start_time": "2024-08-03T18:21:43.722Z"
   },
   {
    "duration": 483,
    "start_time": "2024-08-03T18:26:55.645Z"
   },
   {
    "duration": 470,
    "start_time": "2024-08-03T18:27:29.108Z"
   },
   {
    "duration": 485,
    "start_time": "2024-08-03T18:27:36.663Z"
   },
   {
    "duration": 473,
    "start_time": "2024-08-03T18:28:26.056Z"
   },
   {
    "duration": 467,
    "start_time": "2024-08-03T18:28:43.934Z"
   },
   {
    "duration": 464,
    "start_time": "2024-08-03T18:28:57.492Z"
   },
   {
    "duration": 510,
    "start_time": "2024-08-03T18:29:12.862Z"
   },
   {
    "duration": 517,
    "start_time": "2024-08-03T18:29:40.144Z"
   },
   {
    "duration": 464,
    "start_time": "2024-08-03T18:29:46.380Z"
   },
   {
    "duration": 470,
    "start_time": "2024-08-03T18:30:13.251Z"
   },
   {
    "duration": 489,
    "start_time": "2024-08-03T18:30:39.348Z"
   },
   {
    "duration": 495,
    "start_time": "2024-08-03T18:30:52.031Z"
   },
   {
    "duration": 108,
    "start_time": "2024-08-03T18:31:06.235Z"
   },
   {
    "duration": 490,
    "start_time": "2024-08-03T18:31:14.022Z"
   },
   {
    "duration": 507,
    "start_time": "2024-08-03T18:31:32.025Z"
   },
   {
    "duration": 11,
    "start_time": "2024-08-03T18:34:23.316Z"
   },
   {
    "duration": 77,
    "start_time": "2024-08-03T18:34:56.612Z"
   },
   {
    "duration": 11,
    "start_time": "2024-08-03T18:35:28.311Z"
   },
   {
    "duration": 71,
    "start_time": "2024-08-03T18:35:50.771Z"
   },
   {
    "duration": 10,
    "start_time": "2024-08-03T18:35:59.288Z"
   },
   {
    "duration": 112,
    "start_time": "2024-08-03T18:36:07.128Z"
   },
   {
    "duration": 10,
    "start_time": "2024-08-03T18:36:12.265Z"
   },
   {
    "duration": 10,
    "start_time": "2024-08-03T18:36:22.010Z"
   },
   {
    "duration": 11,
    "start_time": "2024-08-03T18:36:53.386Z"
   },
   {
    "duration": 10,
    "start_time": "2024-08-03T18:37:05.151Z"
   },
   {
    "duration": 10,
    "start_time": "2024-08-03T18:37:20.722Z"
   },
   {
    "duration": 11,
    "start_time": "2024-08-03T18:38:00.611Z"
   },
   {
    "duration": 83,
    "start_time": "2024-08-03T18:38:07.066Z"
   },
   {
    "duration": 10,
    "start_time": "2024-08-03T18:38:13.216Z"
   },
   {
    "duration": 11,
    "start_time": "2024-08-03T18:38:45.382Z"
   },
   {
    "duration": 10,
    "start_time": "2024-08-03T18:39:09.282Z"
   },
   {
    "duration": 11,
    "start_time": "2024-08-03T18:39:31.766Z"
   },
   {
    "duration": 11,
    "start_time": "2024-08-03T18:40:11.532Z"
   },
   {
    "duration": 471,
    "start_time": "2024-08-03T18:40:48.193Z"
   },
   {
    "duration": 137,
    "start_time": "2024-08-03T19:05:58.060Z"
   },
   {
    "duration": 9,
    "start_time": "2024-08-03T19:07:04.240Z"
   },
   {
    "duration": 8,
    "start_time": "2024-08-03T19:07:54.092Z"
   },
   {
    "duration": 7,
    "start_time": "2024-08-03T19:13:13.809Z"
   },
   {
    "duration": 23,
    "start_time": "2024-08-03T19:13:28.290Z"
   },
   {
    "duration": 14,
    "start_time": "2024-08-03T19:13:59.487Z"
   },
   {
    "duration": 23,
    "start_time": "2024-08-03T19:20:06.259Z"
   },
   {
    "duration": 17,
    "start_time": "2024-08-03T20:06:35.969Z"
   },
   {
    "duration": 1314,
    "start_time": "2024-08-04T08:30:45.042Z"
   },
   {
    "duration": 251,
    "start_time": "2024-08-04T08:30:46.358Z"
   },
   {
    "duration": 10,
    "start_time": "2024-08-04T08:30:46.611Z"
   },
   {
    "duration": 30,
    "start_time": "2024-08-04T08:30:46.622Z"
   },
   {
    "duration": 15,
    "start_time": "2024-08-04T08:30:46.654Z"
   },
   {
    "duration": 9,
    "start_time": "2024-08-04T08:30:46.671Z"
   },
   {
    "duration": 58,
    "start_time": "2024-08-04T08:30:46.682Z"
   },
   {
    "duration": 4,
    "start_time": "2024-08-04T08:30:46.741Z"
   },
   {
    "duration": 16,
    "start_time": "2024-08-04T08:30:46.746Z"
   },
   {
    "duration": 3,
    "start_time": "2024-08-04T08:30:46.764Z"
   },
   {
    "duration": 21,
    "start_time": "2024-08-04T08:30:46.768Z"
   },
   {
    "duration": 10,
    "start_time": "2024-08-04T08:30:46.790Z"
   },
   {
    "duration": 10,
    "start_time": "2024-08-04T08:30:46.802Z"
   },
   {
    "duration": 9,
    "start_time": "2024-08-04T08:30:46.813Z"
   },
   {
    "duration": 30,
    "start_time": "2024-08-04T08:30:46.823Z"
   },
   {
    "duration": 21,
    "start_time": "2024-08-04T08:30:46.854Z"
   },
   {
    "duration": 4,
    "start_time": "2024-08-04T08:30:46.876Z"
   },
   {
    "duration": 254,
    "start_time": "2024-08-04T08:30:46.882Z"
   },
   {
    "duration": 251,
    "start_time": "2024-08-04T08:30:47.137Z"
   },
   {
    "duration": 170,
    "start_time": "2024-08-04T08:30:47.390Z"
   },
   {
    "duration": 353,
    "start_time": "2024-08-04T08:30:47.561Z"
   },
   {
    "duration": 173,
    "start_time": "2024-08-04T08:30:47.916Z"
   },
   {
    "duration": 308,
    "start_time": "2024-08-04T08:30:48.091Z"
   },
   {
    "duration": 178,
    "start_time": "2024-08-04T08:30:48.401Z"
   },
   {
    "duration": 6,
    "start_time": "2024-08-04T08:30:48.581Z"
   },
   {
    "duration": 4,
    "start_time": "2024-08-04T08:30:48.588Z"
   },
   {
    "duration": 131,
    "start_time": "2024-08-04T08:30:48.593Z"
   },
   {
    "duration": 6,
    "start_time": "2024-08-04T08:30:48.726Z"
   },
   {
    "duration": 8,
    "start_time": "2024-08-04T08:30:48.733Z"
   },
   {
    "duration": 446,
    "start_time": "2024-08-04T08:30:48.743Z"
   },
   {
    "duration": 8,
    "start_time": "2024-08-04T08:30:49.191Z"
   },
   {
    "duration": 8,
    "start_time": "2024-08-04T08:30:49.201Z"
   },
   {
    "duration": 33,
    "start_time": "2024-08-04T08:30:49.211Z"
   },
   {
    "duration": 30,
    "start_time": "2024-08-04T08:30:49.246Z"
   },
   {
    "duration": 11,
    "start_time": "2024-08-04T08:30:49.277Z"
   },
   {
    "duration": 1341,
    "start_time": "2024-08-04T09:49:36.071Z"
   },
   {
    "duration": 265,
    "start_time": "2024-08-04T09:49:37.414Z"
   },
   {
    "duration": 14,
    "start_time": "2024-08-04T09:49:37.681Z"
   },
   {
    "duration": 14,
    "start_time": "2024-08-04T09:49:37.697Z"
   },
   {
    "duration": 10,
    "start_time": "2024-08-04T09:49:37.712Z"
   },
   {
    "duration": 9,
    "start_time": "2024-08-04T09:49:37.723Z"
   },
   {
    "duration": 69,
    "start_time": "2024-08-04T09:49:37.733Z"
   },
   {
    "duration": 3,
    "start_time": "2024-08-04T09:49:37.804Z"
   },
   {
    "duration": 20,
    "start_time": "2024-08-04T09:49:37.808Z"
   },
   {
    "duration": 9,
    "start_time": "2024-08-04T09:49:37.830Z"
   },
   {
    "duration": 16,
    "start_time": "2024-08-04T09:49:37.840Z"
   },
   {
    "duration": 12,
    "start_time": "2024-08-04T09:49:37.857Z"
   },
   {
    "duration": 40,
    "start_time": "2024-08-04T09:49:37.870Z"
   },
   {
    "duration": 16,
    "start_time": "2024-08-04T09:49:37.912Z"
   },
   {
    "duration": 3,
    "start_time": "2024-08-04T09:49:37.930Z"
   },
   {
    "duration": 14,
    "start_time": "2024-08-04T09:49:37.934Z"
   },
   {
    "duration": 3,
    "start_time": "2024-08-04T09:49:37.950Z"
   },
   {
    "duration": 260,
    "start_time": "2024-08-04T09:49:37.954Z"
   },
   {
    "duration": 248,
    "start_time": "2024-08-04T09:49:38.215Z"
   },
   {
    "duration": 168,
    "start_time": "2024-08-04T09:49:38.464Z"
   },
   {
    "duration": 351,
    "start_time": "2024-08-04T09:49:38.633Z"
   },
   {
    "duration": 170,
    "start_time": "2024-08-04T09:49:38.986Z"
   },
   {
    "duration": 307,
    "start_time": "2024-08-04T09:49:39.157Z"
   },
   {
    "duration": 173,
    "start_time": "2024-08-04T09:49:39.466Z"
   },
   {
    "duration": 5,
    "start_time": "2024-08-04T09:49:39.641Z"
   },
   {
    "duration": 5,
    "start_time": "2024-08-04T09:49:39.647Z"
   },
   {
    "duration": 128,
    "start_time": "2024-08-04T09:49:39.653Z"
   },
   {
    "duration": 6,
    "start_time": "2024-08-04T09:49:39.783Z"
   },
   {
    "duration": 10,
    "start_time": "2024-08-04T09:49:39.790Z"
   },
   {
    "duration": 471,
    "start_time": "2024-08-04T09:49:39.801Z"
   },
   {
    "duration": 14,
    "start_time": "2024-08-04T09:49:40.274Z"
   },
   {
    "duration": 10,
    "start_time": "2024-08-04T09:49:40.289Z"
   },
   {
    "duration": 14,
    "start_time": "2024-08-04T09:49:40.300Z"
   },
   {
    "duration": 27,
    "start_time": "2024-08-04T09:49:40.315Z"
   },
   {
    "duration": 12,
    "start_time": "2024-08-04T09:49:40.343Z"
   },
   {
    "duration": 1199,
    "start_time": "2024-08-04T09:57:20.351Z"
   },
   {
    "duration": 92,
    "start_time": "2024-08-04T09:57:21.551Z"
   },
   {
    "duration": 12,
    "start_time": "2024-08-04T09:57:21.644Z"
   },
   {
    "duration": 20,
    "start_time": "2024-08-04T09:57:21.657Z"
   },
   {
    "duration": 37,
    "start_time": "2024-08-04T09:57:21.679Z"
   },
   {
    "duration": 14,
    "start_time": "2024-08-04T09:57:21.718Z"
   },
   {
    "duration": 61,
    "start_time": "2024-08-04T09:57:21.734Z"
   },
   {
    "duration": 3,
    "start_time": "2024-08-04T09:57:21.797Z"
   },
   {
    "duration": 22,
    "start_time": "2024-08-04T09:57:21.802Z"
   },
   {
    "duration": 3,
    "start_time": "2024-08-04T09:57:21.825Z"
   },
   {
    "duration": 20,
    "start_time": "2024-08-04T09:57:21.829Z"
   },
   {
    "duration": 20,
    "start_time": "2024-08-04T09:57:21.850Z"
   },
   {
    "duration": 35,
    "start_time": "2024-08-04T09:57:21.871Z"
   },
   {
    "duration": 10,
    "start_time": "2024-08-04T09:57:21.910Z"
   },
   {
    "duration": 5,
    "start_time": "2024-08-04T09:57:21.922Z"
   },
   {
    "duration": 13,
    "start_time": "2024-08-04T09:57:21.929Z"
   },
   {
    "duration": 13,
    "start_time": "2024-08-04T09:57:21.944Z"
   },
   {
    "duration": 279,
    "start_time": "2024-08-04T09:57:21.958Z"
   },
   {
    "duration": 259,
    "start_time": "2024-08-04T09:57:22.238Z"
   },
   {
    "duration": 173,
    "start_time": "2024-08-04T09:57:22.498Z"
   },
   {
    "duration": 323,
    "start_time": "2024-08-04T09:57:22.673Z"
   },
   {
    "duration": 169,
    "start_time": "2024-08-04T09:57:22.997Z"
   },
   {
    "duration": 327,
    "start_time": "2024-08-04T09:57:23.167Z"
   },
   {
    "duration": 198,
    "start_time": "2024-08-04T09:57:23.495Z"
   },
   {
    "duration": 6,
    "start_time": "2024-08-04T09:57:23.695Z"
   },
   {
    "duration": 47,
    "start_time": "2024-08-04T09:57:23.702Z"
   },
   {
    "duration": 126,
    "start_time": "2024-08-04T09:57:23.751Z"
   },
   {
    "duration": 16,
    "start_time": "2024-08-04T09:57:23.879Z"
   },
   {
    "duration": 28,
    "start_time": "2024-08-04T09:57:23.896Z"
   },
   {
    "duration": 443,
    "start_time": "2024-08-04T09:57:23.926Z"
   },
   {
    "duration": 23,
    "start_time": "2024-08-04T09:57:24.371Z"
   },
   {
    "duration": 8,
    "start_time": "2024-08-04T09:57:24.395Z"
   },
   {
    "duration": 26,
    "start_time": "2024-08-04T09:57:24.404Z"
   },
   {
    "duration": 49,
    "start_time": "2024-08-04T09:57:24.431Z"
   },
   {
    "duration": 18,
    "start_time": "2024-08-04T09:57:24.481Z"
   },
   {
    "duration": 67,
    "start_time": "2024-08-04T11:52:29.280Z"
   },
   {
    "duration": 48,
    "start_time": "2024-08-04T11:55:24.617Z"
   },
   {
    "duration": 1564,
    "start_time": "2024-08-04T11:55:47.225Z"
   },
   {
    "duration": 229,
    "start_time": "2024-08-04T11:55:48.792Z"
   },
   {
    "duration": 13,
    "start_time": "2024-08-04T11:55:49.023Z"
   },
   {
    "duration": 16,
    "start_time": "2024-08-04T11:55:49.037Z"
   },
   {
    "duration": 19,
    "start_time": "2024-08-04T11:55:49.055Z"
   },
   {
    "duration": 13,
    "start_time": "2024-08-04T11:55:49.075Z"
   },
   {
    "duration": 71,
    "start_time": "2024-08-04T11:55:49.090Z"
   },
   {
    "duration": 5,
    "start_time": "2024-08-04T11:55:49.164Z"
   },
   {
    "duration": 46,
    "start_time": "2024-08-04T11:55:49.170Z"
   },
   {
    "duration": 13,
    "start_time": "2024-08-04T11:55:49.218Z"
   },
   {
    "duration": 18,
    "start_time": "2024-08-04T11:55:49.233Z"
   },
   {
    "duration": 27,
    "start_time": "2024-08-04T11:55:49.252Z"
   },
   {
    "duration": 18,
    "start_time": "2024-08-04T11:55:49.281Z"
   },
   {
    "duration": 6,
    "start_time": "2024-08-04T11:55:49.302Z"
   },
   {
    "duration": 7,
    "start_time": "2024-08-04T11:55:49.309Z"
   },
   {
    "duration": 19,
    "start_time": "2024-08-04T11:55:49.318Z"
   },
   {
    "duration": 15,
    "start_time": "2024-08-04T11:55:49.339Z"
   },
   {
    "duration": 299,
    "start_time": "2024-08-04T11:55:49.356Z"
   },
   {
    "duration": 291,
    "start_time": "2024-08-04T11:55:49.657Z"
   },
   {
    "duration": 209,
    "start_time": "2024-08-04T11:55:49.950Z"
   },
   {
    "duration": 355,
    "start_time": "2024-08-04T11:55:50.160Z"
   },
   {
    "duration": 217,
    "start_time": "2024-08-04T11:55:50.517Z"
   },
   {
    "duration": 339,
    "start_time": "2024-08-04T11:55:50.736Z"
   },
   {
    "duration": 225,
    "start_time": "2024-08-04T11:55:51.077Z"
   },
   {
    "duration": 6,
    "start_time": "2024-08-04T11:55:51.304Z"
   },
   {
    "duration": 16,
    "start_time": "2024-08-04T11:55:51.312Z"
   },
   {
    "duration": 160,
    "start_time": "2024-08-04T11:55:51.330Z"
   },
   {
    "duration": 7,
    "start_time": "2024-08-04T11:55:51.492Z"
   },
   {
    "duration": 13,
    "start_time": "2024-08-04T11:55:51.500Z"
   },
   {
    "duration": 647,
    "start_time": "2024-08-04T11:55:51.515Z"
   },
   {
    "duration": 0,
    "start_time": "2024-08-04T11:55:52.163Z"
   },
   {
    "duration": 0,
    "start_time": "2024-08-04T11:55:52.165Z"
   },
   {
    "duration": 0,
    "start_time": "2024-08-04T11:55:52.166Z"
   },
   {
    "duration": 0,
    "start_time": "2024-08-04T11:55:52.167Z"
   },
   {
    "duration": 0,
    "start_time": "2024-08-04T11:55:52.168Z"
   },
   {
    "duration": 312,
    "start_time": "2024-08-04T12:02:35.306Z"
   },
   {
    "duration": 299,
    "start_time": "2024-08-04T12:02:50.800Z"
   },
   {
    "duration": 198,
    "start_time": "2024-08-04T12:03:04.590Z"
   },
   {
    "duration": 206,
    "start_time": "2024-08-04T12:03:12.949Z"
   },
   {
    "duration": 209,
    "start_time": "2024-08-04T12:03:17.650Z"
   },
   {
    "duration": 208,
    "start_time": "2024-08-04T12:03:24.509Z"
   },
   {
    "duration": 204,
    "start_time": "2024-08-04T12:03:31.409Z"
   },
   {
    "duration": 206,
    "start_time": "2024-08-04T12:04:27.789Z"
   },
   {
    "duration": 188,
    "start_time": "2024-08-04T12:05:14.929Z"
   },
   {
    "duration": 199,
    "start_time": "2024-08-04T12:05:32.759Z"
   },
   {
    "duration": 311,
    "start_time": "2024-08-04T12:06:30.430Z"
   },
   {
    "duration": 318,
    "start_time": "2024-08-04T12:06:53.981Z"
   },
   {
    "duration": 346,
    "start_time": "2024-08-04T12:08:13.859Z"
   },
   {
    "duration": 8,
    "start_time": "2024-08-04T12:08:26.879Z"
   },
   {
    "duration": 224,
    "start_time": "2024-08-04T12:08:35.864Z"
   },
   {
    "duration": 354,
    "start_time": "2024-08-04T12:08:43.731Z"
   },
   {
    "duration": 213,
    "start_time": "2024-08-04T12:08:54.168Z"
   },
   {
    "duration": 346,
    "start_time": "2024-08-04T12:09:17.849Z"
   },
   {
    "duration": 212,
    "start_time": "2024-08-04T12:09:37.760Z"
   },
   {
    "duration": 295,
    "start_time": "2024-08-04T12:11:25.916Z"
   },
   {
    "duration": 221,
    "start_time": "2024-08-04T12:11:59.310Z"
   },
   {
    "duration": 222,
    "start_time": "2024-08-04T12:12:46.407Z"
   },
   {
    "duration": 251,
    "start_time": "2024-08-04T12:12:52.830Z"
   },
   {
    "duration": 241,
    "start_time": "2024-08-04T12:13:05.489Z"
   },
   {
    "duration": 318,
    "start_time": "2024-08-04T12:16:01.700Z"
   },
   {
    "duration": 248,
    "start_time": "2024-08-04T12:16:35.809Z"
   },
   {
    "duration": 63,
    "start_time": "2024-08-04T12:17:08.819Z"
   },
   {
    "duration": 63,
    "start_time": "2024-08-04T12:17:20.969Z"
   },
   {
    "duration": 73,
    "start_time": "2024-08-04T12:17:30.529Z"
   },
   {
    "duration": 66,
    "start_time": "2024-08-04T12:17:40.990Z"
   },
   {
    "duration": 1328,
    "start_time": "2024-08-04T12:17:55.149Z"
   },
   {
    "duration": 77,
    "start_time": "2024-08-04T12:17:56.480Z"
   },
   {
    "duration": 12,
    "start_time": "2024-08-04T12:17:56.559Z"
   },
   {
    "duration": 41,
    "start_time": "2024-08-04T12:17:56.572Z"
   },
   {
    "duration": 24,
    "start_time": "2024-08-04T12:17:56.616Z"
   },
   {
    "duration": 17,
    "start_time": "2024-08-04T12:17:56.642Z"
   },
   {
    "duration": 72,
    "start_time": "2024-08-04T12:17:56.661Z"
   },
   {
    "duration": 4,
    "start_time": "2024-08-04T12:17:56.735Z"
   },
   {
    "duration": 28,
    "start_time": "2024-08-04T12:17:56.741Z"
   },
   {
    "duration": 7,
    "start_time": "2024-08-04T12:17:56.770Z"
   },
   {
    "duration": 34,
    "start_time": "2024-08-04T12:17:56.778Z"
   },
   {
    "duration": 11,
    "start_time": "2024-08-04T12:17:56.813Z"
   },
   {
    "duration": 16,
    "start_time": "2024-08-04T12:17:56.825Z"
   },
   {
    "duration": 22,
    "start_time": "2024-08-04T12:17:56.844Z"
   },
   {
    "duration": 12,
    "start_time": "2024-08-04T12:17:56.868Z"
   },
   {
    "duration": 18,
    "start_time": "2024-08-04T12:17:56.882Z"
   },
   {
    "duration": 5,
    "start_time": "2024-08-04T12:17:56.902Z"
   },
   {
    "duration": 307,
    "start_time": "2024-08-04T12:17:56.908Z"
   },
   {
    "duration": 341,
    "start_time": "2024-08-04T12:17:57.216Z"
   },
   {
    "duration": 262,
    "start_time": "2024-08-04T12:17:57.559Z"
   },
   {
    "duration": 378,
    "start_time": "2024-08-04T12:17:57.823Z"
   },
   {
    "duration": 245,
    "start_time": "2024-08-04T12:17:58.203Z"
   },
   {
    "duration": 70,
    "start_time": "2024-08-04T12:17:58.450Z"
   },
   {
    "duration": 0,
    "start_time": "2024-08-04T12:17:58.522Z"
   },
   {
    "duration": 0,
    "start_time": "2024-08-04T12:17:58.523Z"
   },
   {
    "duration": 0,
    "start_time": "2024-08-04T12:17:58.524Z"
   },
   {
    "duration": 0,
    "start_time": "2024-08-04T12:17:58.525Z"
   },
   {
    "duration": 0,
    "start_time": "2024-08-04T12:17:58.526Z"
   },
   {
    "duration": 0,
    "start_time": "2024-08-04T12:17:58.527Z"
   },
   {
    "duration": 0,
    "start_time": "2024-08-04T12:17:58.528Z"
   },
   {
    "duration": 0,
    "start_time": "2024-08-04T12:17:58.529Z"
   },
   {
    "duration": 0,
    "start_time": "2024-08-04T12:17:58.530Z"
   },
   {
    "duration": 0,
    "start_time": "2024-08-04T12:17:58.532Z"
   },
   {
    "duration": 0,
    "start_time": "2024-08-04T12:17:58.533Z"
   },
   {
    "duration": 0,
    "start_time": "2024-08-04T12:17:58.534Z"
   },
   {
    "duration": 72,
    "start_time": "2024-08-04T12:18:43.519Z"
   },
   {
    "duration": 73,
    "start_time": "2024-08-04T12:19:00.580Z"
   },
   {
    "duration": 80,
    "start_time": "2024-08-04T12:19:19.161Z"
   },
   {
    "duration": 88,
    "start_time": "2024-08-04T12:19:35.920Z"
   },
   {
    "duration": 65,
    "start_time": "2024-08-04T12:19:47.040Z"
   },
   {
    "duration": 208,
    "start_time": "2024-08-04T12:19:51.500Z"
   },
   {
    "duration": 315,
    "start_time": "2024-08-04T12:19:57.175Z"
   },
   {
    "duration": 383,
    "start_time": "2024-08-04T12:20:07.428Z"
   },
   {
    "duration": 78,
    "start_time": "2024-08-04T12:20:13.569Z"
   },
   {
    "duration": 154,
    "start_time": "2024-08-04T12:20:23.328Z"
   },
   {
    "duration": 166,
    "start_time": "2024-08-04T12:20:40.285Z"
   },
   {
    "duration": 7,
    "start_time": "2024-08-04T12:20:42.829Z"
   },
   {
    "duration": 4,
    "start_time": "2024-08-04T12:20:43.640Z"
   },
   {
    "duration": 161,
    "start_time": "2024-08-04T12:20:46.521Z"
   },
   {
    "duration": 8,
    "start_time": "2024-08-04T12:20:53.419Z"
   },
   {
    "duration": 5,
    "start_time": "2024-08-04T12:20:54.413Z"
   },
   {
    "duration": 596,
    "start_time": "2024-08-04T12:21:01.813Z"
   },
   {
    "duration": 11,
    "start_time": "2024-08-04T12:21:05.029Z"
   },
   {
    "duration": 10,
    "start_time": "2024-08-04T12:21:06.770Z"
   },
   {
    "duration": 1355,
    "start_time": "2024-08-04T12:21:14.530Z"
   },
   {
    "duration": 78,
    "start_time": "2024-08-04T12:21:15.887Z"
   },
   {
    "duration": 12,
    "start_time": "2024-08-04T12:21:15.966Z"
   },
   {
    "duration": 20,
    "start_time": "2024-08-04T12:21:15.980Z"
   },
   {
    "duration": 25,
    "start_time": "2024-08-04T12:21:16.002Z"
   },
   {
    "duration": 12,
    "start_time": "2024-08-04T12:21:16.029Z"
   },
   {
    "duration": 63,
    "start_time": "2024-08-04T12:21:16.042Z"
   },
   {
    "duration": 5,
    "start_time": "2024-08-04T12:21:16.107Z"
   },
   {
    "duration": 28,
    "start_time": "2024-08-04T12:21:16.114Z"
   },
   {
    "duration": 11,
    "start_time": "2024-08-04T12:21:16.144Z"
   },
   {
    "duration": 15,
    "start_time": "2024-08-04T12:21:16.157Z"
   },
   {
    "duration": 19,
    "start_time": "2024-08-04T12:21:16.173Z"
   },
   {
    "duration": 13,
    "start_time": "2024-08-04T12:21:16.193Z"
   },
   {
    "duration": 13,
    "start_time": "2024-08-04T12:21:16.208Z"
   },
   {
    "duration": 4,
    "start_time": "2024-08-04T12:21:16.222Z"
   },
   {
    "duration": 27,
    "start_time": "2024-08-04T12:21:16.228Z"
   },
   {
    "duration": 4,
    "start_time": "2024-08-04T12:21:16.257Z"
   },
   {
    "duration": 321,
    "start_time": "2024-08-04T12:21:16.263Z"
   },
   {
    "duration": 351,
    "start_time": "2024-08-04T12:21:16.586Z"
   },
   {
    "duration": 246,
    "start_time": "2024-08-04T12:21:16.939Z"
   },
   {
    "duration": 362,
    "start_time": "2024-08-04T12:21:17.187Z"
   },
   {
    "duration": 256,
    "start_time": "2024-08-04T12:21:17.551Z"
   },
   {
    "duration": 419,
    "start_time": "2024-08-04T12:21:17.808Z"
   },
   {
    "duration": 162,
    "start_time": "2024-08-04T12:21:18.228Z"
   },
   {
    "duration": 6,
    "start_time": "2024-08-04T12:21:18.392Z"
   },
   {
    "duration": 9,
    "start_time": "2024-08-04T12:21:18.399Z"
   },
   {
    "duration": 187,
    "start_time": "2024-08-04T12:21:18.410Z"
   },
   {
    "duration": 7,
    "start_time": "2024-08-04T12:21:18.599Z"
   },
   {
    "duration": 4,
    "start_time": "2024-08-04T12:21:18.608Z"
   },
   {
    "duration": 650,
    "start_time": "2024-08-04T12:21:18.614Z"
   },
   {
    "duration": 0,
    "start_time": "2024-08-04T12:21:19.266Z"
   },
   {
    "duration": 0,
    "start_time": "2024-08-04T12:21:19.267Z"
   },
   {
    "duration": 0,
    "start_time": "2024-08-04T12:21:19.268Z"
   },
   {
    "duration": 0,
    "start_time": "2024-08-04T12:21:19.269Z"
   },
   {
    "duration": 0,
    "start_time": "2024-08-04T12:21:19.270Z"
   },
   {
    "duration": 1295,
    "start_time": "2024-08-04T12:22:56.709Z"
   },
   {
    "duration": 78,
    "start_time": "2024-08-04T12:22:58.005Z"
   },
   {
    "duration": 12,
    "start_time": "2024-08-04T12:22:58.084Z"
   },
   {
    "duration": 14,
    "start_time": "2024-08-04T12:22:58.098Z"
   },
   {
    "duration": 12,
    "start_time": "2024-08-04T12:22:58.114Z"
   },
   {
    "duration": 20,
    "start_time": "2024-08-04T12:22:58.128Z"
   },
   {
    "duration": 61,
    "start_time": "2024-08-04T12:22:58.150Z"
   },
   {
    "duration": 4,
    "start_time": "2024-08-04T12:22:58.213Z"
   },
   {
    "duration": 38,
    "start_time": "2024-08-04T12:22:58.219Z"
   },
   {
    "duration": 3,
    "start_time": "2024-08-04T12:22:58.259Z"
   },
   {
    "duration": 36,
    "start_time": "2024-08-04T12:22:58.264Z"
   },
   {
    "duration": 11,
    "start_time": "2024-08-04T12:22:58.302Z"
   },
   {
    "duration": 13,
    "start_time": "2024-08-04T12:22:58.315Z"
   },
   {
    "duration": 5,
    "start_time": "2024-08-04T12:22:58.331Z"
   },
   {
    "duration": 6,
    "start_time": "2024-08-04T12:22:58.337Z"
   },
   {
    "duration": 28,
    "start_time": "2024-08-04T12:22:58.344Z"
   },
   {
    "duration": 4,
    "start_time": "2024-08-04T12:22:58.374Z"
   },
   {
    "duration": 316,
    "start_time": "2024-08-04T12:22:58.379Z"
   },
   {
    "duration": 344,
    "start_time": "2024-08-04T12:22:58.697Z"
   },
   {
    "duration": 253,
    "start_time": "2024-08-04T12:22:59.042Z"
   },
   {
    "duration": 323,
    "start_time": "2024-08-04T12:22:59.298Z"
   },
   {
    "duration": 243,
    "start_time": "2024-08-04T12:22:59.623Z"
   },
   {
    "duration": 453,
    "start_time": "2024-08-04T12:22:59.868Z"
   },
   {
    "duration": 159,
    "start_time": "2024-08-04T12:23:00.323Z"
   },
   {
    "duration": 6,
    "start_time": "2024-08-04T12:23:00.484Z"
   },
   {
    "duration": 48,
    "start_time": "2024-08-04T12:23:00.492Z"
   },
   {
    "duration": 218,
    "start_time": "2024-08-04T12:23:00.541Z"
   },
   {
    "duration": 13,
    "start_time": "2024-08-04T12:23:00.761Z"
   },
   {
    "duration": 65,
    "start_time": "2024-08-04T12:23:00.776Z"
   },
   {
    "duration": 642,
    "start_time": "2024-08-04T12:23:00.843Z"
   },
   {
    "duration": 0,
    "start_time": "2024-08-04T12:23:01.487Z"
   },
   {
    "duration": 0,
    "start_time": "2024-08-04T12:23:01.488Z"
   },
   {
    "duration": 0,
    "start_time": "2024-08-04T12:23:01.490Z"
   },
   {
    "duration": 0,
    "start_time": "2024-08-04T12:23:01.491Z"
   },
   {
    "duration": 0,
    "start_time": "2024-08-04T12:23:01.492Z"
   },
   {
    "duration": 6,
    "start_time": "2024-08-04T12:24:42.772Z"
   },
   {
    "duration": 1359,
    "start_time": "2024-08-04T12:24:58.321Z"
   },
   {
    "duration": 78,
    "start_time": "2024-08-04T12:24:59.682Z"
   },
   {
    "duration": 13,
    "start_time": "2024-08-04T12:24:59.762Z"
   },
   {
    "duration": 21,
    "start_time": "2024-08-04T12:24:59.777Z"
   },
   {
    "duration": 12,
    "start_time": "2024-08-04T12:24:59.800Z"
   },
   {
    "duration": 12,
    "start_time": "2024-08-04T12:24:59.814Z"
   },
   {
    "duration": 81,
    "start_time": "2024-08-04T12:24:59.827Z"
   },
   {
    "duration": 5,
    "start_time": "2024-08-04T12:24:59.909Z"
   },
   {
    "duration": 30,
    "start_time": "2024-08-04T12:24:59.916Z"
   },
   {
    "duration": 12,
    "start_time": "2024-08-04T12:24:59.947Z"
   },
   {
    "duration": 24,
    "start_time": "2024-08-04T12:24:59.961Z"
   },
   {
    "duration": 8,
    "start_time": "2024-08-04T12:24:59.987Z"
   },
   {
    "duration": 63,
    "start_time": "2024-08-04T12:24:59.997Z"
   },
   {
    "duration": 34,
    "start_time": "2024-08-04T12:25:00.063Z"
   },
   {
    "duration": 35,
    "start_time": "2024-08-04T12:25:00.098Z"
   },
   {
    "duration": 31,
    "start_time": "2024-08-04T12:25:00.135Z"
   },
   {
    "duration": 41,
    "start_time": "2024-08-04T12:25:00.168Z"
   },
   {
    "duration": 434,
    "start_time": "2024-08-04T12:25:00.211Z"
   },
   {
    "duration": 341,
    "start_time": "2024-08-04T12:25:00.647Z"
   },
   {
    "duration": 263,
    "start_time": "2024-08-04T12:25:00.990Z"
   },
   {
    "duration": 364,
    "start_time": "2024-08-04T12:25:01.255Z"
   },
   {
    "duration": 251,
    "start_time": "2024-08-04T12:25:01.621Z"
   },
   {
    "duration": 430,
    "start_time": "2024-08-04T12:25:01.874Z"
   },
   {
    "duration": 158,
    "start_time": "2024-08-04T12:25:02.306Z"
   },
   {
    "duration": 6,
    "start_time": "2024-08-04T12:25:02.466Z"
   },
   {
    "duration": 18,
    "start_time": "2024-08-04T12:25:02.474Z"
   },
   {
    "duration": 206,
    "start_time": "2024-08-04T12:25:02.493Z"
   },
   {
    "duration": 7,
    "start_time": "2024-08-04T12:25:02.701Z"
   },
   {
    "duration": 25,
    "start_time": "2024-08-04T12:25:02.710Z"
   },
   {
    "duration": 542,
    "start_time": "2024-08-04T12:25:02.736Z"
   },
   {
    "duration": 12,
    "start_time": "2024-08-04T12:25:03.279Z"
   },
   {
    "duration": 35,
    "start_time": "2024-08-04T12:25:03.292Z"
   },
   {
    "duration": 11,
    "start_time": "2024-08-04T12:25:03.329Z"
   },
   {
    "duration": 51,
    "start_time": "2024-08-04T12:25:03.341Z"
   },
   {
    "duration": 15,
    "start_time": "2024-08-04T12:25:03.394Z"
   },
   {
    "duration": 361,
    "start_time": "2024-08-04T12:25:28.550Z"
   },
   {
    "duration": 161,
    "start_time": "2024-08-04T12:27:09.528Z"
   },
   {
    "duration": 200,
    "start_time": "2024-08-04T12:27:51.732Z"
   },
   {
    "duration": 112,
    "start_time": "2024-08-04T12:29:35.959Z"
   },
   {
    "duration": 16,
    "start_time": "2024-08-04T12:30:55.200Z"
   },
   {
    "duration": 15,
    "start_time": "2024-08-04T12:31:20.101Z"
   },
   {
    "duration": 16,
    "start_time": "2024-08-04T12:31:33.008Z"
   },
   {
    "duration": 161,
    "start_time": "2024-08-04T12:31:45.880Z"
   },
   {
    "duration": 177,
    "start_time": "2024-08-04T12:32:15.870Z"
   },
   {
    "duration": 193,
    "start_time": "2024-08-04T12:33:33.270Z"
   },
   {
    "duration": 7,
    "start_time": "2024-08-04T17:52:42.149Z"
   },
   {
    "duration": 1301,
    "start_time": "2024-08-04T17:55:09.776Z"
   },
   {
    "duration": 87,
    "start_time": "2024-08-04T17:55:11.078Z"
   },
   {
    "duration": 15,
    "start_time": "2024-08-04T17:55:11.168Z"
   },
   {
    "duration": 17,
    "start_time": "2024-08-04T17:55:11.184Z"
   },
   {
    "duration": 15,
    "start_time": "2024-08-04T17:55:11.203Z"
   },
   {
    "duration": 11,
    "start_time": "2024-08-04T17:55:11.220Z"
   },
   {
    "duration": 80,
    "start_time": "2024-08-04T17:55:11.233Z"
   },
   {
    "duration": 5,
    "start_time": "2024-08-04T17:55:11.315Z"
   },
   {
    "duration": 21,
    "start_time": "2024-08-04T17:55:11.321Z"
   },
   {
    "duration": 20,
    "start_time": "2024-08-04T17:55:11.343Z"
   },
   {
    "duration": 15,
    "start_time": "2024-08-04T17:55:11.366Z"
   },
   {
    "duration": 21,
    "start_time": "2024-08-04T17:55:11.382Z"
   },
   {
    "duration": 15,
    "start_time": "2024-08-04T17:55:11.405Z"
   },
   {
    "duration": 70,
    "start_time": "2024-08-04T17:55:11.423Z"
   },
   {
    "duration": 5,
    "start_time": "2024-08-04T17:55:11.495Z"
   },
   {
    "duration": 19,
    "start_time": "2024-08-04T17:55:11.501Z"
   },
   {
    "duration": 4,
    "start_time": "2024-08-04T17:55:11.522Z"
   },
   {
    "duration": 127,
    "start_time": "2024-08-04T17:55:11.527Z"
   },
   {
    "duration": 0,
    "start_time": "2024-08-04T17:55:11.657Z"
   },
   {
    "duration": 0,
    "start_time": "2024-08-04T17:55:11.658Z"
   },
   {
    "duration": 0,
    "start_time": "2024-08-04T17:55:11.659Z"
   },
   {
    "duration": 0,
    "start_time": "2024-08-04T17:55:11.661Z"
   },
   {
    "duration": 0,
    "start_time": "2024-08-04T17:55:11.662Z"
   },
   {
    "duration": 0,
    "start_time": "2024-08-04T17:55:11.664Z"
   },
   {
    "duration": 0,
    "start_time": "2024-08-04T17:55:11.665Z"
   },
   {
    "duration": 0,
    "start_time": "2024-08-04T17:55:11.666Z"
   },
   {
    "duration": 0,
    "start_time": "2024-08-04T17:55:11.667Z"
   },
   {
    "duration": 0,
    "start_time": "2024-08-04T17:55:11.669Z"
   },
   {
    "duration": 0,
    "start_time": "2024-08-04T17:55:11.670Z"
   },
   {
    "duration": 0,
    "start_time": "2024-08-04T17:55:11.672Z"
   },
   {
    "duration": 0,
    "start_time": "2024-08-04T17:55:11.674Z"
   },
   {
    "duration": 0,
    "start_time": "2024-08-04T17:55:11.676Z"
   },
   {
    "duration": 0,
    "start_time": "2024-08-04T17:55:11.677Z"
   },
   {
    "duration": 0,
    "start_time": "2024-08-04T17:55:11.678Z"
   },
   {
    "duration": 0,
    "start_time": "2024-08-04T17:55:11.680Z"
   },
   {
    "duration": 0,
    "start_time": "2024-08-04T17:55:11.682Z"
   },
   {
    "duration": 1281,
    "start_time": "2024-08-04T17:55:51.793Z"
   },
   {
    "duration": 81,
    "start_time": "2024-08-04T17:55:53.076Z"
   },
   {
    "duration": 20,
    "start_time": "2024-08-04T17:55:53.159Z"
   },
   {
    "duration": 23,
    "start_time": "2024-08-04T17:55:53.180Z"
   },
   {
    "duration": 30,
    "start_time": "2024-08-04T17:55:53.206Z"
   },
   {
    "duration": 32,
    "start_time": "2024-08-04T17:55:53.238Z"
   },
   {
    "duration": 60,
    "start_time": "2024-08-04T17:55:53.272Z"
   },
   {
    "duration": 4,
    "start_time": "2024-08-04T17:55:53.334Z"
   },
   {
    "duration": 36,
    "start_time": "2024-08-04T17:55:53.340Z"
   },
   {
    "duration": 4,
    "start_time": "2024-08-04T17:55:53.378Z"
   },
   {
    "duration": 22,
    "start_time": "2024-08-04T17:55:53.384Z"
   },
   {
    "duration": 7,
    "start_time": "2024-08-04T17:55:53.408Z"
   },
   {
    "duration": 22,
    "start_time": "2024-08-04T17:55:53.417Z"
   },
   {
    "duration": 13,
    "start_time": "2024-08-04T17:55:53.443Z"
   },
   {
    "duration": 18,
    "start_time": "2024-08-04T17:55:53.458Z"
   },
   {
    "duration": 16,
    "start_time": "2024-08-04T17:55:53.478Z"
   },
   {
    "duration": 6,
    "start_time": "2024-08-04T17:55:53.496Z"
   },
   {
    "duration": 334,
    "start_time": "2024-08-04T17:55:53.503Z"
   },
   {
    "duration": 356,
    "start_time": "2024-08-04T17:55:53.839Z"
   },
   {
    "duration": 266,
    "start_time": "2024-08-04T17:55:54.197Z"
   },
   {
    "duration": 361,
    "start_time": "2024-08-04T17:55:54.465Z"
   },
   {
    "duration": 268,
    "start_time": "2024-08-04T17:55:54.828Z"
   },
   {
    "duration": 350,
    "start_time": "2024-08-04T17:55:55.098Z"
   },
   {
    "duration": 256,
    "start_time": "2024-08-04T17:55:55.449Z"
   },
   {
    "duration": 6,
    "start_time": "2024-08-04T17:55:55.707Z"
   },
   {
    "duration": 10,
    "start_time": "2024-08-04T17:55:55.715Z"
   },
   {
    "duration": 200,
    "start_time": "2024-08-04T17:55:55.727Z"
   },
   {
    "duration": 199,
    "start_time": "2024-08-04T17:55:55.929Z"
   },
   {
    "duration": 8,
    "start_time": "2024-08-04T17:55:56.130Z"
   },
   {
    "duration": 21,
    "start_time": "2024-08-04T17:55:56.140Z"
   },
   {
    "duration": 551,
    "start_time": "2024-08-04T17:55:56.164Z"
   },
   {
    "duration": 11,
    "start_time": "2024-08-04T17:55:56.717Z"
   },
   {
    "duration": 27,
    "start_time": "2024-08-04T17:55:56.730Z"
   },
   {
    "duration": 22,
    "start_time": "2024-08-04T17:55:56.759Z"
   },
   {
    "duration": 39,
    "start_time": "2024-08-04T17:55:56.782Z"
   },
   {
    "duration": 14,
    "start_time": "2024-08-04T17:55:56.823Z"
   },
   {
    "duration": 176,
    "start_time": "2024-08-04T17:58:48.017Z"
   },
   {
    "duration": 206,
    "start_time": "2024-08-04T17:59:11.195Z"
   },
   {
    "duration": 194,
    "start_time": "2024-08-04T17:59:18.237Z"
   },
   {
    "duration": 1232,
    "start_time": "2024-08-04T18:00:55.799Z"
   },
   {
    "duration": 77,
    "start_time": "2024-08-04T18:00:57.033Z"
   },
   {
    "duration": 13,
    "start_time": "2024-08-04T18:00:57.112Z"
   },
   {
    "duration": 36,
    "start_time": "2024-08-04T18:00:57.127Z"
   },
   {
    "duration": 31,
    "start_time": "2024-08-04T18:00:57.165Z"
   },
   {
    "duration": 13,
    "start_time": "2024-08-04T18:00:57.197Z"
   },
   {
    "duration": 58,
    "start_time": "2024-08-04T18:00:57.211Z"
   },
   {
    "duration": 5,
    "start_time": "2024-08-04T18:00:57.272Z"
   },
   {
    "duration": 27,
    "start_time": "2024-08-04T18:00:57.279Z"
   },
   {
    "duration": 3,
    "start_time": "2024-08-04T18:00:57.308Z"
   },
   {
    "duration": 28,
    "start_time": "2024-08-04T18:00:57.313Z"
   },
   {
    "duration": 8,
    "start_time": "2024-08-04T18:00:57.342Z"
   },
   {
    "duration": 35,
    "start_time": "2024-08-04T18:00:57.351Z"
   },
   {
    "duration": 19,
    "start_time": "2024-08-04T18:00:57.390Z"
   },
   {
    "duration": 3,
    "start_time": "2024-08-04T18:00:57.411Z"
   },
   {
    "duration": 15,
    "start_time": "2024-08-04T18:00:57.416Z"
   },
   {
    "duration": 100,
    "start_time": "2024-08-04T18:00:57.432Z"
   },
   {
    "duration": 357,
    "start_time": "2024-08-04T18:00:57.535Z"
   },
   {
    "duration": 339,
    "start_time": "2024-08-04T18:00:57.894Z"
   },
   {
    "duration": 263,
    "start_time": "2024-08-04T18:00:58.234Z"
   },
   {
    "duration": 321,
    "start_time": "2024-08-04T18:00:58.499Z"
   },
   {
    "duration": 251,
    "start_time": "2024-08-04T18:00:58.822Z"
   },
   {
    "duration": 343,
    "start_time": "2024-08-04T18:00:59.075Z"
   },
   {
    "duration": 258,
    "start_time": "2024-08-04T18:00:59.420Z"
   },
   {
    "duration": 5,
    "start_time": "2024-08-04T18:00:59.680Z"
   },
   {
    "duration": 8,
    "start_time": "2024-08-04T18:00:59.687Z"
   },
   {
    "duration": 212,
    "start_time": "2024-08-04T18:00:59.696Z"
   },
   {
    "duration": 211,
    "start_time": "2024-08-04T18:00:59.910Z"
   },
   {
    "duration": 7,
    "start_time": "2024-08-04T18:01:00.122Z"
   },
   {
    "duration": 55,
    "start_time": "2024-08-04T18:01:00.131Z"
   },
   {
    "duration": 176,
    "start_time": "2024-08-04T18:01:00.187Z"
   },
   {
    "duration": 0,
    "start_time": "2024-08-04T18:01:00.365Z"
   },
   {
    "duration": 0,
    "start_time": "2024-08-04T18:01:00.366Z"
   },
   {
    "duration": 0,
    "start_time": "2024-08-04T18:01:00.367Z"
   },
   {
    "duration": 0,
    "start_time": "2024-08-04T18:01:00.368Z"
   },
   {
    "duration": 0,
    "start_time": "2024-08-04T18:01:00.370Z"
   },
   {
    "duration": 180,
    "start_time": "2024-08-04T18:01:27.996Z"
   },
   {
    "duration": 17,
    "start_time": "2024-08-04T18:01:50.997Z"
   },
   {
    "duration": 518,
    "start_time": "2024-08-04T18:02:34.125Z"
   },
   {
    "duration": 7,
    "start_time": "2024-08-04T18:30:40.117Z"
   },
   {
    "duration": 1279,
    "start_time": "2024-08-04T18:30:50.659Z"
   },
   {
    "duration": 79,
    "start_time": "2024-08-04T18:30:51.940Z"
   },
   {
    "duration": 13,
    "start_time": "2024-08-04T18:30:52.021Z"
   },
   {
    "duration": 41,
    "start_time": "2024-08-04T18:30:52.036Z"
   },
   {
    "duration": 16,
    "start_time": "2024-08-04T18:30:52.079Z"
   },
   {
    "duration": 11,
    "start_time": "2024-08-04T18:30:52.097Z"
   },
   {
    "duration": 87,
    "start_time": "2024-08-04T18:30:52.109Z"
   },
   {
    "duration": 6,
    "start_time": "2024-08-04T18:30:52.198Z"
   },
   {
    "duration": 62,
    "start_time": "2024-08-04T18:30:52.205Z"
   },
   {
    "duration": 5,
    "start_time": "2024-08-04T18:30:52.269Z"
   },
   {
    "duration": 14,
    "start_time": "2024-08-04T18:30:52.276Z"
   },
   {
    "duration": 25,
    "start_time": "2024-08-04T18:30:52.292Z"
   },
   {
    "duration": 33,
    "start_time": "2024-08-04T18:30:52.318Z"
   },
   {
    "duration": 15,
    "start_time": "2024-08-04T18:30:52.354Z"
   },
   {
    "duration": 15,
    "start_time": "2024-08-04T18:30:52.370Z"
   },
   {
    "duration": 18,
    "start_time": "2024-08-04T18:30:52.386Z"
   },
   {
    "duration": 51,
    "start_time": "2024-08-04T18:30:52.406Z"
   },
   {
    "duration": 318,
    "start_time": "2024-08-04T18:30:52.459Z"
   },
   {
    "duration": 377,
    "start_time": "2024-08-04T18:30:52.779Z"
   },
   {
    "duration": 272,
    "start_time": "2024-08-04T18:30:53.158Z"
   },
   {
    "duration": 389,
    "start_time": "2024-08-04T18:30:53.432Z"
   },
   {
    "duration": 250,
    "start_time": "2024-08-04T18:30:53.823Z"
   },
   {
    "duration": 344,
    "start_time": "2024-08-04T18:30:54.075Z"
   },
   {
    "duration": 253,
    "start_time": "2024-08-04T18:30:54.420Z"
   },
   {
    "duration": 5,
    "start_time": "2024-08-04T18:30:54.675Z"
   },
   {
    "duration": 10,
    "start_time": "2024-08-04T18:30:54.682Z"
   },
   {
    "duration": 201,
    "start_time": "2024-08-04T18:30:54.693Z"
   },
   {
    "duration": 192,
    "start_time": "2024-08-04T18:30:54.895Z"
   },
   {
    "duration": 8,
    "start_time": "2024-08-04T18:30:55.089Z"
   },
   {
    "duration": 20,
    "start_time": "2024-08-04T18:30:55.098Z"
   },
   {
    "duration": 505,
    "start_time": "2024-08-04T18:30:55.121Z"
   },
   {
    "duration": 11,
    "start_time": "2024-08-04T18:30:55.627Z"
   },
   {
    "duration": 27,
    "start_time": "2024-08-04T18:30:55.639Z"
   },
   {
    "duration": 19,
    "start_time": "2024-08-04T18:30:55.668Z"
   },
   {
    "duration": 27,
    "start_time": "2024-08-04T18:30:55.689Z"
   },
   {
    "duration": 15,
    "start_time": "2024-08-04T18:30:55.718Z"
   },
   {
    "duration": 81,
    "start_time": "2024-08-04T18:33:02.266Z"
   },
   {
    "duration": 65,
    "start_time": "2024-08-04T18:34:32.256Z"
   },
   {
    "duration": 63,
    "start_time": "2024-08-04T18:34:39.237Z"
   },
   {
    "duration": 6,
    "start_time": "2024-08-04T18:34:47.680Z"
   },
   {
    "duration": 6,
    "start_time": "2024-08-04T18:35:02.957Z"
   },
   {
    "duration": 19,
    "start_time": "2024-08-04T18:35:05.117Z"
   },
   {
    "duration": 4,
    "start_time": "2024-08-04T18:35:12.636Z"
   },
   {
    "duration": 353,
    "start_time": "2024-08-04T18:35:13.257Z"
   },
   {
    "duration": 8,
    "start_time": "2024-08-04T18:35:14.937Z"
   },
   {
    "duration": 11,
    "start_time": "2024-08-04T18:35:15.957Z"
   },
   {
    "duration": 2,
    "start_time": "2024-08-04T18:35:16.657Z"
   },
   {
    "duration": 3,
    "start_time": "2024-08-04T18:35:17.285Z"
   },
   {
    "duration": 18,
    "start_time": "2024-08-04T18:35:19.379Z"
   },
   {
    "duration": 247,
    "start_time": "2024-08-04T18:35:20.537Z"
   },
   {
    "duration": 259,
    "start_time": "2024-08-04T18:57:38.039Z"
   },
   {
    "duration": 1252,
    "start_time": "2024-08-04T18:57:55.880Z"
   },
   {
    "duration": 83,
    "start_time": "2024-08-04T18:57:57.134Z"
   },
   {
    "duration": 13,
    "start_time": "2024-08-04T18:57:57.219Z"
   },
   {
    "duration": 29,
    "start_time": "2024-08-04T18:57:57.234Z"
   },
   {
    "duration": 13,
    "start_time": "2024-08-04T18:57:57.265Z"
   },
   {
    "duration": 11,
    "start_time": "2024-08-04T18:57:57.280Z"
   },
   {
    "duration": 79,
    "start_time": "2024-08-04T18:57:57.293Z"
   },
   {
    "duration": 5,
    "start_time": "2024-08-04T18:57:57.374Z"
   },
   {
    "duration": 24,
    "start_time": "2024-08-04T18:57:57.380Z"
   },
   {
    "duration": 4,
    "start_time": "2024-08-04T18:57:57.405Z"
   },
   {
    "duration": 66,
    "start_time": "2024-08-04T18:57:57.410Z"
   },
   {
    "duration": 8,
    "start_time": "2024-08-04T18:57:57.477Z"
   },
   {
    "duration": 13,
    "start_time": "2024-08-04T18:57:57.487Z"
   },
   {
    "duration": 3,
    "start_time": "2024-08-04T18:57:57.503Z"
   },
   {
    "duration": 7,
    "start_time": "2024-08-04T18:57:57.507Z"
   },
   {
    "duration": 21,
    "start_time": "2024-08-04T18:57:57.516Z"
   },
   {
    "duration": 24,
    "start_time": "2024-08-04T18:57:57.539Z"
   },
   {
    "duration": 330,
    "start_time": "2024-08-04T18:57:57.564Z"
   },
   {
    "duration": 353,
    "start_time": "2024-08-04T18:57:57.896Z"
   },
   {
    "duration": 256,
    "start_time": "2024-08-04T18:57:58.251Z"
   },
   {
    "duration": 330,
    "start_time": "2024-08-04T18:57:58.509Z"
   },
   {
    "duration": 244,
    "start_time": "2024-08-04T18:57:58.841Z"
   },
   {
    "duration": 353,
    "start_time": "2024-08-04T18:57:59.087Z"
   },
   {
    "duration": 256,
    "start_time": "2024-08-04T18:57:59.442Z"
   },
   {
    "duration": 8,
    "start_time": "2024-08-04T18:57:59.700Z"
   },
   {
    "duration": 38,
    "start_time": "2024-08-04T18:57:59.709Z"
   },
   {
    "duration": 190,
    "start_time": "2024-08-04T18:57:59.748Z"
   },
   {
    "duration": 202,
    "start_time": "2024-08-04T18:57:59.940Z"
   },
   {
    "duration": 24,
    "start_time": "2024-08-04T18:58:00.144Z"
   },
   {
    "duration": 60,
    "start_time": "2024-08-04T18:58:00.169Z"
   },
   {
    "duration": 576,
    "start_time": "2024-08-04T18:58:00.231Z"
   },
   {
    "duration": 11,
    "start_time": "2024-08-04T18:58:00.809Z"
   },
   {
    "duration": 62,
    "start_time": "2024-08-04T18:58:00.821Z"
   },
   {
    "duration": 89,
    "start_time": "2024-08-04T18:58:00.885Z"
   },
   {
    "duration": 48,
    "start_time": "2024-08-04T18:58:00.976Z"
   },
   {
    "duration": 20,
    "start_time": "2024-08-04T18:58:01.026Z"
   },
   {
    "duration": 379,
    "start_time": "2024-08-04T19:10:24.200Z"
   },
   {
    "duration": 1263,
    "start_time": "2024-08-04T19:10:52.000Z"
   },
   {
    "duration": 79,
    "start_time": "2024-08-04T19:10:53.265Z"
   },
   {
    "duration": 22,
    "start_time": "2024-08-04T19:10:53.345Z"
   },
   {
    "duration": 41,
    "start_time": "2024-08-04T19:10:53.369Z"
   },
   {
    "duration": 13,
    "start_time": "2024-08-04T19:10:53.413Z"
   },
   {
    "duration": 25,
    "start_time": "2024-08-04T19:10:53.428Z"
   },
   {
    "duration": 75,
    "start_time": "2024-08-04T19:10:53.454Z"
   },
   {
    "duration": 6,
    "start_time": "2024-08-04T19:10:53.530Z"
   },
   {
    "duration": 47,
    "start_time": "2024-08-04T19:10:53.537Z"
   },
   {
    "duration": 6,
    "start_time": "2024-08-04T19:10:53.586Z"
   },
   {
    "duration": 15,
    "start_time": "2024-08-04T19:10:53.593Z"
   },
   {
    "duration": 19,
    "start_time": "2024-08-04T19:10:53.610Z"
   },
   {
    "duration": 19,
    "start_time": "2024-08-04T19:10:53.631Z"
   },
   {
    "duration": 16,
    "start_time": "2024-08-04T19:10:53.653Z"
   },
   {
    "duration": 16,
    "start_time": "2024-08-04T19:10:53.671Z"
   },
   {
    "duration": 24,
    "start_time": "2024-08-04T19:10:53.689Z"
   },
   {
    "duration": 4,
    "start_time": "2024-08-04T19:10:53.715Z"
   },
   {
    "duration": 399,
    "start_time": "2024-08-04T19:10:53.721Z"
   },
   {
    "duration": 374,
    "start_time": "2024-08-04T19:10:54.122Z"
   },
   {
    "duration": 271,
    "start_time": "2024-08-04T19:10:54.497Z"
   },
   {
    "duration": 354,
    "start_time": "2024-08-04T19:10:54.770Z"
   },
   {
    "duration": 290,
    "start_time": "2024-08-04T19:10:55.127Z"
   },
   {
    "duration": 398,
    "start_time": "2024-08-04T19:10:55.419Z"
   },
   {
    "duration": 256,
    "start_time": "2024-08-04T19:10:55.819Z"
   },
   {
    "duration": 6,
    "start_time": "2024-08-04T19:10:56.077Z"
   },
   {
    "duration": 13,
    "start_time": "2024-08-04T19:10:56.085Z"
   },
   {
    "duration": 202,
    "start_time": "2024-08-04T19:10:56.100Z"
   },
   {
    "duration": 206,
    "start_time": "2024-08-04T19:10:56.304Z"
   },
   {
    "duration": 8,
    "start_time": "2024-08-04T19:10:56.511Z"
   },
   {
    "duration": 5,
    "start_time": "2024-08-04T19:10:56.520Z"
   },
   {
    "duration": 580,
    "start_time": "2024-08-04T19:10:56.526Z"
   },
   {
    "duration": 11,
    "start_time": "2024-08-04T19:10:57.107Z"
   },
   {
    "duration": 18,
    "start_time": "2024-08-04T19:10:57.120Z"
   },
   {
    "duration": 33,
    "start_time": "2024-08-04T19:10:57.140Z"
   },
   {
    "duration": 27,
    "start_time": "2024-08-04T19:10:57.174Z"
   },
   {
    "duration": 15,
    "start_time": "2024-08-04T19:10:57.203Z"
   },
   {
    "duration": 5,
    "start_time": "2024-08-04T19:11:39.479Z"
   },
   {
    "duration": 5,
    "start_time": "2024-08-04T19:11:57.478Z"
   },
   {
    "duration": 12,
    "start_time": "2024-08-04T19:11:58.359Z"
   },
   {
    "duration": 109,
    "start_time": "2024-08-04T19:12:38.319Z"
   },
   {
    "duration": 5,
    "start_time": "2024-08-04T19:12:42.391Z"
   },
   {
    "duration": 14,
    "start_time": "2024-08-04T19:12:44.418Z"
   },
   {
    "duration": 1271,
    "start_time": "2024-08-04T19:12:54.979Z"
   },
   {
    "duration": 81,
    "start_time": "2024-08-04T19:12:56.252Z"
   },
   {
    "duration": 13,
    "start_time": "2024-08-04T19:12:56.335Z"
   },
   {
    "duration": 28,
    "start_time": "2024-08-04T19:12:56.350Z"
   },
   {
    "duration": 29,
    "start_time": "2024-08-04T19:12:56.379Z"
   },
   {
    "duration": 11,
    "start_time": "2024-08-04T19:12:56.410Z"
   },
   {
    "duration": 65,
    "start_time": "2024-08-04T19:12:56.423Z"
   },
   {
    "duration": 6,
    "start_time": "2024-08-04T19:12:56.490Z"
   },
   {
    "duration": 33,
    "start_time": "2024-08-04T19:12:56.497Z"
   },
   {
    "duration": 3,
    "start_time": "2024-08-04T19:12:56.533Z"
   },
   {
    "duration": 16,
    "start_time": "2024-08-04T19:12:56.538Z"
   },
   {
    "duration": 16,
    "start_time": "2024-08-04T19:12:56.555Z"
   },
   {
    "duration": 14,
    "start_time": "2024-08-04T19:12:56.572Z"
   },
   {
    "duration": 7,
    "start_time": "2024-08-04T19:12:56.587Z"
   },
   {
    "duration": 16,
    "start_time": "2024-08-04T19:12:56.596Z"
   },
   {
    "duration": 30,
    "start_time": "2024-08-04T19:12:56.614Z"
   },
   {
    "duration": 34,
    "start_time": "2024-08-04T19:12:56.645Z"
   },
   {
    "duration": 30,
    "start_time": "2024-08-04T19:12:56.680Z"
   },
   {
    "duration": 27,
    "start_time": "2024-08-04T19:12:56.712Z"
   },
   {
    "duration": 26,
    "start_time": "2024-08-04T19:12:56.741Z"
   },
   {
    "duration": 113,
    "start_time": "2024-08-04T19:12:56.769Z"
   },
   {
    "duration": 0,
    "start_time": "2024-08-04T19:12:56.884Z"
   },
   {
    "duration": 0,
    "start_time": "2024-08-04T19:12:56.885Z"
   },
   {
    "duration": 0,
    "start_time": "2024-08-04T19:12:56.886Z"
   },
   {
    "duration": 0,
    "start_time": "2024-08-04T19:12:56.887Z"
   },
   {
    "duration": 0,
    "start_time": "2024-08-04T19:12:56.888Z"
   },
   {
    "duration": 0,
    "start_time": "2024-08-04T19:12:56.889Z"
   },
   {
    "duration": 0,
    "start_time": "2024-08-04T19:12:56.890Z"
   },
   {
    "duration": 0,
    "start_time": "2024-08-04T19:12:56.890Z"
   },
   {
    "duration": 0,
    "start_time": "2024-08-04T19:12:56.892Z"
   },
   {
    "duration": 0,
    "start_time": "2024-08-04T19:12:56.893Z"
   },
   {
    "duration": 0,
    "start_time": "2024-08-04T19:12:56.895Z"
   },
   {
    "duration": 0,
    "start_time": "2024-08-04T19:12:56.896Z"
   },
   {
    "duration": 0,
    "start_time": "2024-08-04T19:12:56.897Z"
   },
   {
    "duration": 0,
    "start_time": "2024-08-04T19:12:56.898Z"
   },
   {
    "duration": 0,
    "start_time": "2024-08-04T19:12:56.899Z"
   },
   {
    "duration": 0,
    "start_time": "2024-08-04T19:12:56.900Z"
   },
   {
    "duration": 0,
    "start_time": "2024-08-04T19:12:56.901Z"
   },
   {
    "duration": 0,
    "start_time": "2024-08-04T19:12:56.902Z"
   },
   {
    "duration": 0,
    "start_time": "2024-08-04T19:12:56.903Z"
   },
   {
    "duration": 4,
    "start_time": "2024-08-04T19:14:49.368Z"
   },
   {
    "duration": 4,
    "start_time": "2024-08-04T19:16:11.977Z"
   },
   {
    "duration": 4,
    "start_time": "2024-08-04T19:16:39.161Z"
   },
   {
    "duration": 9,
    "start_time": "2024-08-04T19:18:07.097Z"
   },
   {
    "duration": 299,
    "start_time": "2024-08-04T19:18:16.718Z"
   },
   {
    "duration": 6,
    "start_time": "2024-08-04T19:18:19.668Z"
   },
   {
    "duration": 5,
    "start_time": "2024-08-04T19:18:44.331Z"
   },
   {
    "duration": 4,
    "start_time": "2024-08-04T19:18:56.171Z"
   },
   {
    "duration": 355,
    "start_time": "2024-08-04T19:19:06.133Z"
   },
   {
    "duration": 66,
    "start_time": "2024-08-04T19:20:05.838Z"
   },
   {
    "duration": 13,
    "start_time": "2024-08-04T19:29:10.978Z"
   },
   {
    "duration": 1277,
    "start_time": "2024-08-04T19:29:21.670Z"
   },
   {
    "duration": 78,
    "start_time": "2024-08-04T19:29:22.949Z"
   },
   {
    "duration": 12,
    "start_time": "2024-08-04T19:29:23.029Z"
   },
   {
    "duration": 24,
    "start_time": "2024-08-04T19:29:23.043Z"
   },
   {
    "duration": 15,
    "start_time": "2024-08-04T19:29:23.069Z"
   },
   {
    "duration": 29,
    "start_time": "2024-08-04T19:29:23.085Z"
   },
   {
    "duration": 81,
    "start_time": "2024-08-04T19:29:23.116Z"
   },
   {
    "duration": 6,
    "start_time": "2024-08-04T19:29:23.198Z"
   },
   {
    "duration": 36,
    "start_time": "2024-08-04T19:29:23.206Z"
   },
   {
    "duration": 24,
    "start_time": "2024-08-04T19:29:23.243Z"
   },
   {
    "duration": 52,
    "start_time": "2024-08-04T19:29:23.269Z"
   },
   {
    "duration": 21,
    "start_time": "2024-08-04T19:29:23.323Z"
   },
   {
    "duration": 5,
    "start_time": "2024-08-04T19:29:23.346Z"
   },
   {
    "duration": 16,
    "start_time": "2024-08-04T19:29:23.354Z"
   },
   {
    "duration": 12,
    "start_time": "2024-08-04T19:29:23.371Z"
   },
   {
    "duration": 3,
    "start_time": "2024-08-04T19:29:23.385Z"
   },
   {
    "duration": 3,
    "start_time": "2024-08-04T19:29:23.390Z"
   },
   {
    "duration": 21,
    "start_time": "2024-08-04T19:29:23.395Z"
   },
   {
    "duration": 4,
    "start_time": "2024-08-04T19:29:23.418Z"
   },
   {
    "duration": 5,
    "start_time": "2024-08-04T19:29:23.424Z"
   },
   {
    "duration": 16,
    "start_time": "2024-08-04T19:29:23.454Z"
   },
   {
    "duration": 302,
    "start_time": "2024-08-04T19:29:23.472Z"
   },
   {
    "duration": 6,
    "start_time": "2024-08-04T19:29:23.782Z"
   },
   {
    "duration": 81,
    "start_time": "2024-08-04T19:29:23.790Z"
   },
   {
    "duration": 338,
    "start_time": "2024-08-04T19:29:23.873Z"
   },
   {
    "duration": 257,
    "start_time": "2024-08-04T19:29:24.213Z"
   },
   {
    "duration": 339,
    "start_time": "2024-08-04T19:29:24.472Z"
   },
   {
    "duration": 251,
    "start_time": "2024-08-04T19:29:24.812Z"
   },
   {
    "duration": 381,
    "start_time": "2024-08-04T19:29:25.065Z"
   },
   {
    "duration": 244,
    "start_time": "2024-08-04T19:29:25.447Z"
   },
   {
    "duration": 6,
    "start_time": "2024-08-04T19:29:25.693Z"
   },
   {
    "duration": 6,
    "start_time": "2024-08-04T19:29:25.700Z"
   },
   {
    "duration": 201,
    "start_time": "2024-08-04T19:29:25.708Z"
   },
   {
    "duration": 194,
    "start_time": "2024-08-04T19:29:25.910Z"
   },
   {
    "duration": 7,
    "start_time": "2024-08-04T19:29:26.105Z"
   },
   {
    "duration": 8,
    "start_time": "2024-08-04T19:29:26.113Z"
   },
   {
    "duration": 555,
    "start_time": "2024-08-04T19:29:26.123Z"
   },
   {
    "duration": 18,
    "start_time": "2024-08-04T19:29:26.680Z"
   },
   {
    "duration": 13,
    "start_time": "2024-08-04T19:29:26.700Z"
   },
   {
    "duration": 13,
    "start_time": "2024-08-04T19:29:26.715Z"
   },
   {
    "duration": 51,
    "start_time": "2024-08-04T19:29:26.733Z"
   },
   {
    "duration": 14,
    "start_time": "2024-08-04T19:29:26.785Z"
   },
   {
    "duration": 5,
    "start_time": "2024-08-04T19:42:43.218Z"
   },
   {
    "duration": 5,
    "start_time": "2024-08-04T19:44:34.697Z"
   },
   {
    "duration": 5,
    "start_time": "2024-08-04T19:47:33.031Z"
   },
   {
    "duration": 6,
    "start_time": "2024-08-04T19:47:55.251Z"
   },
   {
    "duration": 6,
    "start_time": "2024-08-04T19:48:00.710Z"
   },
   {
    "duration": 5,
    "start_time": "2024-08-04T19:48:08.738Z"
   },
   {
    "duration": 5,
    "start_time": "2024-08-04T19:48:23.831Z"
   },
   {
    "duration": 4,
    "start_time": "2024-08-04T19:50:09.125Z"
   },
   {
    "duration": 1377,
    "start_time": "2024-08-05T04:13:46.482Z"
   },
   {
    "duration": 248,
    "start_time": "2024-08-05T04:13:47.861Z"
   },
   {
    "duration": 14,
    "start_time": "2024-08-05T04:13:48.110Z"
   },
   {
    "duration": 10,
    "start_time": "2024-08-05T04:13:48.126Z"
   },
   {
    "duration": 10,
    "start_time": "2024-08-05T04:13:48.138Z"
   },
   {
    "duration": 9,
    "start_time": "2024-08-05T04:13:48.150Z"
   },
   {
    "duration": 50,
    "start_time": "2024-08-05T04:13:48.161Z"
   },
   {
    "duration": 5,
    "start_time": "2024-08-05T04:13:48.213Z"
   },
   {
    "duration": 27,
    "start_time": "2024-08-05T04:13:48.220Z"
   },
   {
    "duration": 3,
    "start_time": "2024-08-05T04:13:48.249Z"
   },
   {
    "duration": 21,
    "start_time": "2024-08-05T04:13:48.253Z"
   },
   {
    "duration": 15,
    "start_time": "2024-08-05T04:13:48.275Z"
   },
   {
    "duration": 5,
    "start_time": "2024-08-05T04:13:48.291Z"
   },
   {
    "duration": 10,
    "start_time": "2024-08-05T04:13:48.297Z"
   },
   {
    "duration": 11,
    "start_time": "2024-08-05T04:13:48.308Z"
   },
   {
    "duration": 3,
    "start_time": "2024-08-05T04:13:48.320Z"
   },
   {
    "duration": 60,
    "start_time": "2024-08-05T04:13:48.325Z"
   },
   {
    "duration": 21,
    "start_time": "2024-08-05T04:13:48.386Z"
   },
   {
    "duration": 4,
    "start_time": "2024-08-05T04:13:48.409Z"
   },
   {
    "duration": 8,
    "start_time": "2024-08-05T04:13:48.414Z"
   },
   {
    "duration": 10,
    "start_time": "2024-08-05T04:13:48.423Z"
   },
   {
    "duration": 269,
    "start_time": "2024-08-05T04:13:48.434Z"
   },
   {
    "duration": 6,
    "start_time": "2024-08-05T04:13:48.705Z"
   },
   {
    "duration": 6,
    "start_time": "2024-08-05T04:13:48.713Z"
   },
   {
    "duration": 324,
    "start_time": "2024-08-05T04:13:48.721Z"
   },
   {
    "duration": 223,
    "start_time": "2024-08-05T04:13:49.046Z"
   },
   {
    "duration": 365,
    "start_time": "2024-08-05T04:13:49.271Z"
   },
   {
    "duration": 245,
    "start_time": "2024-08-05T04:13:49.639Z"
   },
   {
    "duration": 334,
    "start_time": "2024-08-05T04:13:49.886Z"
   },
   {
    "duration": 256,
    "start_time": "2024-08-05T04:13:50.221Z"
   },
   {
    "duration": 6,
    "start_time": "2024-08-05T04:13:50.479Z"
   },
   {
    "duration": 7,
    "start_time": "2024-08-05T04:13:50.486Z"
   },
   {
    "duration": 172,
    "start_time": "2024-08-05T04:13:50.495Z"
   },
   {
    "duration": 198,
    "start_time": "2024-08-05T04:13:50.669Z"
   },
   {
    "duration": 6,
    "start_time": "2024-08-05T04:13:50.869Z"
   },
   {
    "duration": 9,
    "start_time": "2024-08-05T04:13:50.877Z"
   },
   {
    "duration": 440,
    "start_time": "2024-08-05T04:13:50.888Z"
   },
   {
    "duration": 11,
    "start_time": "2024-08-05T04:13:51.330Z"
   },
   {
    "duration": 23,
    "start_time": "2024-08-05T04:13:51.342Z"
   },
   {
    "duration": 11,
    "start_time": "2024-08-05T04:13:51.366Z"
   },
   {
    "duration": 30,
    "start_time": "2024-08-05T04:13:51.378Z"
   },
   {
    "duration": 13,
    "start_time": "2024-08-05T04:13:51.409Z"
   },
   {
    "duration": 5,
    "start_time": "2024-08-05T04:13:51.423Z"
   },
   {
    "duration": 5,
    "start_time": "2024-08-05T04:13:51.429Z"
   },
   {
    "duration": 11,
    "start_time": "2024-08-05T04:21:01.788Z"
   },
   {
    "duration": 48,
    "start_time": "2024-08-05T04:29:21.053Z"
   },
   {
    "duration": 1378,
    "start_time": "2024-08-05T04:29:29.180Z"
   },
   {
    "duration": 236,
    "start_time": "2024-08-05T04:29:30.560Z"
   },
   {
    "duration": 14,
    "start_time": "2024-08-05T04:29:30.798Z"
   },
   {
    "duration": 124,
    "start_time": "2024-08-05T04:29:30.814Z"
   },
   {
    "duration": 404,
    "start_time": "2024-08-05T04:29:30.941Z"
   },
   {
    "duration": 113,
    "start_time": "2024-08-05T04:29:31.346Z"
   },
   {
    "duration": 97,
    "start_time": "2024-08-05T04:29:31.461Z"
   },
   {
    "duration": 6,
    "start_time": "2024-08-05T04:29:31.560Z"
   },
   {
    "duration": 207,
    "start_time": "2024-08-05T04:29:31.571Z"
   },
   {
    "duration": 48,
    "start_time": "2024-08-05T04:29:31.780Z"
   },
   {
    "duration": 28,
    "start_time": "2024-08-05T04:29:31.830Z"
   },
   {
    "duration": 125,
    "start_time": "2024-08-05T04:29:31.860Z"
   },
   {
    "duration": 100,
    "start_time": "2024-08-05T04:29:31.987Z"
   },
   {
    "duration": 43,
    "start_time": "2024-08-05T04:29:32.091Z"
   },
   {
    "duration": 35,
    "start_time": "2024-08-05T04:29:32.136Z"
   },
   {
    "duration": 31,
    "start_time": "2024-08-05T04:29:32.174Z"
   },
   {
    "duration": 39,
    "start_time": "2024-08-05T04:29:32.207Z"
   },
   {
    "duration": 53,
    "start_time": "2024-08-05T04:29:32.248Z"
   },
   {
    "duration": 12,
    "start_time": "2024-08-05T04:29:32.303Z"
   },
   {
    "duration": 35,
    "start_time": "2024-08-05T04:29:32.316Z"
   },
   {
    "duration": 31,
    "start_time": "2024-08-05T04:29:32.353Z"
   },
   {
    "duration": 415,
    "start_time": "2024-08-05T04:29:32.386Z"
   },
   {
    "duration": 6,
    "start_time": "2024-08-05T04:29:32.804Z"
   },
   {
    "duration": 16,
    "start_time": "2024-08-05T04:29:32.814Z"
   },
   {
    "duration": 353,
    "start_time": "2024-08-05T04:29:32.832Z"
   },
   {
    "duration": 247,
    "start_time": "2024-08-05T04:29:33.187Z"
   },
   {
    "duration": 400,
    "start_time": "2024-08-05T04:29:33.435Z"
   },
   {
    "duration": 242,
    "start_time": "2024-08-05T04:29:33.837Z"
   },
   {
    "duration": 425,
    "start_time": "2024-08-05T04:29:34.081Z"
   },
   {
    "duration": 192,
    "start_time": "2024-08-05T04:29:34.508Z"
   },
   {
    "duration": 6,
    "start_time": "2024-08-05T04:29:34.702Z"
   },
   {
    "duration": 19,
    "start_time": "2024-08-05T04:29:34.710Z"
   },
   {
    "duration": 197,
    "start_time": "2024-08-05T04:29:34.731Z"
   },
   {
    "duration": 186,
    "start_time": "2024-08-05T04:29:34.929Z"
   },
   {
    "duration": 7,
    "start_time": "2024-08-05T04:29:35.116Z"
   },
   {
    "duration": 22,
    "start_time": "2024-08-05T04:29:35.125Z"
   },
   {
    "duration": 494,
    "start_time": "2024-08-05T04:29:35.149Z"
   },
   {
    "duration": 11,
    "start_time": "2024-08-05T04:29:35.646Z"
   },
   {
    "duration": 20,
    "start_time": "2024-08-05T04:29:35.659Z"
   },
   {
    "duration": 10,
    "start_time": "2024-08-05T04:29:35.680Z"
   },
   {
    "duration": 47,
    "start_time": "2024-08-05T04:29:35.695Z"
   },
   {
    "duration": 16,
    "start_time": "2024-08-05T04:29:35.744Z"
   },
   {
    "duration": 127,
    "start_time": "2024-08-05T04:29:35.761Z"
   },
   {
    "duration": 0,
    "start_time": "2024-08-05T04:29:35.890Z"
   },
   {
    "duration": 0,
    "start_time": "2024-08-05T04:29:35.891Z"
   },
   {
    "duration": 3,
    "start_time": "2024-08-05T04:30:01.798Z"
   },
   {
    "duration": 9,
    "start_time": "2024-08-05T04:30:10.132Z"
   },
   {
    "duration": 4,
    "start_time": "2024-08-05T04:30:16.878Z"
   },
   {
    "duration": 4,
    "start_time": "2024-08-05T04:32:05.442Z"
   },
   {
    "duration": 7,
    "start_time": "2024-08-05T04:32:11.892Z"
   },
   {
    "duration": 14,
    "start_time": "2024-08-05T04:32:18.412Z"
   },
   {
    "duration": 12,
    "start_time": "2024-08-05T04:32:31.392Z"
   },
   {
    "duration": 7,
    "start_time": "2024-08-05T04:32:44.612Z"
   },
   {
    "duration": 4,
    "start_time": "2024-08-05T04:32:46.992Z"
   },
   {
    "duration": 5,
    "start_time": "2024-08-05T04:33:03.798Z"
   },
   {
    "duration": 11,
    "start_time": "2024-08-05T04:34:37.152Z"
   },
   {
    "duration": 6,
    "start_time": "2024-08-05T04:34:44.410Z"
   },
   {
    "duration": 6,
    "start_time": "2024-08-05T04:35:33.157Z"
   },
   {
    "duration": 5,
    "start_time": "2024-08-05T04:35:36.888Z"
   },
   {
    "duration": 5,
    "start_time": "2024-08-05T04:35:49.732Z"
   },
   {
    "duration": 5,
    "start_time": "2024-08-05T04:36:01.013Z"
   },
   {
    "duration": 4,
    "start_time": "2024-08-05T04:37:55.154Z"
   },
   {
    "duration": 6,
    "start_time": "2024-08-05T04:42:19.203Z"
   },
   {
    "duration": 3,
    "start_time": "2024-08-05T04:42:39.491Z"
   },
   {
    "duration": 4,
    "start_time": "2024-08-05T04:42:48.713Z"
   },
   {
    "duration": 5,
    "start_time": "2024-08-05T04:42:54.771Z"
   },
   {
    "duration": 5,
    "start_time": "2024-08-05T04:43:07.453Z"
   },
   {
    "duration": 67,
    "start_time": "2024-08-05T04:46:36.543Z"
   },
   {
    "duration": 5,
    "start_time": "2024-08-05T04:46:56.162Z"
   },
   {
    "duration": 65,
    "start_time": "2024-08-05T04:47:18.283Z"
   },
   {
    "duration": 9,
    "start_time": "2024-08-05T04:47:26.944Z"
   },
   {
    "duration": 6,
    "start_time": "2024-08-05T04:48:28.362Z"
   },
   {
    "duration": 4,
    "start_time": "2024-08-05T04:49:59.598Z"
   },
   {
    "duration": 5,
    "start_time": "2024-08-05T04:50:06.275Z"
   },
   {
    "duration": 5,
    "start_time": "2024-08-05T04:51:49.811Z"
   },
   {
    "duration": 7,
    "start_time": "2024-08-05T04:51:55.843Z"
   },
   {
    "duration": 1381,
    "start_time": "2024-08-05T04:53:35.343Z"
   },
   {
    "duration": 84,
    "start_time": "2024-08-05T04:53:36.727Z"
   },
   {
    "duration": 14,
    "start_time": "2024-08-05T04:53:36.812Z"
   },
   {
    "duration": 15,
    "start_time": "2024-08-05T04:53:36.828Z"
   },
   {
    "duration": 26,
    "start_time": "2024-08-05T04:53:36.845Z"
   },
   {
    "duration": 15,
    "start_time": "2024-08-05T04:53:36.873Z"
   },
   {
    "duration": 85,
    "start_time": "2024-08-05T04:53:36.890Z"
   },
   {
    "duration": 6,
    "start_time": "2024-08-05T04:53:36.977Z"
   },
   {
    "duration": 40,
    "start_time": "2024-08-05T04:53:36.985Z"
   },
   {
    "duration": 39,
    "start_time": "2024-08-05T04:53:37.027Z"
   },
   {
    "duration": 38,
    "start_time": "2024-08-05T04:53:37.069Z"
   },
   {
    "duration": 5,
    "start_time": "2024-08-05T04:53:37.108Z"
   },
   {
    "duration": 6,
    "start_time": "2024-08-05T04:53:37.115Z"
   },
   {
    "duration": 9,
    "start_time": "2024-08-05T04:53:37.124Z"
   },
   {
    "duration": 16,
    "start_time": "2024-08-05T04:53:37.135Z"
   },
   {
    "duration": 6,
    "start_time": "2024-08-05T04:53:37.152Z"
   },
   {
    "duration": 8,
    "start_time": "2024-08-05T04:53:37.160Z"
   },
   {
    "duration": 26,
    "start_time": "2024-08-05T04:53:37.170Z"
   },
   {
    "duration": 4,
    "start_time": "2024-08-05T04:53:37.198Z"
   },
   {
    "duration": 31,
    "start_time": "2024-08-05T04:53:37.204Z"
   },
   {
    "duration": 16,
    "start_time": "2024-08-05T04:53:37.237Z"
   },
   {
    "duration": 351,
    "start_time": "2024-08-05T04:53:37.256Z"
   },
   {
    "duration": 5,
    "start_time": "2024-08-05T04:53:37.609Z"
   },
   {
    "duration": 10,
    "start_time": "2024-08-05T04:53:37.615Z"
   },
   {
    "duration": 379,
    "start_time": "2024-08-05T04:53:37.627Z"
   },
   {
    "duration": 260,
    "start_time": "2024-08-05T04:53:38.008Z"
   },
   {
    "duration": 375,
    "start_time": "2024-08-05T04:53:38.272Z"
   },
   {
    "duration": 272,
    "start_time": "2024-08-05T04:53:38.657Z"
   },
   {
    "duration": 402,
    "start_time": "2024-08-05T04:53:38.930Z"
   },
   {
    "duration": 274,
    "start_time": "2024-08-05T04:53:39.333Z"
   },
   {
    "duration": 6,
    "start_time": "2024-08-05T04:53:39.609Z"
   },
   {
    "duration": 8,
    "start_time": "2024-08-05T04:53:39.617Z"
   },
   {
    "duration": 19,
    "start_time": "2024-08-05T04:53:39.626Z"
   },
   {
    "duration": 199,
    "start_time": "2024-08-05T04:53:39.648Z"
   },
   {
    "duration": 217,
    "start_time": "2024-08-05T04:53:39.861Z"
   },
   {
    "duration": 9,
    "start_time": "2024-08-05T04:53:40.080Z"
   },
   {
    "duration": 5,
    "start_time": "2024-08-05T04:53:40.091Z"
   },
   {
    "duration": 28,
    "start_time": "2024-08-05T04:53:40.099Z"
   },
   {
    "duration": 673,
    "start_time": "2024-08-05T04:53:40.130Z"
   },
   {
    "duration": 11,
    "start_time": "2024-08-05T04:53:40.805Z"
   },
   {
    "duration": 27,
    "start_time": "2024-08-05T04:53:40.820Z"
   },
   {
    "duration": 18,
    "start_time": "2024-08-05T04:53:40.849Z"
   },
   {
    "duration": 28,
    "start_time": "2024-08-05T04:53:40.869Z"
   },
   {
    "duration": 15,
    "start_time": "2024-08-05T04:53:40.899Z"
   },
   {
    "duration": 36,
    "start_time": "2024-08-05T04:53:40.915Z"
   },
   {
    "duration": 6,
    "start_time": "2024-08-05T04:53:40.953Z"
   },
   {
    "duration": 72,
    "start_time": "2024-08-05T05:04:25.932Z"
   },
   {
    "duration": 10,
    "start_time": "2024-08-05T05:07:43.605Z"
   },
   {
    "duration": 1754,
    "start_time": "2024-08-05T07:26:55.240Z"
   },
   {
    "duration": 230,
    "start_time": "2024-08-05T07:26:56.996Z"
   },
   {
    "duration": 19,
    "start_time": "2024-08-05T07:26:57.229Z"
   },
   {
    "duration": 22,
    "start_time": "2024-08-05T07:26:57.251Z"
   },
   {
    "duration": 12,
    "start_time": "2024-08-05T07:26:57.275Z"
   },
   {
    "duration": 17,
    "start_time": "2024-08-05T07:26:57.289Z"
   },
   {
    "duration": 59,
    "start_time": "2024-08-05T07:26:57.307Z"
   },
   {
    "duration": 6,
    "start_time": "2024-08-05T07:26:57.367Z"
   },
   {
    "duration": 43,
    "start_time": "2024-08-05T07:26:57.375Z"
   },
   {
    "duration": 3,
    "start_time": "2024-08-05T07:26:57.420Z"
   },
   {
    "duration": 15,
    "start_time": "2024-08-05T07:26:57.425Z"
   },
   {
    "duration": 12,
    "start_time": "2024-08-05T07:26:57.441Z"
   },
   {
    "duration": 9,
    "start_time": "2024-08-05T07:26:57.455Z"
   },
   {
    "duration": 26,
    "start_time": "2024-08-05T07:26:57.466Z"
   },
   {
    "duration": 22,
    "start_time": "2024-08-05T07:26:57.494Z"
   },
   {
    "duration": 9,
    "start_time": "2024-08-05T07:26:57.517Z"
   },
   {
    "duration": 7,
    "start_time": "2024-08-05T07:26:57.527Z"
   },
   {
    "duration": 21,
    "start_time": "2024-08-05T07:26:57.535Z"
   },
   {
    "duration": 4,
    "start_time": "2024-08-05T07:26:57.558Z"
   },
   {
    "duration": 5,
    "start_time": "2024-08-05T07:26:57.564Z"
   },
   {
    "duration": 5,
    "start_time": "2024-08-05T07:26:57.571Z"
   },
   {
    "duration": 328,
    "start_time": "2024-08-05T07:26:57.577Z"
   },
   {
    "duration": 5,
    "start_time": "2024-08-05T07:26:57.907Z"
   },
   {
    "duration": 5,
    "start_time": "2024-08-05T07:26:57.913Z"
   },
   {
    "duration": 346,
    "start_time": "2024-08-05T07:26:57.920Z"
   },
   {
    "duration": 267,
    "start_time": "2024-08-05T07:26:58.267Z"
   },
   {
    "duration": 385,
    "start_time": "2024-08-05T07:26:58.535Z"
   },
   {
    "duration": 243,
    "start_time": "2024-08-05T07:26:58.924Z"
   },
   {
    "duration": 360,
    "start_time": "2024-08-05T07:26:59.169Z"
   },
   {
    "duration": 228,
    "start_time": "2024-08-05T07:26:59.531Z"
   },
   {
    "duration": 7,
    "start_time": "2024-08-05T07:26:59.761Z"
   },
   {
    "duration": 5,
    "start_time": "2024-08-05T07:26:59.769Z"
   },
   {
    "duration": 193,
    "start_time": "2024-08-05T07:26:59.776Z"
   },
   {
    "duration": 194,
    "start_time": "2024-08-05T07:26:59.970Z"
   },
   {
    "duration": 8,
    "start_time": "2024-08-05T07:27:00.166Z"
   },
   {
    "duration": 198,
    "start_time": "2024-08-05T07:27:00.176Z"
   },
   {
    "duration": 585,
    "start_time": "2024-08-05T07:27:00.376Z"
   },
   {
    "duration": 12,
    "start_time": "2024-08-05T07:27:00.963Z"
   },
   {
    "duration": 181,
    "start_time": "2024-08-05T07:27:00.977Z"
   },
   {
    "duration": 81,
    "start_time": "2024-08-05T07:27:01.160Z"
   },
   {
    "duration": 59,
    "start_time": "2024-08-05T07:27:01.243Z"
   },
   {
    "duration": 94,
    "start_time": "2024-08-05T07:27:01.304Z"
   },
   {
    "duration": 92,
    "start_time": "2024-08-05T07:27:01.399Z"
   },
   {
    "duration": 30,
    "start_time": "2024-08-05T07:27:01.493Z"
   }
  ],
  "kernelspec": {
   "display_name": "Python 3 (ipykernel)",
   "language": "python",
   "name": "python3"
  },
  "language_info": {
   "codemirror_mode": {
    "name": "ipython",
    "version": 3
   },
   "file_extension": ".py",
   "mimetype": "text/x-python",
   "name": "python",
   "nbconvert_exporter": "python",
   "pygments_lexer": "ipython3",
   "version": "3.11.5"
  },
  "toc": {
   "base_numbering": 1,
   "nav_menu": {
    "height": "156.975px",
    "width": "315.994px"
   },
   "number_sections": true,
   "sideBar": true,
   "skip_h1_title": true,
   "title_cell": "Table of Contents",
   "title_sidebar": "Contents",
   "toc_cell": false,
   "toc_position": {
    "height": "819.6px",
    "left": "61px",
    "top": "111.638px",
    "width": "460.8px"
   },
   "toc_section_display": true,
   "toc_window_display": true
  }
 },
 "nbformat": 4,
 "nbformat_minor": 2
}
